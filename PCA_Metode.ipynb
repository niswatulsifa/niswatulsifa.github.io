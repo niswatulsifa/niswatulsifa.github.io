{
  "nbformat": 4,
  "nbformat_minor": 0,
  "metadata": {
    "colab": {
      "provenance": []
    },
    "kernelspec": {
      "name": "python3",
      "display_name": "Python 3"
    },
    "language_info": {
      "name": "python"
    }
  },
  "cells": [
    {
      "cell_type": "markdown",
      "source": [
        "#**Implementasi PCA pada beberapa Metode**"
      ],
      "metadata": {
        "id": "siBWlKn-UDFo"
      }
    },
    {
      "cell_type": "markdown",
      "source": [
        "##Principal Component Analysis"
      ],
      "metadata": {
        "id": "VSt8nVRkgeRO"
      }
    },
    {
      "cell_type": "markdown",
      "source": [
        "Principal component analysis (PCA) adalah teknik yang digunakan untuk menyederhanakan suatu data, dengan cara mentransformasi data secara linier sehingga terbentuk sistem koordinat baru dengan varians maksimum. PCA dapat digunakan untuk mereduksi dimensi suatu data tanpa mengurangi karakteristik data tersebut secara signifikan. "
      ],
      "metadata": {
        "id": "2Y3GfXcEiOWY"
      }
    },
    {
      "cell_type": "markdown",
      "source": [
        "### Import Library"
      ],
      "metadata": {
        "id": "Y9IW6ifFtcmc"
      }
    },
    {
      "cell_type": "code",
      "execution_count": 85,
      "metadata": {
        "id": "q14eep7MdPLs"
      },
      "outputs": [],
      "source": [
        "import pandas as pd\n",
        "import numpy as np\n",
        "import seaborn as sns\n",
        "import matplotlib.pyplot as plt"
      ]
    },
    {
      "cell_type": "markdown",
      "source": [
        "Kode tersebut mengimpor beberapa pustaka yang umum digunakan dalam analisis dan visualisasi data di Python. Pandas (`pd`) digunakan untuk manipulasi data, NumPy (`np`) digunakan untuk operasi numerik, Seaborn (`sns`) digunakan untuk visualisasi data, dan Matplotlib (`plt`) digunakan untuk membuat plot dan grafik."
      ],
      "metadata": {
        "id": "piDM5WYYki2K"
      }
    },
    {
      "cell_type": "markdown",
      "source": [
        "###Import Dataset Iris dengan Dataframe Pandas\n"
      ],
      "metadata": {
        "id": "pWdN57RytiIc"
      }
    },
    {
      "cell_type": "code",
      "source": [
        "df=pd.read_csv('https://raw.githubusercontent.com/niswatulsifa/data_iris/master/IrisDataset.csv', sep=',')\n",
        "df.head()"
      ],
      "metadata": {
        "colab": {
          "base_uri": "https://localhost:8080/",
          "height": 206
        },
        "id": "gqiUHPI-dZJG",
        "outputId": "f1050967-50b3-4c98-c4e9-065a62065e41"
      },
      "execution_count": 86,
      "outputs": [
        {
          "output_type": "execute_result",
          "data": {
            "text/plain": [
              "   sepal_length  sepal_width  petal_length  petal_width species\n",
              "0           5.1          3.5           1.4          0.2  setosa\n",
              "1           4.9          3.0           1.4          0.2  setosa\n",
              "2           4.7          3.2           1.3          0.2  setosa\n",
              "3           4.6          3.1           1.5          0.2  setosa\n",
              "4           5.0          3.6           1.4          0.2  setosa"
            ],
            "text/html": [
              "\n",
              "  <div id=\"df-d88295c6-6c0a-4e01-8139-d08fe6680fb8\">\n",
              "    <div class=\"colab-df-container\">\n",
              "      <div>\n",
              "<style scoped>\n",
              "    .dataframe tbody tr th:only-of-type {\n",
              "        vertical-align: middle;\n",
              "    }\n",
              "\n",
              "    .dataframe tbody tr th {\n",
              "        vertical-align: top;\n",
              "    }\n",
              "\n",
              "    .dataframe thead th {\n",
              "        text-align: right;\n",
              "    }\n",
              "</style>\n",
              "<table border=\"1\" class=\"dataframe\">\n",
              "  <thead>\n",
              "    <tr style=\"text-align: right;\">\n",
              "      <th></th>\n",
              "      <th>sepal_length</th>\n",
              "      <th>sepal_width</th>\n",
              "      <th>petal_length</th>\n",
              "      <th>petal_width</th>\n",
              "      <th>species</th>\n",
              "    </tr>\n",
              "  </thead>\n",
              "  <tbody>\n",
              "    <tr>\n",
              "      <th>0</th>\n",
              "      <td>5.1</td>\n",
              "      <td>3.5</td>\n",
              "      <td>1.4</td>\n",
              "      <td>0.2</td>\n",
              "      <td>setosa</td>\n",
              "    </tr>\n",
              "    <tr>\n",
              "      <th>1</th>\n",
              "      <td>4.9</td>\n",
              "      <td>3.0</td>\n",
              "      <td>1.4</td>\n",
              "      <td>0.2</td>\n",
              "      <td>setosa</td>\n",
              "    </tr>\n",
              "    <tr>\n",
              "      <th>2</th>\n",
              "      <td>4.7</td>\n",
              "      <td>3.2</td>\n",
              "      <td>1.3</td>\n",
              "      <td>0.2</td>\n",
              "      <td>setosa</td>\n",
              "    </tr>\n",
              "    <tr>\n",
              "      <th>3</th>\n",
              "      <td>4.6</td>\n",
              "      <td>3.1</td>\n",
              "      <td>1.5</td>\n",
              "      <td>0.2</td>\n",
              "      <td>setosa</td>\n",
              "    </tr>\n",
              "    <tr>\n",
              "      <th>4</th>\n",
              "      <td>5.0</td>\n",
              "      <td>3.6</td>\n",
              "      <td>1.4</td>\n",
              "      <td>0.2</td>\n",
              "      <td>setosa</td>\n",
              "    </tr>\n",
              "  </tbody>\n",
              "</table>\n",
              "</div>\n",
              "      <button class=\"colab-df-convert\" onclick=\"convertToInteractive('df-d88295c6-6c0a-4e01-8139-d08fe6680fb8')\"\n",
              "              title=\"Convert this dataframe to an interactive table.\"\n",
              "              style=\"display:none;\">\n",
              "        \n",
              "  <svg xmlns=\"http://www.w3.org/2000/svg\" height=\"24px\"viewBox=\"0 0 24 24\"\n",
              "       width=\"24px\">\n",
              "    <path d=\"M0 0h24v24H0V0z\" fill=\"none\"/>\n",
              "    <path d=\"M18.56 5.44l.94 2.06.94-2.06 2.06-.94-2.06-.94-.94-2.06-.94 2.06-2.06.94zm-11 1L8.5 8.5l.94-2.06 2.06-.94-2.06-.94L8.5 2.5l-.94 2.06-2.06.94zm10 10l.94 2.06.94-2.06 2.06-.94-2.06-.94-.94-2.06-.94 2.06-2.06.94z\"/><path d=\"M17.41 7.96l-1.37-1.37c-.4-.4-.92-.59-1.43-.59-.52 0-1.04.2-1.43.59L10.3 9.45l-7.72 7.72c-.78.78-.78 2.05 0 2.83L4 21.41c.39.39.9.59 1.41.59.51 0 1.02-.2 1.41-.59l7.78-7.78 2.81-2.81c.8-.78.8-2.07 0-2.86zM5.41 20L4 18.59l7.72-7.72 1.47 1.35L5.41 20z\"/>\n",
              "  </svg>\n",
              "      </button>\n",
              "      \n",
              "  <style>\n",
              "    .colab-df-container {\n",
              "      display:flex;\n",
              "      flex-wrap:wrap;\n",
              "      gap: 12px;\n",
              "    }\n",
              "\n",
              "    .colab-df-convert {\n",
              "      background-color: #E8F0FE;\n",
              "      border: none;\n",
              "      border-radius: 50%;\n",
              "      cursor: pointer;\n",
              "      display: none;\n",
              "      fill: #1967D2;\n",
              "      height: 32px;\n",
              "      padding: 0 0 0 0;\n",
              "      width: 32px;\n",
              "    }\n",
              "\n",
              "    .colab-df-convert:hover {\n",
              "      background-color: #E2EBFA;\n",
              "      box-shadow: 0px 1px 2px rgba(60, 64, 67, 0.3), 0px 1px 3px 1px rgba(60, 64, 67, 0.15);\n",
              "      fill: #174EA6;\n",
              "    }\n",
              "\n",
              "    [theme=dark] .colab-df-convert {\n",
              "      background-color: #3B4455;\n",
              "      fill: #D2E3FC;\n",
              "    }\n",
              "\n",
              "    [theme=dark] .colab-df-convert:hover {\n",
              "      background-color: #434B5C;\n",
              "      box-shadow: 0px 1px 3px 1px rgba(0, 0, 0, 0.15);\n",
              "      filter: drop-shadow(0px 1px 2px rgba(0, 0, 0, 0.3));\n",
              "      fill: #FFFFFF;\n",
              "    }\n",
              "  </style>\n",
              "\n",
              "      <script>\n",
              "        const buttonEl =\n",
              "          document.querySelector('#df-d88295c6-6c0a-4e01-8139-d08fe6680fb8 button.colab-df-convert');\n",
              "        buttonEl.style.display =\n",
              "          google.colab.kernel.accessAllowed ? 'block' : 'none';\n",
              "\n",
              "        async function convertToInteractive(key) {\n",
              "          const element = document.querySelector('#df-d88295c6-6c0a-4e01-8139-d08fe6680fb8');\n",
              "          const dataTable =\n",
              "            await google.colab.kernel.invokeFunction('convertToInteractive',\n",
              "                                                     [key], {});\n",
              "          if (!dataTable) return;\n",
              "\n",
              "          const docLinkHtml = 'Like what you see? Visit the ' +\n",
              "            '<a target=\"_blank\" href=https://colab.research.google.com/notebooks/data_table.ipynb>data table notebook</a>'\n",
              "            + ' to learn more about interactive tables.';\n",
              "          element.innerHTML = '';\n",
              "          dataTable['output_type'] = 'display_data';\n",
              "          await google.colab.output.renderOutput(dataTable, element);\n",
              "          const docLink = document.createElement('div');\n",
              "          docLink.innerHTML = docLinkHtml;\n",
              "          element.appendChild(docLink);\n",
              "        }\n",
              "      </script>\n",
              "    </div>\n",
              "  </div>\n",
              "  "
            ]
          },
          "metadata": {},
          "execution_count": 86
        }
      ]
    },
    {
      "cell_type": "markdown",
      "source": [
        "1. `df=pd.read_csv('https://raw.githubusercontent.com/niswatulsifa/data_iris/master/IrisDataset.csv', sep=',')`: Kode ini menggunakan fungsi `read_csv()` dari pustaka pandas (`pd`) untuk membaca file CSV dari URL yang diberikan. File CSV tersebut merupakan dataset Iris yang diambil dari repositori GitHub. Parameter `sep=','` digunakan untuk menentukan pemisah antar kolom dalam file CSV.\n",
        "\n",
        "2. `df.head()`: Kode ini digunakan untuk mencetak lima baris pertama dari DataFrame `df`. Fungsi `head()` adalah salah satu metode pandas yang berguna untuk melihat beberapa baris awal dari sebuah DataFrame."
      ],
      "metadata": {
        "id": "TloUtgCxkzLN"
      }
    },
    {
      "cell_type": "markdown",
      "source": [
        "###menghitung jumlah kemunculan setiap nilai unik dalam kolom 'species'"
      ],
      "metadata": {
        "id": "Vy24JAiptoos"
      }
    },
    {
      "cell_type": "code",
      "source": [
        "df['species'].value_counts()"
      ],
      "metadata": {
        "colab": {
          "base_uri": "https://localhost:8080/"
        },
        "id": "KGRZ5mSmdcvb",
        "outputId": "d89ce42d-2153-4617-c74a-8c92d92e913b"
      },
      "execution_count": 87,
      "outputs": [
        {
          "output_type": "execute_result",
          "data": {
            "text/plain": [
              "setosa        50\n",
              "versicolor    50\n",
              "virginica     50\n",
              "Name: species, dtype: int64"
            ]
          },
          "metadata": {},
          "execution_count": 87
        }
      ]
    },
    {
      "cell_type": "markdown",
      "source": [
        "Kode tersebut menghitung jumlah kemunculan setiap nilai unik dalam kolom 'species' dari DataFrame `df` dan menampilkannya."
      ],
      "metadata": {
        "id": "ELhqf638lD6r"
      }
    },
    {
      "cell_type": "markdown",
      "source": [
        "###mengembalikan daftar kolom yang ada dalam DataFrame"
      ],
      "metadata": {
        "id": "NrAWHMqhtyJ5"
      }
    },
    {
      "cell_type": "code",
      "source": [
        "df.columns"
      ],
      "metadata": {
        "colab": {
          "base_uri": "https://localhost:8080/"
        },
        "id": "juWL41UJdei6",
        "outputId": "6945a6ed-998a-4b8b-df7d-4c94ff9a103d"
      },
      "execution_count": 88,
      "outputs": [
        {
          "output_type": "execute_result",
          "data": {
            "text/plain": [
              "Index(['sepal_length', 'sepal_width', 'petal_length', 'petal_width',\n",
              "       'species'],\n",
              "      dtype='object')"
            ]
          },
          "metadata": {},
          "execution_count": 88
        }
      ]
    },
    {
      "cell_type": "markdown",
      "source": [
        "Kode tersebut mengembalikan daftar kolom yang ada dalam DataFrame `df`."
      ],
      "metadata": {
        "id": "QLdPf8ullOM2"
      }
    },
    {
      "cell_type": "markdown",
      "source": [
        "###memisahkan data dalam DataFrame\n"
      ],
      "metadata": {
        "id": "h8P0wX2bt7tZ"
      }
    },
    {
      "cell_type": "code",
      "source": [
        "X=df.iloc[:,0:4].values\n",
        "y=df.iloc[:,4].values"
      ],
      "metadata": {
        "id": "v2Mw86wddgqz"
      },
      "execution_count": 89,
      "outputs": []
    },
    {
      "cell_type": "markdown",
      "source": [
        "1. X=df.iloc[:,0:4].values mengambil nilai-nilai dari kolom 0 hingga 3 dari DataFrame df dan menyimpannya dalam variabel X.\n",
        "\n",
        "2. y=df.iloc[:,4].values mengambil nilai-nilai dari kolom ke-4 (kolom \"species\") dari DataFrame df dan menyimpannya dalam variabel y."
      ],
      "metadata": {
        "id": "ucOkIjDslwNx"
      }
    },
    {
      "cell_type": "markdown",
      "source": [
        "###membuat gambar histogram dari empat fitur dalam DataFrame 'X'"
      ],
      "metadata": {
        "id": "Lpx5rePDuChH"
      }
    },
    {
      "cell_type": "code",
      "source": [
        "label_dict={1: 'setosa',\n",
        "           2: 'versicolor',\n",
        "           3: 'virginica'}\n",
        "feature_dict={0: 'sepal_length',1: 'sepal_width',2: 'petal_length',3: 'petal_width'}\n",
        "\n",
        "with plt.style.context('seaborn-whitegrid'):\n",
        "    plt.figure(figsize=(8,6))\n",
        "    for i in range(4):\n",
        "        plt.subplot(2,2,i+1)\n",
        "        for lab in ('setosa','versicolor','virginica'):\n",
        "            plt.hist(X[y==lab, i],\n",
        "                    label=lab,\n",
        "                    bins=10,\n",
        "                    alpha=0.3)\n",
        "        plt.xlabel(feature_dict[i])\n",
        "    plt.legend(loc='upper right', fancybox=True,fontsize=8)\n",
        "    \n",
        "    plt.tight_layout()\n",
        "    plt.show()"
      ],
      "metadata": {
        "colab": {
          "base_uri": "https://localhost:8080/",
          "height": 607
        },
        "id": "-v8XVPmVdihm",
        "outputId": "321fd918-70f8-4878-d685-b43e64041e4b"
      },
      "execution_count": 90,
      "outputs": [
        {
          "output_type": "display_data",
          "data": {
            "text/plain": [
              "<Figure size 800x600 with 4 Axes>"
            ],
            "image/png": "[encoded data removed]"
          },
          "metadata": {}
        }
      ]
    },
    {
      "cell_type": "markdown",
      "source": [
        "1. label_dict adalah kamus yang memetakan nilai numerik (1, 2, 3) ke nama spesies (\"setosa\", \"versicolor\", \"virginica\").\n",
        "\n",
        "2. feature_dict adalah kamus yang memetakan indeks fitur (0, 1, 2, 3) ke nama fitur (\"sepal_length\", \"sepal_width\", \"petal_length\", \"petal_width\").\n",
        "\n",
        "3. with plt.style.context('seaborn-whitegrid'): mengatur gaya plot menjadi \"seaborn-whitegrid\".\n",
        "\n",
        "4. plt.figure(figsize=(8,6)) membuat gambar dengan ukuran 8x6.\n",
        "\n",
        "5. loop for i in range(4), kode berikutnya akan membuat subplot untuk setiap fitur.\n",
        "\n",
        "6. plt.subplot(2,2,i+1) mengatur subplot dengan ukuran 2x2.\n",
        "\n",
        "7. for lab in ('setosa','versicolor','virginica') akan mengulangi tiga spesies dan membuat histogram untuk setiap spesies dengan menggunakan data yang sesuai.\n",
        "\n",
        "8. plt.hist(X[y==lab, i], label=lab, bins=10, alpha=0.3) membuat histogram dengan menggunakan nilai fitur dari spesies yang sesuai. Parameter bins=10 mengatur jumlah bin histogram menjadi 10, dan alpha=0.3 mengatur transparansi histogram.\n",
        "\n",
        "9. plt.xlabel(feature_dict[i]) memberi label sumbu x pada subplot saat ini dengan nama fitur yang sesuai.\n",
        "\n",
        "10. plt.legend(loc='upper right', fancybox=True, fontsize=8) menampilkan legenda dengan label spesies di sudut kanan atas plot. Parameter fancybox=True mengatur tampilan kotak legenda yang bergaya.\n",
        "\n",
        "11. plt.tight_layout() menyesuaikan tata letak plot agar lebih rapi.\n",
        "plt.show() menampilkan plot histogram."
      ],
      "metadata": {
        "id": "QEqtkZxOl9k6"
      }
    },
    {
      "cell_type": "markdown",
      "source": [
        "###melakukan penskalaan standar pada data menggunakan library scikit-learn"
      ],
      "metadata": {
        "id": "Yr5WMO8xuHVL"
      }
    },
    {
      "cell_type": "code",
      "source": [
        "from sklearn.preprocessing import StandardScaler\n",
        "X_std=StandardScaler().fit_transform(X)"
      ],
      "metadata": {
        "id": "FmYWghebdlMm"
      },
      "execution_count": 91,
      "outputs": []
    },
    {
      "cell_type": "markdown",
      "source": [
        "###menghitung dan mencetak matriks kovarian dari data yang telah distandardisasi."
      ],
      "metadata": {
        "id": "ZOCOxqFAuMmQ"
      }
    },
    {
      "cell_type": "code",
      "source": [
        "mean_vec=np.mean(X_std,axis=0)\n",
        "cov_mat=(X_std-mean_vec).T.dot((X_std-mean_vec))/(X_std.shape[0]-1)\n",
        "print(\"Covariance Matrix \\n%s\" %cov_mat)"
      ],
      "metadata": {
        "colab": {
          "base_uri": "https://localhost:8080/"
        },
        "id": "_QlfD1Yadn9I",
        "outputId": "55bb316d-8bb3-40b2-b147-4bd2256a7aea"
      },
      "execution_count": 92,
      "outputs": [
        {
          "output_type": "stream",
          "name": "stdout",
          "text": [
            "Covariance Matrix \n",
            "[[ 1.00671141 -0.11010327  0.87760486  0.82344326]\n",
            " [-0.11010327  1.00671141 -0.42333835 -0.358937  ]\n",
            " [ 0.87760486 -0.42333835  1.00671141  0.96921855]\n",
            " [ 0.82344326 -0.358937    0.96921855  1.00671141]]\n"
          ]
        }
      ]
    },
    {
      "cell_type": "markdown",
      "source": [
        "Kode tersebut melakukan normalisasi data menggunakan StandardScaler dan kemudian menghitung matriks kovarian dari data yang telah dinormalisasi. Hasilnya dicetak sebagai \"Covariance Matrix\" diikuti oleh nilai matriks kovarian."
      ],
      "metadata": {
        "id": "v7ALlLTRmzbY"
      }
    },
    {
      "cell_type": "markdown",
      "source": [
        "###mencetak matriks kovarian menggunakan np.cov pada data yang telah distandardisasi."
      ],
      "metadata": {
        "id": "9mErzReDuVnn"
      }
    },
    {
      "cell_type": "code",
      "source": [
        "print(\"Numpy Covariance matrix \\n%s\" %np.cov(X_std.T))"
      ],
      "metadata": {
        "colab": {
          "base_uri": "https://localhost:8080/"
        },
        "id": "th5S6PKMdpl4",
        "outputId": "43277610-491d-460f-8164-0fb8c0b32b78"
      },
      "execution_count": 93,
      "outputs": [
        {
          "output_type": "stream",
          "name": "stdout",
          "text": [
            "Numpy Covariance matrix \n",
            "[[ 1.00671141 -0.11010327  0.87760486  0.82344326]\n",
            " [-0.11010327  1.00671141 -0.42333835 -0.358937  ]\n",
            " [ 0.87760486 -0.42333835  1.00671141  0.96921855]\n",
            " [ 0.82344326 -0.358937    0.96921855  1.00671141]]\n"
          ]
        }
      ]
    },
    {
      "cell_type": "markdown",
      "source": [
        "Kode tersebut menghitung matriks kovarian dari data yang telah dinormalisasi `X_std` menggunakan fungsi `np.cov()`. Hasilnya dicetak sebagai \"Numpy Covariance matrix\" diikuti oleh nilai matriks kovarian."
      ],
      "metadata": {
        "id": "Wt9NC98dnLu7"
      }
    },
    {
      "cell_type": "markdown",
      "source": [
        "###menghitung eigenvector dan eigenvalue dari matriks kovarian, dan mencetak hasilnya."
      ],
      "metadata": {
        "id": "CK4GvHuzua7G"
      }
    },
    {
      "cell_type": "code",
      "source": [
        "cov_mat=np.cov(X_std.T)\n",
        "\n",
        "eig_vals, eig_vecs=np.linalg.eig(cov_mat)\n",
        "\n",
        "print(\"Eigenvectors \\n%s\" %eig_vecs)\n",
        "print(\"Eigenvelues \\n%s\" %eig_vals)"
      ],
      "metadata": {
        "colab": {
          "base_uri": "https://localhost:8080/"
        },
        "id": "oqzGU8-SdrpL",
        "outputId": "65af35fd-f578-40b3-c653-f47ba202ead1"
      },
      "execution_count": 94,
      "outputs": [
        {
          "output_type": "stream",
          "name": "stdout",
          "text": [
            "Eigenvectors \n",
            "[[ 0.52237162 -0.37231836 -0.72101681  0.26199559]\n",
            " [-0.26335492 -0.92555649  0.24203288 -0.12413481]\n",
            " [ 0.58125401 -0.02109478  0.14089226 -0.80115427]\n",
            " [ 0.56561105 -0.06541577  0.6338014   0.52354627]]\n",
            "Eigenvelues \n",
            "[2.93035378 0.92740362 0.14834223 0.02074601]\n"
          ]
        }
      ]
    },
    {
      "cell_type": "markdown",
      "source": [
        "Kode tersebut menghitung eigenvektor dan eigennilai dari matriks kovarian menggunakan `np.linalg.eig()`. Hasilnya dicetak sebagai \"Eigenvectors\" diikuti oleh nilai eigenvektor, dan \"Eigenvalues\" diikuti oleh nilai eigennilai."
      ],
      "metadata": {
        "id": "rS9yLBhVnZ_c"
      }
    },
    {
      "cell_type": "markdown",
      "source": [
        "##Matriks Korelasi"
      ],
      "metadata": {
        "id": "cDOtClmgjHjp"
      }
    },
    {
      "cell_type": "markdown",
      "source": [
        "###menghitung matriks korelasi, eigenvector, dan eigenvalue, kemudian mencetak hasilnya."
      ],
      "metadata": {
        "id": "3IGKfHcMv6Rm"
      }
    },
    {
      "cell_type": "code",
      "source": [
        "corr_mat1=np.corrcoef(X_std.T)\n",
        "\n",
        "eig_vals, eig_vecs=np.linalg.eig(corr_mat1)\n",
        "\n",
        "print(\"Eigenvectors \\n%s\" %eig_vecs)\n",
        "print(\"Eigenvelues \\n%s\" %eig_vals)"
      ],
      "metadata": {
        "colab": {
          "base_uri": "https://localhost:8080/"
        },
        "id": "swCEwJF8duFh",
        "outputId": "3bf11736-78b8-4ba6-ed86-05a3fa181d54"
      },
      "execution_count": 95,
      "outputs": [
        {
          "output_type": "stream",
          "name": "stdout",
          "text": [
            "Eigenvectors \n",
            "[[ 0.52237162 -0.37231836 -0.72101681  0.26199559]\n",
            " [-0.26335492 -0.92555649  0.24203288 -0.12413481]\n",
            " [ 0.58125401 -0.02109478  0.14089226 -0.80115427]\n",
            " [ 0.56561105 -0.06541577  0.6338014   0.52354627]]\n",
            "Eigenvelues \n",
            "[2.91081808 0.92122093 0.14735328 0.02060771]\n"
          ]
        }
      ]
    },
    {
      "cell_type": "markdown",
      "source": [
        "Kode tersebut menghitung matriks korelasi `corr_mat1` dari data yang telah dinormalisasi `X_std` menggunakan fungsi `np.corrcoef()`. Selanjutnya, kode menghitung eigenvektor dan eigennilai dari matriks korelasi tersebut menggunakan `np.linalg.eig()`. Hasilnya dicetak sebagai \"Eigenvectors\" diikuti oleh nilai eigenvektor, dan \"Eigenvalues\" diikuti oleh nilai eigennilai."
      ],
      "metadata": {
        "id": "CY64foB9nhob"
      }
    },
    {
      "cell_type": "code",
      "source": [
        "cor_mat2=np.corrcoef(X.T)\n",
        "eig_vals, eig_vecs=np.linalg.eig(cor_mat2)\n",
        "\n",
        "print(\"Eigenvectors \\n%s\" %eig_vecs)\n",
        "print(\"Eigenvelues \\n%s\" %eig_vals)"
      ],
      "metadata": {
        "colab": {
          "base_uri": "https://localhost:8080/"
        },
        "id": "4wb5iHe00d4c",
        "outputId": "3c9f06fc-980e-4eee-9586-4f09d1289265"
      },
      "execution_count": 96,
      "outputs": [
        {
          "output_type": "stream",
          "name": "stdout",
          "text": [
            "Eigenvectors \n",
            "[[ 0.52237162 -0.37231836 -0.72101681  0.26199559]\n",
            " [-0.26335492 -0.92555649  0.24203288 -0.12413481]\n",
            " [ 0.58125401 -0.02109478  0.14089226 -0.80115427]\n",
            " [ 0.56561105 -0.06541577  0.6338014   0.52354627]]\n",
            "Eigenvelues \n",
            "[2.91081808 0.92122093 0.14735328 0.02060771]\n"
          ]
        }
      ]
    },
    {
      "cell_type": "markdown",
      "source": [
        "###menggunakan Singular Value Decomposition (SVD) pada transpose matriks X_std dan hasilnya disimpan dalam variabel u."
      ],
      "metadata": {
        "id": "ytqn47ClwB_u"
      }
    },
    {
      "cell_type": "code",
      "source": [
        "u, s, v=np.linalg.svd(X_std.T)\n",
        "u"
      ],
      "metadata": {
        "colab": {
          "base_uri": "https://localhost:8080/"
        },
        "id": "5aBj9Nj7dxHk",
        "outputId": "f16e863f-671c-488c-8899-5738b2e780e2"
      },
      "execution_count": 97,
      "outputs": [
        {
          "output_type": "execute_result",
          "data": {
            "text/plain": [
              "array([[-0.52237162, -0.37231836,  0.72101681,  0.26199559],\n",
              "       [ 0.26335492, -0.92555649, -0.24203288, -0.12413481],\n",
              "       [-0.58125401, -0.02109478, -0.14089226, -0.80115427],\n",
              "       [-0.56561105, -0.06541577, -0.6338014 ,  0.52354627]])"
            ]
          },
          "metadata": {},
          "execution_count": 97
        }
      ]
    },
    {
      "cell_type": "markdown",
      "source": [
        "Kode tersebut menghitung SVD (Singular Value Decomposition) dari matriks data yang telah dinormalisasi `X_std.T` menggunakan `np.linalg.svd()`. Hasilnya, nilai-nilai dari SVD disimpan dalam variabel `u`, `s`, dan `v`. Kemudian, kode mencetak nilai dari `u`, yang merupakan matriks utama dari SVD."
      ],
      "metadata": {
        "id": "ajTauDd7nqll"
      }
    },
    {
      "cell_type": "markdown",
      "source": [
        "###memverifikasi norma eigenvector dan mencetak pesan jika valid."
      ],
      "metadata": {
        "id": "4-VAizFqwDx0"
      }
    },
    {
      "cell_type": "code",
      "source": [
        "for ev in eig_vecs.T:\n",
        "    np.testing.assert_array_almost_equal(1.0, np.linalg.norm(ev))\n",
        "print(\"Everithing is ok\")"
      ],
      "metadata": {
        "colab": {
          "base_uri": "https://localhost:8080/"
        },
        "id": "G-nxaYNAdzSH",
        "outputId": "e998fc3d-239c-41cb-ddea-c611a23b970e"
      },
      "execution_count": 98,
      "outputs": [
        {
          "output_type": "stream",
          "name": "stdout",
          "text": [
            "Everithing is ok\n"
          ]
        }
      ]
    },
    {
      "cell_type": "markdown",
      "source": [
        "Kode tersebut melakukan iterasi melalui setiap vektor eigen `ev` yang telah di-transpose (`eig_vecs.T`). Pada setiap iterasi, kode menggunakan `np.linalg.norm()` untuk menghitung norma dari vektor eigen tersebut, dan kemudian memastikan bahwa norma tersebut mendekati nilai 1 dengan menggunakan `np.testing.assert_array_almost_equal()`. Jika semua vektor eigen memiliki norma mendekati 1, maka pesan \"Everything is ok\" akan dicetak. Kode ini digunakan untuk memverifikasi bahwa vektor eigen yang dihitung benar-benar merupakan vektor unit."
      ],
      "metadata": {
        "id": "a-kkV2RGn5iF"
      }
    },
    {
      "cell_type": "markdown",
      "source": [
        "###Membuat daftar pasangan (nilai eigen, vektor eigen)"
      ],
      "metadata": {
        "id": "2cyxSMeuwLnH"
      }
    },
    {
      "cell_type": "code",
      "source": [
        "# Make a list of (eigenvalue, eigenvector) tuples\n",
        "eig_pairs = [(np.abs(eig_vals[i]), eig_vecs[:,i]) for i in range(len(eig_vals))]\n",
        "\n",
        "# Sort the (eigenvalue, eigenvector) tuples from high to low\n",
        "eig_pairs.sort(key=lambda x: x[0], reverse=True)\n",
        "\n",
        "# Visually confirm that the list is correctly sorted by decreasing eigenvalues\n",
        "print('Eigenvalues in descending order:')\n",
        "for i in eig_pairs:\n",
        "    print(i[0])"
      ],
      "metadata": {
        "colab": {
          "base_uri": "https://localhost:8080/"
        },
        "id": "g1e1rfP2d1pV",
        "outputId": "d0c35705-f094-4d26-c266-b138cd1c5e2c"
      },
      "execution_count": 99,
      "outputs": [
        {
          "output_type": "stream",
          "name": "stdout",
          "text": [
            "Eigenvalues in descending order:\n",
            "2.9108180837520528\n",
            "0.9212209307072249\n",
            "0.1473532783050959\n",
            "0.020607707235624884\n"
          ]
        }
      ]
    },
    {
      "cell_type": "markdown",
      "source": [
        "Kode tersebut mengurutkan eigennilai dalam urutan menurun dan mencetaknya. Eigennilai adalah angka yang menggambarkan variasi atau pentingnya setiap vektor eigen dalam matriks data."
      ],
      "metadata": {
        "id": "kQioB5ukn9v0"
      }
    },
    {
      "cell_type": "markdown",
      "source": [
        "###Menghitung persentase variasi dan kumulatif menggunakan eigenvalues terurut."
      ],
      "metadata": {
        "id": "033MHY8KwNVS"
      }
    },
    {
      "cell_type": "code",
      "source": [
        "tot = sum(eig_vals)\n",
        "var_exp = [(i / tot)*100 for i in sorted(eig_vals, reverse=True)]\n",
        "cum_var_exp = np.cumsum(var_exp)"
      ],
      "metadata": {
        "id": "ePyryw-6d3jZ"
      },
      "execution_count": 100,
      "outputs": []
    },
    {
      "cell_type": "markdown",
      "source": [
        "Kode tersebut menghitung persentase variasi yang dijelaskan oleh setiap eigennilai, serta menghitung akumulasi persentase variasi dari eigennilai tersebut."
      ],
      "metadata": {
        "id": "UrmsJi8coOVg"
      }
    },
    {
      "cell_type": "markdown",
      "source": [
        "###membuat gambar persentase variasi dan variasi kumulatif yang dijelaskan."
      ],
      "metadata": {
        "id": "qAzcNrlDwQfS"
      }
    },
    {
      "cell_type": "code",
      "source": [
        "with plt.style.context('seaborn-whitegrid'):\n",
        "    plt.figure(figsize=(6, 4))\n",
        "\n",
        "    plt.bar(range(4), var_exp, alpha=0.5, align='center',\n",
        "            label='individual explained variance')\n",
        "    plt.step(range(4), cum_var_exp, where='mid',\n",
        "             label='cumulative explained variance')\n",
        "    plt.ylabel('Explained variance ratio')\n",
        "    plt.xlabel('Principal components')\n",
        "    plt.legend(loc='best')\n",
        "    plt.tight_layout()"
      ],
      "metadata": {
        "colab": {
          "base_uri": "https://localhost:8080/",
          "height": 407
        },
        "id": "soVXuwkQd55Y",
        "outputId": "0d91d0cb-6135-4522-952d-460f02bc0700"
      },
      "execution_count": 101,
      "outputs": [
        {
          "output_type": "display_data",
          "data": {
            "text/plain": [
              "<Figure size 600x400 with 1 Axes>"
            ],
            "image/png": "[encoded data removed]"
          },
          "metadata": {}
        }
      ]
    },
    {
      "cell_type": "markdown",
      "source": [
        "1. with plt.style.context('seaborn-whitegrid'):: Kode ini mengatur gaya plot menggunakan seaborn-whitegrid untuk tampilan yang lebih rapi.\n",
        "\n",
        "2. plt.figure(figsize=(6, 4)): Kode ini membuat objek gambar dengan ukuran 6x4 menggunakan plt.figure().\n",
        "\n",
        "3. plt.bar(range(4), var_exp, alpha=0.5, align='center', label='individual explained variance'): Kode ini membuat grafik batang dengan tinggi yang sesuai dengan persentase variasi yang dijelaskan oleh setiap komponen utama. Garis batas pada setiap batang diatur di tengah (align='center'). Garis batas ditampilkan dengan transparansi alpha=0.5. Label untuk grafik batang ini adalah 'individual explained variance'.\n",
        "\n",
        "4. plt.step(range(4), cum_var_exp, where='mid', label='cumulative explained variance'): Kode ini membuat grafik langkah yang menunjukkan akumulasi variasi yang dijelaskan oleh komponen utama. Grafik langkah menunjukkan kenaikan nilai secara bertahap. Label untuk grafik langkah ini adalah 'cumulative explained variance'.\n",
        "\n",
        "5. plt.ylabel('Explained variance ratio'): Kode ini menetapkan label sumbu y sebagai 'Explained variance ratio', yang menggambarkan persentase variasi yang dijelaskan.\n",
        "\n",
        "6. plt.xlabel('Principal components'): Kode ini menetapkan label sumbu x sebagai 'Principal components', yang menggambarkan komponen utama.\n",
        "\n",
        "7. plt.legend(loc='best'): Kode ini menampilkan legenda dengan posisi terbaik (loc='best') yang mencakup label-label yang ditetapkan sebelumnya.\n",
        "\n",
        "8. plt.tight_layout(): Kode ini mengatur tata letak plot secara otomatis untuk memastikan elemen-elemen plot terlihat dengan baik."
      ],
      "metadata": {
        "id": "8LeDKVEKos7j"
      }
    },
    {
      "cell_type": "markdown",
      "source": [
        "###menggabungkan dua vektor eigen terpilih menjadi sebuah matriks"
      ],
      "metadata": {
        "id": "op0qkpLPwWW0"
      }
    },
    {
      "cell_type": "code",
      "source": [
        "matrix_w = np.hstack((eig_pairs[0][1].reshape(4,1),\n",
        "                      eig_pairs[1][1].reshape(4,1)))\n",
        "\n",
        "print('Matrix W:\\n', matrix_w)"
      ],
      "metadata": {
        "colab": {
          "base_uri": "https://localhost:8080/"
        },
        "id": "pmTp_ZpId7fo",
        "outputId": "13d3f685-f01a-4b9f-ad2e-f31ba7f483d9"
      },
      "execution_count": 102,
      "outputs": [
        {
          "output_type": "stream",
          "name": "stdout",
          "text": [
            "Matrix W:\n",
            " [[ 0.52237162 -0.37231836]\n",
            " [-0.26335492 -0.92555649]\n",
            " [ 0.58125401 -0.02109478]\n",
            " [ 0.56561105 -0.06541577]]\n"
          ]
        }
      ]
    },
    {
      "cell_type": "markdown",
      "source": [
        "1. matrix_w = np.hstack((eig_pairs[0][1].reshape(4,1), eig_pairs[1][1].reshape(4,1)))`: Kode ini menggabungkan dua vektor eigen teratas dari `eig_pairs` ke dalam matriks `matrix_w`. Fungsi `np.hstack()` digunakan untuk menggabungkan vektor secara horizontal. `eig_pairs[0][1]` adalah vektor eigen teratas pertama, sedangkan `eig_pairs[1][1]` adalah vektor eigen teratas kedua. Fungsi `reshape(4,1)` digunakan untuk mengubah dimensi vektor menjadi `(4,1)` sehingga dapat digabungkan dalam matriks. Hasilnya disimpan dalam variabel `matrix_w`.\n",
        "\n",
        "2. print('Matrix W:\\n', matrix_w)`: Kode ini mencetak matriks `matrix_w` dengan pesan \"Matrix W:\"."
      ],
      "metadata": {
        "id": "IZxs7D6vpIRu"
      }
    },
    {
      "cell_type": "markdown",
      "source": [
        "###mengalikan matriks X_std dengan matriks W dan menyimpan hasilnya dalam matriks Y."
      ],
      "metadata": {
        "id": "_4ZsR9tDwXzj"
      }
    },
    {
      "cell_type": "code",
      "source": [
        "Y = X_std.dot(matrix_w)"
      ],
      "metadata": {
        "id": "AEJlIA7dd930"
      },
      "execution_count": 103,
      "outputs": []
    },
    {
      "cell_type": "markdown",
      "source": [
        "Y = X_std.dot(matrix_w): Kode ini melakukan perkalian antara matriks data yang telah dinormalisasi X_std dengan matriks transformasi matrix_w menggunakan operator dot(). Hasilnya disimpan dalam variabel Y, yang merupakan matriks hasil transformasi."
      ],
      "metadata": {
        "id": "s50T2wuspaHp"
      }
    },
    {
      "cell_type": "markdown",
      "source": [
        "###membuat scatter plot dua dimensi dengan warna berbeda untuk setiap label."
      ],
      "metadata": {
        "id": "07vW99WswbYu"
      }
    },
    {
      "cell_type": "code",
      "source": [
        "with plt.style.context('seaborn-whitegrid'):\n",
        "    plt.figure(figsize=(6, 4))\n",
        "    for lab, col in zip(('setosa', 'virginica', 'versicolor'),\n",
        "                        ('blue', 'red', 'green')):\n",
        "        plt.scatter(Y[y==lab, 0],\n",
        "                    Y[y==lab, 1],\n",
        "                    label=lab,\n",
        "                    c=col)\n",
        "    plt.xlabel('Principal Component 1')\n",
        "    plt.ylabel('Principal Component 2')\n",
        "    plt.legend(loc='lower center')\n",
        "    plt.tight_layout()\n",
        "    plt.show()"
      ],
      "metadata": {
        "colab": {
          "base_uri": "https://localhost:8080/",
          "height": 407
        },
        "id": "h9_1QSmRd_vK",
        "outputId": "d1852f3f-ea7c-46c8-8bd1-b9e177a18e18"
      },
      "execution_count": 104,
      "outputs": [
        {
          "output_type": "display_data",
          "data": {
            "text/plain": [
              "<Figure size 600x400 with 1 Axes>"
            ],
            "image/png": "[encoded data removed]"
          },
          "metadata": {}
        }
      ]
    },
    {
      "cell_type": "markdown",
      "source": [
        "Kode tersebut membuat scatter plot dari hasil transformasi `Y` dengan dua komponen utama. Setiap kelas ditampilkan dengan warna yang berbeda dalam plot tersebut."
      ],
      "metadata": {
        "id": "QwBkSitnqY1s"
      }
    },
    {
      "cell_type": "markdown",
      "source": [
        "###mengubah data 'X_std' menjadi matriks 'Y_sklearn' berdimensi dua.\n"
      ],
      "metadata": {
        "id": "YfE-es7BwgDj"
      }
    },
    {
      "cell_type": "code",
      "source": [
        "from sklearn.decomposition import PCA as sklearnPCA\n",
        "sklearn_pca = sklearnPCA(n_components=2)\n",
        "Y_sklearn = sklearn_pca.fit_transform(X_std)"
      ],
      "metadata": {
        "id": "dWYOK5UoeCrE"
      },
      "execution_count": 105,
      "outputs": []
    },
    {
      "cell_type": "markdown",
      "source": [
        "###membuat scatter plot dua dimensi dengan warna berbeda untuk setiap label"
      ],
      "metadata": {
        "id": "NhDCS2AewjCV"
      }
    },
    {
      "cell_type": "code",
      "source": [
        "with plt.style.context('seaborn-whitegrid'):\n",
        "    plt.figure(figsize=(6, 4))\n",
        "    for lab, col in zip(('setosa', 'virginica', 'versicolor'),\n",
        "                        ('blue', 'red', 'green')):\n",
        "        plt.scatter(Y_sklearn[y==lab, 0],\n",
        "                    Y_sklearn[y==lab, 1],\n",
        "                    label=lab,\n",
        "                    c=col)\n",
        "    plt.xlabel('Principal Component 1')\n",
        "    plt.ylabel('Principal Component 2')\n",
        "    plt.legend(loc='upper center')\n",
        "    plt.tight_layout()\n",
        "    plt.show()"
      ],
      "metadata": {
        "colab": {
          "base_uri": "https://localhost:8080/",
          "height": 407
        },
        "id": "rZLMc6YWeEXp",
        "outputId": "181fd80f-9e5a-4777-f1e0-121676ed1880"
      },
      "execution_count": 106,
      "outputs": [
        {
          "output_type": "display_data",
          "data": {
            "text/plain": [
              "<Figure size 600x400 with 1 Axes>"
            ],
            "image/png": "[encoded data removed]"
          },
          "metadata": {}
        }
      ]
    },
    {
      "cell_type": "markdown",
      "source": [
        "Kode tersebut menggunakan metode PCA dari scikit-learn untuk melakukan reduksi dimensi dan membuat scatter plot dari hasil transformasi. Hasil transformasi disimpan dalam variabel `Y_sklearn`, dan plot tersebut menampilkan titik-titik dengan warna yang berbeda untuk setiap kelas."
      ],
      "metadata": {
        "id": "LQfCd45Oqgr3"
      }
    },
    {
      "cell_type": "markdown",
      "source": [
        "###DataFrame 'data' yang berisi kolom 'X' dan 'Y' yang berisi nilai dari matriks Y_sklearn."
      ],
      "metadata": {
        "id": "RSSKDJzLwo8p"
      }
    },
    {
      "cell_type": "code",
      "source": [
        "data=pd.DataFrame(Y_sklearn)\n",
        "data.columns=['X','Y']\n",
        "data"
      ],
      "metadata": {
        "colab": {
          "base_uri": "https://localhost:8080/",
          "height": 424
        },
        "id": "pf-P9cKkj1pG",
        "outputId": "a829ff5c-6915-4f98-b3d8-bdad03a9734a"
      },
      "execution_count": 107,
      "outputs": [
        {
          "output_type": "execute_result",
          "data": {
            "text/plain": [
              "            X         Y\n",
              "0   -2.264542  0.505704\n",
              "1   -2.086426 -0.655405\n",
              "2   -2.367950 -0.318477\n",
              "3   -2.304197 -0.575368\n",
              "4   -2.388777  0.674767\n",
              "..        ...       ...\n",
              "145  1.870522  0.382822\n",
              "146  1.558492 -0.905314\n",
              "147  1.520845  0.266795\n",
              "148  1.376391  1.016362\n",
              "149  0.959299 -0.022284\n",
              "\n",
              "[150 rows x 2 columns]"
            ],
            "text/html": [
              "\n",
              "  <div id=\"df-aaadbe06-990b-4020-886f-ad041c275ff4\">\n",
              "    <div class=\"colab-df-container\">\n",
              "      <div>\n",
              "<style scoped>\n",
              "    .dataframe tbody tr th:only-of-type {\n",
              "        vertical-align: middle;\n",
              "    }\n",
              "\n",
              "    .dataframe tbody tr th {\n",
              "        vertical-align: top;\n",
              "    }\n",
              "\n",
              "    .dataframe thead th {\n",
              "        text-align: right;\n",
              "    }\n",
              "</style>\n",
              "<table border=\"1\" class=\"dataframe\">\n",
              "  <thead>\n",
              "    <tr style=\"text-align: right;\">\n",
              "      <th></th>\n",
              "      <th>X</th>\n",
              "      <th>Y</th>\n",
              "    </tr>\n",
              "  </thead>\n",
              "  <tbody>\n",
              "    <tr>\n",
              "      <th>0</th>\n",
              "      <td>-2.264542</td>\n",
              "      <td>0.505704</td>\n",
              "    </tr>\n",
              "    <tr>\n",
              "      <th>1</th>\n",
              "      <td>-2.086426</td>\n",
              "      <td>-0.655405</td>\n",
              "    </tr>\n",
              "    <tr>\n",
              "      <th>2</th>\n",
              "      <td>-2.367950</td>\n",
              "      <td>-0.318477</td>\n",
              "    </tr>\n",
              "    <tr>\n",
              "      <th>3</th>\n",
              "      <td>-2.304197</td>\n",
              "      <td>-0.575368</td>\n",
              "    </tr>\n",
              "    <tr>\n",
              "      <th>4</th>\n",
              "      <td>-2.388777</td>\n",
              "      <td>0.674767</td>\n",
              "    </tr>\n",
              "    <tr>\n",
              "      <th>...</th>\n",
              "      <td>...</td>\n",
              "      <td>...</td>\n",
              "    </tr>\n",
              "    <tr>\n",
              "      <th>145</th>\n",
              "      <td>1.870522</td>\n",
              "      <td>0.382822</td>\n",
              "    </tr>\n",
              "    <tr>\n",
              "      <th>146</th>\n",
              "      <td>1.558492</td>\n",
              "      <td>-0.905314</td>\n",
              "    </tr>\n",
              "    <tr>\n",
              "      <th>147</th>\n",
              "      <td>1.520845</td>\n",
              "      <td>0.266795</td>\n",
              "    </tr>\n",
              "    <tr>\n",
              "      <th>148</th>\n",
              "      <td>1.376391</td>\n",
              "      <td>1.016362</td>\n",
              "    </tr>\n",
              "    <tr>\n",
              "      <th>149</th>\n",
              "      <td>0.959299</td>\n",
              "      <td>-0.022284</td>\n",
              "    </tr>\n",
              "  </tbody>\n",
              "</table>\n",
              "<p>150 rows × 2 columns</p>\n",
              "</div>\n",
              "      <button class=\"colab-df-convert\" onclick=\"convertToInteractive('df-aaadbe06-990b-4020-886f-ad041c275ff4')\"\n",
              "              title=\"Convert this dataframe to an interactive table.\"\n",
              "              style=\"display:none;\">\n",
              "        \n",
              "  <svg xmlns=\"http://www.w3.org/2000/svg\" height=\"24px\"viewBox=\"0 0 24 24\"\n",
              "       width=\"24px\">\n",
              "    <path d=\"M0 0h24v24H0V0z\" fill=\"none\"/>\n",
              "    <path d=\"M18.56 5.44l.94 2.06.94-2.06 2.06-.94-2.06-.94-.94-2.06-.94 2.06-2.06.94zm-11 1L8.5 8.5l.94-2.06 2.06-.94-2.06-.94L8.5 2.5l-.94 2.06-2.06.94zm10 10l.94 2.06.94-2.06 2.06-.94-2.06-.94-.94-2.06-.94 2.06-2.06.94z\"/><path d=\"M17.41 7.96l-1.37-1.37c-.4-.4-.92-.59-1.43-.59-.52 0-1.04.2-1.43.59L10.3 9.45l-7.72 7.72c-.78.78-.78 2.05 0 2.83L4 21.41c.39.39.9.59 1.41.59.51 0 1.02-.2 1.41-.59l7.78-7.78 2.81-2.81c.8-.78.8-2.07 0-2.86zM5.41 20L4 18.59l7.72-7.72 1.47 1.35L5.41 20z\"/>\n",
              "  </svg>\n",
              "      </button>\n",
              "      \n",
              "  <style>\n",
              "    .colab-df-container {\n",
              "      display:flex;\n",
              "      flex-wrap:wrap;\n",
              "      gap: 12px;\n",
              "    }\n",
              "\n",
              "    .colab-df-convert {\n",
              "      background-color: #E8F0FE;\n",
              "      border: none;\n",
              "      border-radius: 50%;\n",
              "      cursor: pointer;\n",
              "      display: none;\n",
              "      fill: #1967D2;\n",
              "      height: 32px;\n",
              "      padding: 0 0 0 0;\n",
              "      width: 32px;\n",
              "    }\n",
              "\n",
              "    .colab-df-convert:hover {\n",
              "      background-color: #E2EBFA;\n",
              "      box-shadow: 0px 1px 2px rgba(60, 64, 67, 0.3), 0px 1px 3px 1px rgba(60, 64, 67, 0.15);\n",
              "      fill: #174EA6;\n",
              "    }\n",
              "\n",
              "    [theme=dark] .colab-df-convert {\n",
              "      background-color: #3B4455;\n",
              "      fill: #D2E3FC;\n",
              "    }\n",
              "\n",
              "    [theme=dark] .colab-df-convert:hover {\n",
              "      background-color: #434B5C;\n",
              "      box-shadow: 0px 1px 3px 1px rgba(0, 0, 0, 0.15);\n",
              "      filter: drop-shadow(0px 1px 2px rgba(0, 0, 0, 0.3));\n",
              "      fill: #FFFFFF;\n",
              "    }\n",
              "  </style>\n",
              "\n",
              "      <script>\n",
              "        const buttonEl =\n",
              "          document.querySelector('#df-aaadbe06-990b-4020-886f-ad041c275ff4 button.colab-df-convert');\n",
              "        buttonEl.style.display =\n",
              "          google.colab.kernel.accessAllowed ? 'block' : 'none';\n",
              "\n",
              "        async function convertToInteractive(key) {\n",
              "          const element = document.querySelector('#df-aaadbe06-990b-4020-886f-ad041c275ff4');\n",
              "          const dataTable =\n",
              "            await google.colab.kernel.invokeFunction('convertToInteractive',\n",
              "                                                     [key], {});\n",
              "          if (!dataTable) return;\n",
              "\n",
              "          const docLinkHtml = 'Like what you see? Visit the ' +\n",
              "            '<a target=\"_blank\" href=https://colab.research.google.com/notebooks/data_table.ipynb>data table notebook</a>'\n",
              "            + ' to learn more about interactive tables.';\n",
              "          element.innerHTML = '';\n",
              "          dataTable['output_type'] = 'display_data';\n",
              "          await google.colab.output.renderOutput(dataTable, element);\n",
              "          const docLink = document.createElement('div');\n",
              "          docLink.innerHTML = docLinkHtml;\n",
              "          element.appendChild(docLink);\n",
              "        }\n",
              "      </script>\n",
              "    </div>\n",
              "  </div>\n",
              "  "
            ]
          },
          "metadata": {},
          "execution_count": 107
        }
      ]
    },
    {
      "cell_type": "markdown",
      "source": [
        "Kode tersebut membuat sebuah DataFrame dari hasil transformasi PCA (`Y_sklearn`). DataFrame tersebut memiliki dua kolom dengan nama 'X' dan 'Y', yang mewakili komponen utama pertama dan kedua."
      ],
      "metadata": {
        "id": "PibfPm6wqk7b"
      }
    },
    {
      "cell_type": "code",
      "source": [
        "data['species']=df['species']\n",
        "data"
      ],
      "metadata": {
        "colab": {
          "base_uri": "https://localhost:8080/",
          "height": 424
        },
        "id": "nwVxZ878j33i",
        "outputId": "badc37b2-246f-4699-b4e3-97e7cb2e179c"
      },
      "execution_count": 108,
      "outputs": [
        {
          "output_type": "execute_result",
          "data": {
            "text/plain": [
              "            X         Y    species\n",
              "0   -2.264542  0.505704     setosa\n",
              "1   -2.086426 -0.655405     setosa\n",
              "2   -2.367950 -0.318477     setosa\n",
              "3   -2.304197 -0.575368     setosa\n",
              "4   -2.388777  0.674767     setosa\n",
              "..        ...       ...        ...\n",
              "145  1.870522  0.382822  virginica\n",
              "146  1.558492 -0.905314  virginica\n",
              "147  1.520845  0.266795  virginica\n",
              "148  1.376391  1.016362  virginica\n",
              "149  0.959299 -0.022284  virginica\n",
              "\n",
              "[150 rows x 3 columns]"
            ],
            "text/html": [
              "\n",
              "  <div id=\"df-0dde6e20-219e-4a33-8759-ede5c3bc46c0\">\n",
              "    <div class=\"colab-df-container\">\n",
              "      <div>\n",
              "<style scoped>\n",
              "    .dataframe tbody tr th:only-of-type {\n",
              "        vertical-align: middle;\n",
              "    }\n",
              "\n",
              "    .dataframe tbody tr th {\n",
              "        vertical-align: top;\n",
              "    }\n",
              "\n",
              "    .dataframe thead th {\n",
              "        text-align: right;\n",
              "    }\n",
              "</style>\n",
              "<table border=\"1\" class=\"dataframe\">\n",
              "  <thead>\n",
              "    <tr style=\"text-align: right;\">\n",
              "      <th></th>\n",
              "      <th>X</th>\n",
              "      <th>Y</th>\n",
              "      <th>species</th>\n",
              "    </tr>\n",
              "  </thead>\n",
              "  <tbody>\n",
              "    <tr>\n",
              "      <th>0</th>\n",
              "      <td>-2.264542</td>\n",
              "      <td>0.505704</td>\n",
              "      <td>setosa</td>\n",
              "    </tr>\n",
              "    <tr>\n",
              "      <th>1</th>\n",
              "      <td>-2.086426</td>\n",
              "      <td>-0.655405</td>\n",
              "      <td>setosa</td>\n",
              "    </tr>\n",
              "    <tr>\n",
              "      <th>2</th>\n",
              "      <td>-2.367950</td>\n",
              "      <td>-0.318477</td>\n",
              "      <td>setosa</td>\n",
              "    </tr>\n",
              "    <tr>\n",
              "      <th>3</th>\n",
              "      <td>-2.304197</td>\n",
              "      <td>-0.575368</td>\n",
              "      <td>setosa</td>\n",
              "    </tr>\n",
              "    <tr>\n",
              "      <th>4</th>\n",
              "      <td>-2.388777</td>\n",
              "      <td>0.674767</td>\n",
              "      <td>setosa</td>\n",
              "    </tr>\n",
              "    <tr>\n",
              "      <th>...</th>\n",
              "      <td>...</td>\n",
              "      <td>...</td>\n",
              "      <td>...</td>\n",
              "    </tr>\n",
              "    <tr>\n",
              "      <th>145</th>\n",
              "      <td>1.870522</td>\n",
              "      <td>0.382822</td>\n",
              "      <td>virginica</td>\n",
              "    </tr>\n",
              "    <tr>\n",
              "      <th>146</th>\n",
              "      <td>1.558492</td>\n",
              "      <td>-0.905314</td>\n",
              "      <td>virginica</td>\n",
              "    </tr>\n",
              "    <tr>\n",
              "      <th>147</th>\n",
              "      <td>1.520845</td>\n",
              "      <td>0.266795</td>\n",
              "      <td>virginica</td>\n",
              "    </tr>\n",
              "    <tr>\n",
              "      <th>148</th>\n",
              "      <td>1.376391</td>\n",
              "      <td>1.016362</td>\n",
              "      <td>virginica</td>\n",
              "    </tr>\n",
              "    <tr>\n",
              "      <th>149</th>\n",
              "      <td>0.959299</td>\n",
              "      <td>-0.022284</td>\n",
              "      <td>virginica</td>\n",
              "    </tr>\n",
              "  </tbody>\n",
              "</table>\n",
              "<p>150 rows × 3 columns</p>\n",
              "</div>\n",
              "      <button class=\"colab-df-convert\" onclick=\"convertToInteractive('df-0dde6e20-219e-4a33-8759-ede5c3bc46c0')\"\n",
              "              title=\"Convert this dataframe to an interactive table.\"\n",
              "              style=\"display:none;\">\n",
              "        \n",
              "  <svg xmlns=\"http://www.w3.org/2000/svg\" height=\"24px\"viewBox=\"0 0 24 24\"\n",
              "       width=\"24px\">\n",
              "    <path d=\"M0 0h24v24H0V0z\" fill=\"none\"/>\n",
              "    <path d=\"M18.56 5.44l.94 2.06.94-2.06 2.06-.94-2.06-.94-.94-2.06-.94 2.06-2.06.94zm-11 1L8.5 8.5l.94-2.06 2.06-.94-2.06-.94L8.5 2.5l-.94 2.06-2.06.94zm10 10l.94 2.06.94-2.06 2.06-.94-2.06-.94-.94-2.06-.94 2.06-2.06.94z\"/><path d=\"M17.41 7.96l-1.37-1.37c-.4-.4-.92-.59-1.43-.59-.52 0-1.04.2-1.43.59L10.3 9.45l-7.72 7.72c-.78.78-.78 2.05 0 2.83L4 21.41c.39.39.9.59 1.41.59.51 0 1.02-.2 1.41-.59l7.78-7.78 2.81-2.81c.8-.78.8-2.07 0-2.86zM5.41 20L4 18.59l7.72-7.72 1.47 1.35L5.41 20z\"/>\n",
              "  </svg>\n",
              "      </button>\n",
              "      \n",
              "  <style>\n",
              "    .colab-df-container {\n",
              "      display:flex;\n",
              "      flex-wrap:wrap;\n",
              "      gap: 12px;\n",
              "    }\n",
              "\n",
              "    .colab-df-convert {\n",
              "      background-color: #E8F0FE;\n",
              "      border: none;\n",
              "      border-radius: 50%;\n",
              "      cursor: pointer;\n",
              "      display: none;\n",
              "      fill: #1967D2;\n",
              "      height: 32px;\n",
              "      padding: 0 0 0 0;\n",
              "      width: 32px;\n",
              "    }\n",
              "\n",
              "    .colab-df-convert:hover {\n",
              "      background-color: #E2EBFA;\n",
              "      box-shadow: 0px 1px 2px rgba(60, 64, 67, 0.3), 0px 1px 3px 1px rgba(60, 64, 67, 0.15);\n",
              "      fill: #174EA6;\n",
              "    }\n",
              "\n",
              "    [theme=dark] .colab-df-convert {\n",
              "      background-color: #3B4455;\n",
              "      fill: #D2E3FC;\n",
              "    }\n",
              "\n",
              "    [theme=dark] .colab-df-convert:hover {\n",
              "      background-color: #434B5C;\n",
              "      box-shadow: 0px 1px 3px 1px rgba(0, 0, 0, 0.15);\n",
              "      filter: drop-shadow(0px 1px 2px rgba(0, 0, 0, 0.3));\n",
              "      fill: #FFFFFF;\n",
              "    }\n",
              "  </style>\n",
              "\n",
              "      <script>\n",
              "        const buttonEl =\n",
              "          document.querySelector('#df-0dde6e20-219e-4a33-8759-ede5c3bc46c0 button.colab-df-convert');\n",
              "        buttonEl.style.display =\n",
              "          google.colab.kernel.accessAllowed ? 'block' : 'none';\n",
              "\n",
              "        async function convertToInteractive(key) {\n",
              "          const element = document.querySelector('#df-0dde6e20-219e-4a33-8759-ede5c3bc46c0');\n",
              "          const dataTable =\n",
              "            await google.colab.kernel.invokeFunction('convertToInteractive',\n",
              "                                                     [key], {});\n",
              "          if (!dataTable) return;\n",
              "\n",
              "          const docLinkHtml = 'Like what you see? Visit the ' +\n",
              "            '<a target=\"_blank\" href=https://colab.research.google.com/notebooks/data_table.ipynb>data table notebook</a>'\n",
              "            + ' to learn more about interactive tables.';\n",
              "          element.innerHTML = '';\n",
              "          dataTable['output_type'] = 'display_data';\n",
              "          await google.colab.output.renderOutput(dataTable, element);\n",
              "          const docLink = document.createElement('div');\n",
              "          docLink.innerHTML = docLinkHtml;\n",
              "          element.appendChild(docLink);\n",
              "        }\n",
              "      </script>\n",
              "    </div>\n",
              "  </div>\n",
              "  "
            ]
          },
          "metadata": {},
          "execution_count": 108
        }
      ]
    },
    {
      "cell_type": "markdown",
      "source": [
        "Kode tersebut menambahkan kolom 'species' ke DataFrame `data` dan mengisinya dengan nilai dari kolom 'species' pada DataFrame `df`."
      ],
      "metadata": {
        "id": "-osG2R7Iqv8G"
      }
    },
    {
      "cell_type": "markdown",
      "source": [
        "###**Metode Naive Bayes**"
      ],
      "metadata": {
        "id": "sVKKAOypQsBg"
      }
    },
    {
      "cell_type": "markdown",
      "source": [
        "###Spliting Data"
      ],
      "metadata": {
        "id": "54-gKgN2XVSz"
      }
    },
    {
      "cell_type": "code",
      "source": [
        "dataset =data\n",
        "X = dataset.iloc[:,:2].values\n",
        "y = dataset['species'].values\n",
        "dataset.head(5)"
      ],
      "metadata": {
        "colab": {
          "base_uri": "https://localhost:8080/",
          "height": 206
        },
        "id": "36KN2DGTEmgz",
        "outputId": "be689bc5-1982-422b-ecbc-87ced8e4ed8e"
      },
      "execution_count": 109,
      "outputs": [
        {
          "output_type": "execute_result",
          "data": {
            "text/plain": [
              "          X         Y species\n",
              "0 -2.264542  0.505704  setosa\n",
              "1 -2.086426 -0.655405  setosa\n",
              "2 -2.367950 -0.318477  setosa\n",
              "3 -2.304197 -0.575368  setosa\n",
              "4 -2.388777  0.674767  setosa"
            ],
            "text/html": [
              "\n",
              "  <div id=\"df-3a72e7fd-f121-4e78-88c8-5a560bea6ffa\">\n",
              "    <div class=\"colab-df-container\">\n",
              "      <div>\n",
              "<style scoped>\n",
              "    .dataframe tbody tr th:only-of-type {\n",
              "        vertical-align: middle;\n",
              "    }\n",
              "\n",
              "    .dataframe tbody tr th {\n",
              "        vertical-align: top;\n",
              "    }\n",
              "\n",
              "    .dataframe thead th {\n",
              "        text-align: right;\n",
              "    }\n",
              "</style>\n",
              "<table border=\"1\" class=\"dataframe\">\n",
              "  <thead>\n",
              "    <tr style=\"text-align: right;\">\n",
              "      <th></th>\n",
              "      <th>X</th>\n",
              "      <th>Y</th>\n",
              "      <th>species</th>\n",
              "    </tr>\n",
              "  </thead>\n",
              "  <tbody>\n",
              "    <tr>\n",
              "      <th>0</th>\n",
              "      <td>-2.264542</td>\n",
              "      <td>0.505704</td>\n",
              "      <td>setosa</td>\n",
              "    </tr>\n",
              "    <tr>\n",
              "      <th>1</th>\n",
              "      <td>-2.086426</td>\n",
              "      <td>-0.655405</td>\n",
              "      <td>setosa</td>\n",
              "    </tr>\n",
              "    <tr>\n",
              "      <th>2</th>\n",
              "      <td>-2.367950</td>\n",
              "      <td>-0.318477</td>\n",
              "      <td>setosa</td>\n",
              "    </tr>\n",
              "    <tr>\n",
              "      <th>3</th>\n",
              "      <td>-2.304197</td>\n",
              "      <td>-0.575368</td>\n",
              "      <td>setosa</td>\n",
              "    </tr>\n",
              "    <tr>\n",
              "      <th>4</th>\n",
              "      <td>-2.388777</td>\n",
              "      <td>0.674767</td>\n",
              "      <td>setosa</td>\n",
              "    </tr>\n",
              "  </tbody>\n",
              "</table>\n",
              "</div>\n",
              "      <button class=\"colab-df-convert\" onclick=\"convertToInteractive('df-3a72e7fd-f121-4e78-88c8-5a560bea6ffa')\"\n",
              "              title=\"Convert this dataframe to an interactive table.\"\n",
              "              style=\"display:none;\">\n",
              "        \n",
              "  <svg xmlns=\"http://www.w3.org/2000/svg\" height=\"24px\"viewBox=\"0 0 24 24\"\n",
              "       width=\"24px\">\n",
              "    <path d=\"M0 0h24v24H0V0z\" fill=\"none\"/>\n",
              "    <path d=\"M18.56 5.44l.94 2.06.94-2.06 2.06-.94-2.06-.94-.94-2.06-.94 2.06-2.06.94zm-11 1L8.5 8.5l.94-2.06 2.06-.94-2.06-.94L8.5 2.5l-.94 2.06-2.06.94zm10 10l.94 2.06.94-2.06 2.06-.94-2.06-.94-.94-2.06-.94 2.06-2.06.94z\"/><path d=\"M17.41 7.96l-1.37-1.37c-.4-.4-.92-.59-1.43-.59-.52 0-1.04.2-1.43.59L10.3 9.45l-7.72 7.72c-.78.78-.78 2.05 0 2.83L4 21.41c.39.39.9.59 1.41.59.51 0 1.02-.2 1.41-.59l7.78-7.78 2.81-2.81c.8-.78.8-2.07 0-2.86zM5.41 20L4 18.59l7.72-7.72 1.47 1.35L5.41 20z\"/>\n",
              "  </svg>\n",
              "      </button>\n",
              "      \n",
              "  <style>\n",
              "    .colab-df-container {\n",
              "      display:flex;\n",
              "      flex-wrap:wrap;\n",
              "      gap: 12px;\n",
              "    }\n",
              "\n",
              "    .colab-df-convert {\n",
              "      background-color: #E8F0FE;\n",
              "      border: none;\n",
              "      border-radius: 50%;\n",
              "      cursor: pointer;\n",
              "      display: none;\n",
              "      fill: #1967D2;\n",
              "      height: 32px;\n",
              "      padding: 0 0 0 0;\n",
              "      width: 32px;\n",
              "    }\n",
              "\n",
              "    .colab-df-convert:hover {\n",
              "      background-color: #E2EBFA;\n",
              "      box-shadow: 0px 1px 2px rgba(60, 64, 67, 0.3), 0px 1px 3px 1px rgba(60, 64, 67, 0.15);\n",
              "      fill: #174EA6;\n",
              "    }\n",
              "\n",
              "    [theme=dark] .colab-df-convert {\n",
              "      background-color: #3B4455;\n",
              "      fill: #D2E3FC;\n",
              "    }\n",
              "\n",
              "    [theme=dark] .colab-df-convert:hover {\n",
              "      background-color: #434B5C;\n",
              "      box-shadow: 0px 1px 3px 1px rgba(0, 0, 0, 0.15);\n",
              "      filter: drop-shadow(0px 1px 2px rgba(0, 0, 0, 0.3));\n",
              "      fill: #FFFFFF;\n",
              "    }\n",
              "  </style>\n",
              "\n",
              "      <script>\n",
              "        const buttonEl =\n",
              "          document.querySelector('#df-3a72e7fd-f121-4e78-88c8-5a560bea6ffa button.colab-df-convert');\n",
              "        buttonEl.style.display =\n",
              "          google.colab.kernel.accessAllowed ? 'block' : 'none';\n",
              "\n",
              "        async function convertToInteractive(key) {\n",
              "          const element = document.querySelector('#df-3a72e7fd-f121-4e78-88c8-5a560bea6ffa');\n",
              "          const dataTable =\n",
              "            await google.colab.kernel.invokeFunction('convertToInteractive',\n",
              "                                                     [key], {});\n",
              "          if (!dataTable) return;\n",
              "\n",
              "          const docLinkHtml = 'Like what you see? Visit the ' +\n",
              "            '<a target=\"_blank\" href=https://colab.research.google.com/notebooks/data_table.ipynb>data table notebook</a>'\n",
              "            + ' to learn more about interactive tables.';\n",
              "          element.innerHTML = '';\n",
              "          dataTable['output_type'] = 'display_data';\n",
              "          await google.colab.output.renderOutput(dataTable, element);\n",
              "          const docLink = document.createElement('div');\n",
              "          docLink.innerHTML = docLinkHtml;\n",
              "          element.appendChild(docLink);\n",
              "        }\n",
              "      </script>\n",
              "    </div>\n",
              "  </div>\n",
              "  "
            ]
          },
          "metadata": {},
          "execution_count": 109
        }
      ]
    },
    {
      "cell_type": "code",
      "source": [
        "dataset =data\n",
        "X = dataset.iloc[:,:2].values\n",
        "y = dataset['species'].values\n",
        "dataset.head(5)"
      ],
      "metadata": {
        "colab": {
          "base_uri": "https://localhost:8080/",
          "height": 206
        },
        "outputId": "f21b37d5-1c3a-4435-f422-f01e2503dd59",
        "id": "9KGrRsmwQigc"
      },
      "execution_count": 110,
      "outputs": [
        {
          "output_type": "execute_result",
          "data": {
            "text/plain": [
              "          X         Y species\n",
              "0 -2.264542  0.505704  setosa\n",
              "1 -2.086426 -0.655405  setosa\n",
              "2 -2.367950 -0.318477  setosa\n",
              "3 -2.304197 -0.575368  setosa\n",
              "4 -2.388777  0.674767  setosa"
            ],
            "text/html": [
              "\n",
              "  <div id=\"df-5a07b8c0-d87f-41cf-a257-34182ea29004\">\n",
              "    <div class=\"colab-df-container\">\n",
              "      <div>\n",
              "<style scoped>\n",
              "    .dataframe tbody tr th:only-of-type {\n",
              "        vertical-align: middle;\n",
              "    }\n",
              "\n",
              "    .dataframe tbody tr th {\n",
              "        vertical-align: top;\n",
              "    }\n",
              "\n",
              "    .dataframe thead th {\n",
              "        text-align: right;\n",
              "    }\n",
              "</style>\n",
              "<table border=\"1\" class=\"dataframe\">\n",
              "  <thead>\n",
              "    <tr style=\"text-align: right;\">\n",
              "      <th></th>\n",
              "      <th>X</th>\n",
              "      <th>Y</th>\n",
              "      <th>species</th>\n",
              "    </tr>\n",
              "  </thead>\n",
              "  <tbody>\n",
              "    <tr>\n",
              "      <th>0</th>\n",
              "      <td>-2.264542</td>\n",
              "      <td>0.505704</td>\n",
              "      <td>setosa</td>\n",
              "    </tr>\n",
              "    <tr>\n",
              "      <th>1</th>\n",
              "      <td>-2.086426</td>\n",
              "      <td>-0.655405</td>\n",
              "      <td>setosa</td>\n",
              "    </tr>\n",
              "    <tr>\n",
              "      <th>2</th>\n",
              "      <td>-2.367950</td>\n",
              "      <td>-0.318477</td>\n",
              "      <td>setosa</td>\n",
              "    </tr>\n",
              "    <tr>\n",
              "      <th>3</th>\n",
              "      <td>-2.304197</td>\n",
              "      <td>-0.575368</td>\n",
              "      <td>setosa</td>\n",
              "    </tr>\n",
              "    <tr>\n",
              "      <th>4</th>\n",
              "      <td>-2.388777</td>\n",
              "      <td>0.674767</td>\n",
              "      <td>setosa</td>\n",
              "    </tr>\n",
              "  </tbody>\n",
              "</table>\n",
              "</div>\n",
              "      <button class=\"colab-df-convert\" onclick=\"convertToInteractive('df-5a07b8c0-d87f-41cf-a257-34182ea29004')\"\n",
              "              title=\"Convert this dataframe to an interactive table.\"\n",
              "              style=\"display:none;\">\n",
              "        \n",
              "  <svg xmlns=\"http://www.w3.org/2000/svg\" height=\"24px\"viewBox=\"0 0 24 24\"\n",
              "       width=\"24px\">\n",
              "    <path d=\"M0 0h24v24H0V0z\" fill=\"none\"/>\n",
              "    <path d=\"M18.56 5.44l.94 2.06.94-2.06 2.06-.94-2.06-.94-.94-2.06-.94 2.06-2.06.94zm-11 1L8.5 8.5l.94-2.06 2.06-.94-2.06-.94L8.5 2.5l-.94 2.06-2.06.94zm10 10l.94 2.06.94-2.06 2.06-.94-2.06-.94-.94-2.06-.94 2.06-2.06.94z\"/><path d=\"M17.41 7.96l-1.37-1.37c-.4-.4-.92-.59-1.43-.59-.52 0-1.04.2-1.43.59L10.3 9.45l-7.72 7.72c-.78.78-.78 2.05 0 2.83L4 21.41c.39.39.9.59 1.41.59.51 0 1.02-.2 1.41-.59l7.78-7.78 2.81-2.81c.8-.78.8-2.07 0-2.86zM5.41 20L4 18.59l7.72-7.72 1.47 1.35L5.41 20z\"/>\n",
              "  </svg>\n",
              "      </button>\n",
              "      \n",
              "  <style>\n",
              "    .colab-df-container {\n",
              "      display:flex;\n",
              "      flex-wrap:wrap;\n",
              "      gap: 12px;\n",
              "    }\n",
              "\n",
              "    .colab-df-convert {\n",
              "      background-color: #E8F0FE;\n",
              "      border: none;\n",
              "      border-radius: 50%;\n",
              "      cursor: pointer;\n",
              "      display: none;\n",
              "      fill: #1967D2;\n",
              "      height: 32px;\n",
              "      padding: 0 0 0 0;\n",
              "      width: 32px;\n",
              "    }\n",
              "\n",
              "    .colab-df-convert:hover {\n",
              "      background-color: #E2EBFA;\n",
              "      box-shadow: 0px 1px 2px rgba(60, 64, 67, 0.3), 0px 1px 3px 1px rgba(60, 64, 67, 0.15);\n",
              "      fill: #174EA6;\n",
              "    }\n",
              "\n",
              "    [theme=dark] .colab-df-convert {\n",
              "      background-color: #3B4455;\n",
              "      fill: #D2E3FC;\n",
              "    }\n",
              "\n",
              "    [theme=dark] .colab-df-convert:hover {\n",
              "      background-color: #434B5C;\n",
              "      box-shadow: 0px 1px 3px 1px rgba(0, 0, 0, 0.15);\n",
              "      filter: drop-shadow(0px 1px 2px rgba(0, 0, 0, 0.3));\n",
              "      fill: #FFFFFF;\n",
              "    }\n",
              "  </style>\n",
              "\n",
              "      <script>\n",
              "        const buttonEl =\n",
              "          document.querySelector('#df-5a07b8c0-d87f-41cf-a257-34182ea29004 button.colab-df-convert');\n",
              "        buttonEl.style.display =\n",
              "          google.colab.kernel.accessAllowed ? 'block' : 'none';\n",
              "\n",
              "        async function convertToInteractive(key) {\n",
              "          const element = document.querySelector('#df-5a07b8c0-d87f-41cf-a257-34182ea29004');\n",
              "          const dataTable =\n",
              "            await google.colab.kernel.invokeFunction('convertToInteractive',\n",
              "                                                     [key], {});\n",
              "          if (!dataTable) return;\n",
              "\n",
              "          const docLinkHtml = 'Like what you see? Visit the ' +\n",
              "            '<a target=\"_blank\" href=https://colab.research.google.com/notebooks/data_table.ipynb>data table notebook</a>'\n",
              "            + ' to learn more about interactive tables.';\n",
              "          element.innerHTML = '';\n",
              "          dataTable['output_type'] = 'display_data';\n",
              "          await google.colab.output.renderOutput(dataTable, element);\n",
              "          const docLink = document.createElement('div');\n",
              "          docLink.innerHTML = docLinkHtml;\n",
              "          element.appendChild(docLink);\n",
              "        }\n",
              "      </script>\n",
              "    </div>\n",
              "  </div>\n",
              "  "
            ]
          },
          "metadata": {},
          "execution_count": 110
        }
      ]
    },
    {
      "cell_type": "markdown",
      "source": [
        "Kode tersebut mengatur dataset dengan menggunakan DataFrame `data`. Variabel `X` diisi dengan nilai dari dua kolom pertama dalam dataset, sedangkan variabel `y` diisi dengan nilai dari kolom 'species'. Kemudian, dataset yang telah diatur ditampilkan dengan menggunakan metode `head()` untuk melihat lima baris pertama."
      ],
      "metadata": {
        "id": "TMV9Uz-TJM7j"
      }
    },
    {
      "cell_type": "code",
      "source": [
        "from sklearn.model_selection import train_test_split\n",
        "X_train, X_test, y_train, y_test = train_test_split(X, y, test_size = 0.2, random_state=42)"
      ],
      "metadata": {
        "id": "KWiilO2sEw2x"
      },
      "execution_count": 111,
      "outputs": []
    },
    {
      "cell_type": "markdown",
      "source": [
        "Kode tersebut menggunakan modul `train_test_split` dari scikit-learn untuk membagi dataset menjadi data latih dan data uji. Variabel `X_train` dan `y_train` berisi data latih, sedangkan variabel `X_test` dan `y_test` berisi data uji. Data uji sebesar 20% dari dataset awal dengan seed (random state) 42."
      ],
      "metadata": {
        "id": "7mYF-MiHJPK1"
      }
    },
    {
      "cell_type": "code",
      "source": [
        "from sklearn.preprocessing import StandardScaler\n",
        "sc = StandardScaler()\n",
        "X_train = sc.fit_transform(X_train)\n",
        "X_test = sc.transform(X_test)"
      ],
      "metadata": {
        "id": "KZwOZvRjE0Fg"
      },
      "execution_count": 112,
      "outputs": []
    },
    {
      "cell_type": "markdown",
      "source": [
        "Kode tersebut menggunakan modul `StandardScaler` dari scikit-learn untuk melakukan penskalaan fitur pada data. Variabel `X_train` diubah menggunakan metode `fit_transform()` untuk menghitung rata-rata dan standar deviasi dari data latih, dan kemudian melakukan penskalaan pada data latih. Variabel `X_test` diubah menggunakan metode `transform()` untuk menerapkan penskalaan yang sama pada data uji, menggunakan rata-rata dan standar deviasi yang sudah dihitung dari data latih."
      ],
      "metadata": {
        "id": "soSTmZnDJWir"
      }
    },
    {
      "cell_type": "markdown",
      "source": [
        "###Import modul GaussianNB"
      ],
      "metadata": {
        "id": "u9Oxo-cfXcf4"
      }
    },
    {
      "cell_type": "code",
      "source": [
        "from sklearn.naive_bayes import GaussianNB\n",
        "classifier = GaussianNB()\n",
        "classifier.fit(X_train, y_train)"
      ],
      "metadata": {
        "colab": {
          "base_uri": "https://localhost:8080/",
          "height": 75
        },
        "id": "7AePj_92E3EI",
        "outputId": "4bbd5638-31fe-48b1-b4f2-be97d45a987b"
      },
      "execution_count": 113,
      "outputs": [
        {
          "output_type": "execute_result",
          "data": {
            "text/plain": [
              "GaussianNB()"
            ],
            "text/html": [
              "<style>#sk-container-id-4 {color: black;background-color: white;}#sk-container-id-4 pre{padding: 0;}#sk-container-id-4 div.sk-toggleable {background-color: white;}#sk-container-id-4 label.sk-toggleable__label {cursor: pointer;display: block;width: 100%;margin-bottom: 0;padding: 0.3em;box-sizing: border-box;text-align: center;}#sk-container-id-4 label.sk-toggleable__label-arrow:before {content: \"▸\";float: left;margin-right: 0.25em;color: #696969;}#sk-container-id-4 label.sk-toggleable__label-arrow:hover:before {color: black;}#sk-container-id-4 div.sk-estimator:hover label.sk-toggleable__label-arrow:before {color: black;}#sk-container-id-4 div.sk-toggleable__content {max-height: 0;max-width: 0;overflow: hidden;text-align: left;background-color: #f0f8ff;}#sk-container-id-4 div.sk-toggleable__content pre {margin: 0.2em;color: black;border-radius: 0.25em;background-color: #f0f8ff;}#sk-container-id-4 input.sk-toggleable__control:checked~div.sk-toggleable__content {max-height: 200px;max-width: 100%;overflow: auto;}#sk-container-id-4 input.sk-toggleable__control:checked~label.sk-toggleable__label-arrow:before {content: \"▾\";}#sk-container-id-4 div.sk-estimator input.sk-toggleable__control:checked~label.sk-toggleable__label {background-color: #d4ebff;}#sk-container-id-4 div.sk-label input.sk-toggleable__control:checked~label.sk-toggleable__label {background-color: #d4ebff;}#sk-container-id-4 input.sk-hidden--visually {border: 0;clip: rect(1px 1px 1px 1px);clip: rect(1px, 1px, 1px, 1px);height: 1px;margin: -1px;overflow: hidden;padding: 0;position: absolute;width: 1px;}#sk-container-id-4 div.sk-estimator {font-family: monospace;background-color: #f0f8ff;border: 1px dotted black;border-radius: 0.25em;box-sizing: border-box;margin-bottom: 0.5em;}#sk-container-id-4 div.sk-estimator:hover {background-color: #d4ebff;}#sk-container-id-4 div.sk-parallel-item::after {content: \"\";width: 100%;border-bottom: 1px solid gray;flex-grow: 1;}#sk-container-id-4 div.sk-label:hover label.sk-toggleable__label {background-color: #d4ebff;}#sk-container-id-4 div.sk-serial::before {content: \"\";position: absolute;border-left: 1px solid gray;box-sizing: border-box;top: 0;bottom: 0;left: 50%;z-index: 0;}#sk-container-id-4 div.sk-serial {display: flex;flex-direction: column;align-items: center;background-color: white;padding-right: 0.2em;padding-left: 0.2em;position: relative;}#sk-container-id-4 div.sk-item {position: relative;z-index: 1;}#sk-container-id-4 div.sk-parallel {display: flex;align-items: stretch;justify-content: center;background-color: white;position: relative;}#sk-container-id-4 div.sk-item::before, #sk-container-id-4 div.sk-parallel-item::before {content: \"\";position: absolute;border-left: 1px solid gray;box-sizing: border-box;top: 0;bottom: 0;left: 50%;z-index: -1;}#sk-container-id-4 div.sk-parallel-item {display: flex;flex-direction: column;z-index: 1;position: relative;background-color: white;}#sk-container-id-4 div.sk-parallel-item:first-child::after {align-self: flex-end;width: 50%;}#sk-container-id-4 div.sk-parallel-item:last-child::after {align-self: flex-start;width: 50%;}#sk-container-id-4 div.sk-parallel-item:only-child::after {width: 0;}#sk-container-id-4 div.sk-dashed-wrapped {border: 1px dashed gray;margin: 0 0.4em 0.5em 0.4em;box-sizing: border-box;padding-bottom: 0.4em;background-color: white;}#sk-container-id-4 div.sk-label label {font-family: monospace;font-weight: bold;display: inline-block;line-height: 1.2em;}#sk-container-id-4 div.sk-label-container {text-align: center;}#sk-container-id-4 div.sk-container {/* jupyter's `normalize.less` sets `[hidden] { display: none; }` but bootstrap.min.css set `[hidden] { display: none !important; }` so we also need the `!important` here to be able to override the default hidden behavior on the sphinx rendered scikit-learn.org. See: https://github.com/scikit-learn/scikit-learn/issues/21755 */display: inline-block !important;position: relative;}#sk-container-id-4 div.sk-text-repr-fallback {display: none;}</style><div id=\"sk-container-id-4\" class=\"sk-top-container\"><div class=\"sk-text-repr-fallback\"><pre>GaussianNB()</pre><b>In a Jupyter environment, please rerun this cell to show the HTML representation or trust the notebook. <br />On GitHub, the HTML representation is unable to render, please try loading this page with nbviewer.org.</b></div><div class=\"sk-container\" hidden><div class=\"sk-item\"><div class=\"sk-estimator sk-toggleable\"><input class=\"sk-toggleable__control sk-hidden--visually\" id=\"sk-estimator-id-4\" type=\"checkbox\" checked><label for=\"sk-estimator-id-4\" class=\"sk-toggleable__label sk-toggleable__label-arrow\">GaussianNB</label><div class=\"sk-toggleable__content\"><pre>GaussianNB()</pre></div></div></div></div></div>"
            ]
          },
          "metadata": {},
          "execution_count": 113
        }
      ]
    },
    {
      "cell_type": "markdown",
      "source": [
        "Kode tersebut menggunakan modul `GaussianNB` dari scikit-learn untuk membuat model klasifikasi Naive Bayes dengan menggunakan distribusi Gaussian. Model tersebut dilatih dengan memasukkan data latih (`X_train` dan `y_train`) menggunakan metode `fit()`."
      ],
      "metadata": {
        "id": "eTlSSaRXJ8li"
      }
    },
    {
      "cell_type": "markdown",
      "source": [
        "###Melakukan Prediksi"
      ],
      "metadata": {
        "id": "6pG6y_qkXe5M"
      }
    },
    {
      "cell_type": "code",
      "source": [
        "y_pred = classifier.predict(X_test) \n",
        "y_pred"
      ],
      "metadata": {
        "colab": {
          "base_uri": "https://localhost:8080/"
        },
        "id": "JPm-U0mgE6km",
        "outputId": "44b47b6a-8489-4fb0-aa1a-9c4d9db43ba0"
      },
      "execution_count": 114,
      "outputs": [
        {
          "output_type": "execute_result",
          "data": {
            "text/plain": [
              "array(['versicolor', 'setosa', 'virginica', 'versicolor', 'virginica',\n",
              "       'setosa', 'versicolor', 'virginica', 'versicolor', 'versicolor',\n",
              "       'virginica', 'setosa', 'setosa', 'setosa', 'setosa', 'versicolor',\n",
              "       'virginica', 'versicolor', 'versicolor', 'virginica', 'setosa',\n",
              "       'virginica', 'setosa', 'virginica', 'virginica', 'virginica',\n",
              "       'virginica', 'virginica', 'setosa', 'setosa'], dtype='<U10')"
            ]
          },
          "metadata": {},
          "execution_count": 114
        }
      ]
    },
    {
      "cell_type": "markdown",
      "source": [
        "Kode tersebut menggunakan model klasifikasi yang telah dilatih (`classifier`) untuk melakukan prediksi pada data uji (`X_test`). Hasil prediksi disimpan dalam variabel `y_pred`."
      ],
      "metadata": {
        "id": "VvcrdBvSJ_PO"
      }
    },
    {
      "cell_type": "markdown",
      "source": [
        "###Menghitung Akurasi dan menampilkan Confusion Matrix"
      ],
      "metadata": {
        "id": "jBAOjraoXjN0"
      }
    },
    {
      "cell_type": "code",
      "source": [
        "from sklearn.metrics import confusion_matrix\n",
        "cm = confusion_matrix(y_test, y_pred)\n",
        "from sklearn.metrics import accuracy_score \n",
        "print (\"Accuracy : \", accuracy_score(y_test, y_pred))\n",
        "cm"
      ],
      "metadata": {
        "colab": {
          "base_uri": "https://localhost:8080/"
        },
        "id": "8VwUbB--E9YA",
        "outputId": "60f6ec98-8b9e-4448-f105-8e9223d9b68f"
      },
      "execution_count": 115,
      "outputs": [
        {
          "output_type": "stream",
          "name": "stdout",
          "text": [
            "Accuracy :  0.9666666666666667\n"
          ]
        },
        {
          "output_type": "execute_result",
          "data": {
            "text/plain": [
              "array([[10,  0,  0],\n",
              "       [ 0,  8,  1],\n",
              "       [ 0,  0, 11]])"
            ]
          },
          "metadata": {},
          "execution_count": 115
        }
      ]
    },
    {
      "cell_type": "markdown",
      "source": [
        "Kode tersebut menggunakan modul `confusion_matrix` dari scikit-learn untuk menghitung matriks kebingungan antara label sebenarnya (`y_test`) dan label prediksi (`y_pred`). Hasil matriks kebingungan disimpan dalam variabel `cm`. Selanjutnya, kode menggunakan modul `accuracy_score` untuk menghitung akurasi prediksi dari model. Akurasi tersebut kemudian dicetak dengan menggunakan `print()`. Terakhir, matriks kebingungan juga dicetak (`cm`)."
      ],
      "metadata": {
        "id": "cMUC2OlOKNEo"
      }
    },
    {
      "cell_type": "markdown",
      "source": [
        "###**Metode KNN**"
      ],
      "metadata": {
        "id": "QPFMHUMzUzml"
      }
    },
    {
      "cell_type": "markdown",
      "source": [
        "###Spliting Data"
      ],
      "metadata": {
        "id": "HyXVS1djWs6s"
      }
    },
    {
      "cell_type": "code",
      "source": [
        "dataset = data\n",
        "X = dataset.iloc[:,:2].values\n",
        "y = dataset['species'].values\n",
        "dataset.head(5)"
      ],
      "metadata": {
        "colab": {
          "base_uri": "https://localhost:8080/",
          "height": 206
        },
        "id": "Bp8iwPIHMHsg",
        "outputId": "da6d80e3-6799-46fa-a640-44ee6fa8903a"
      },
      "execution_count": 116,
      "outputs": [
        {
          "output_type": "execute_result",
          "data": {
            "text/plain": [
              "          X         Y species\n",
              "0 -2.264542  0.505704  setosa\n",
              "1 -2.086426 -0.655405  setosa\n",
              "2 -2.367950 -0.318477  setosa\n",
              "3 -2.304197 -0.575368  setosa\n",
              "4 -2.388777  0.674767  setosa"
            ],
            "text/html": [
              "\n",
              "  <div id=\"df-bd6fae9a-5c06-46ed-a33c-0ede7e1a5cd4\">\n",
              "    <div class=\"colab-df-container\">\n",
              "      <div>\n",
              "<style scoped>\n",
              "    .dataframe tbody tr th:only-of-type {\n",
              "        vertical-align: middle;\n",
              "    }\n",
              "\n",
              "    .dataframe tbody tr th {\n",
              "        vertical-align: top;\n",
              "    }\n",
              "\n",
              "    .dataframe thead th {\n",
              "        text-align: right;\n",
              "    }\n",
              "</style>\n",
              "<table border=\"1\" class=\"dataframe\">\n",
              "  <thead>\n",
              "    <tr style=\"text-align: right;\">\n",
              "      <th></th>\n",
              "      <th>X</th>\n",
              "      <th>Y</th>\n",
              "      <th>species</th>\n",
              "    </tr>\n",
              "  </thead>\n",
              "  <tbody>\n",
              "    <tr>\n",
              "      <th>0</th>\n",
              "      <td>-2.264542</td>\n",
              "      <td>0.505704</td>\n",
              "      <td>setosa</td>\n",
              "    </tr>\n",
              "    <tr>\n",
              "      <th>1</th>\n",
              "      <td>-2.086426</td>\n",
              "      <td>-0.655405</td>\n",
              "      <td>setosa</td>\n",
              "    </tr>\n",
              "    <tr>\n",
              "      <th>2</th>\n",
              "      <td>-2.367950</td>\n",
              "      <td>-0.318477</td>\n",
              "      <td>setosa</td>\n",
              "    </tr>\n",
              "    <tr>\n",
              "      <th>3</th>\n",
              "      <td>-2.304197</td>\n",
              "      <td>-0.575368</td>\n",
              "      <td>setosa</td>\n",
              "    </tr>\n",
              "    <tr>\n",
              "      <th>4</th>\n",
              "      <td>-2.388777</td>\n",
              "      <td>0.674767</td>\n",
              "      <td>setosa</td>\n",
              "    </tr>\n",
              "  </tbody>\n",
              "</table>\n",
              "</div>\n",
              "      <button class=\"colab-df-convert\" onclick=\"convertToInteractive('df-bd6fae9a-5c06-46ed-a33c-0ede7e1a5cd4')\"\n",
              "              title=\"Convert this dataframe to an interactive table.\"\n",
              "              style=\"display:none;\">\n",
              "        \n",
              "  <svg xmlns=\"http://www.w3.org/2000/svg\" height=\"24px\"viewBox=\"0 0 24 24\"\n",
              "       width=\"24px\">\n",
              "    <path d=\"M0 0h24v24H0V0z\" fill=\"none\"/>\n",
              "    <path d=\"M18.56 5.44l.94 2.06.94-2.06 2.06-.94-2.06-.94-.94-2.06-.94 2.06-2.06.94zm-11 1L8.5 8.5l.94-2.06 2.06-.94-2.06-.94L8.5 2.5l-.94 2.06-2.06.94zm10 10l.94 2.06.94-2.06 2.06-.94-2.06-.94-.94-2.06-.94 2.06-2.06.94z\"/><path d=\"M17.41 7.96l-1.37-1.37c-.4-.4-.92-.59-1.43-.59-.52 0-1.04.2-1.43.59L10.3 9.45l-7.72 7.72c-.78.78-.78 2.05 0 2.83L4 21.41c.39.39.9.59 1.41.59.51 0 1.02-.2 1.41-.59l7.78-7.78 2.81-2.81c.8-.78.8-2.07 0-2.86zM5.41 20L4 18.59l7.72-7.72 1.47 1.35L5.41 20z\"/>\n",
              "  </svg>\n",
              "      </button>\n",
              "      \n",
              "  <style>\n",
              "    .colab-df-container {\n",
              "      display:flex;\n",
              "      flex-wrap:wrap;\n",
              "      gap: 12px;\n",
              "    }\n",
              "\n",
              "    .colab-df-convert {\n",
              "      background-color: #E8F0FE;\n",
              "      border: none;\n",
              "      border-radius: 50%;\n",
              "      cursor: pointer;\n",
              "      display: none;\n",
              "      fill: #1967D2;\n",
              "      height: 32px;\n",
              "      padding: 0 0 0 0;\n",
              "      width: 32px;\n",
              "    }\n",
              "\n",
              "    .colab-df-convert:hover {\n",
              "      background-color: #E2EBFA;\n",
              "      box-shadow: 0px 1px 2px rgba(60, 64, 67, 0.3), 0px 1px 3px 1px rgba(60, 64, 67, 0.15);\n",
              "      fill: #174EA6;\n",
              "    }\n",
              "\n",
              "    [theme=dark] .colab-df-convert {\n",
              "      background-color: #3B4455;\n",
              "      fill: #D2E3FC;\n",
              "    }\n",
              "\n",
              "    [theme=dark] .colab-df-convert:hover {\n",
              "      background-color: #434B5C;\n",
              "      box-shadow: 0px 1px 3px 1px rgba(0, 0, 0, 0.15);\n",
              "      filter: drop-shadow(0px 1px 2px rgba(0, 0, 0, 0.3));\n",
              "      fill: #FFFFFF;\n",
              "    }\n",
              "  </style>\n",
              "\n",
              "      <script>\n",
              "        const buttonEl =\n",
              "          document.querySelector('#df-bd6fae9a-5c06-46ed-a33c-0ede7e1a5cd4 button.colab-df-convert');\n",
              "        buttonEl.style.display =\n",
              "          google.colab.kernel.accessAllowed ? 'block' : 'none';\n",
              "\n",
              "        async function convertToInteractive(key) {\n",
              "          const element = document.querySelector('#df-bd6fae9a-5c06-46ed-a33c-0ede7e1a5cd4');\n",
              "          const dataTable =\n",
              "            await google.colab.kernel.invokeFunction('convertToInteractive',\n",
              "                                                     [key], {});\n",
              "          if (!dataTable) return;\n",
              "\n",
              "          const docLinkHtml = 'Like what you see? Visit the ' +\n",
              "            '<a target=\"_blank\" href=https://colab.research.google.com/notebooks/data_table.ipynb>data table notebook</a>'\n",
              "            + ' to learn more about interactive tables.';\n",
              "          element.innerHTML = '';\n",
              "          dataTable['output_type'] = 'display_data';\n",
              "          await google.colab.output.renderOutput(dataTable, element);\n",
              "          const docLink = document.createElement('div');\n",
              "          docLink.innerHTML = docLinkHtml;\n",
              "          element.appendChild(docLink);\n",
              "        }\n",
              "      </script>\n",
              "    </div>\n",
              "  </div>\n",
              "  "
            ]
          },
          "metadata": {},
          "execution_count": 116
        }
      ]
    },
    {
      "cell_type": "markdown",
      "source": [
        "Kode tersebut mengatur dataset dengan menggunakan DataFrame `data`. Variabel `X` diisi dengan nilai dari dua kolom pertama dalam dataset, sedangkan variabel `y` diisi dengan nilai dari kolom 'species'. Kemudian, dataset yang telah diatur ditampilkan dengan menggunakan metode `head()` untuk melihat lima baris pertama."
      ],
      "metadata": {
        "id": "Xp166phuRcJi"
      }
    },
    {
      "cell_type": "code",
      "source": [
        "from sklearn.model_selection import train_test_split\n",
        "X_train, X_test, y_train, y_test = train_test_split(X, y, test_size = 0.2, random_state=42)"
      ],
      "metadata": {
        "id": "IxuKN2ooMKm9"
      },
      "execution_count": 117,
      "outputs": []
    },
    {
      "cell_type": "markdown",
      "source": [
        "Kode tersebut menggunakan modul `train_test_split` dari scikit-learn untuk membagi dataset menjadi data latih dan data uji. Variabel `X_train` dan `y_train` berisi data latih, sedangkan variabel `X_test` dan `y_test` berisi data uji. Data uji sebesar 20% dari dataset awal dengan seed (random state) 42."
      ],
      "metadata": {
        "id": "v_jdW7v2RdSQ"
      }
    },
    {
      "cell_type": "code",
      "source": [
        "from sklearn.preprocessing import StandardScaler\n",
        "sc = StandardScaler()\n",
        "X_train = sc.fit_transform(X_train)\n",
        "X_test = sc.transform(X_test)"
      ],
      "metadata": {
        "id": "RduPDt78MNZ0"
      },
      "execution_count": 118,
      "outputs": []
    },
    {
      "cell_type": "markdown",
      "source": [
        "Kode tersebut menggunakan modul `StandardScaler` dari scikit-learn untuk melakukan penskalaan fitur pada data. Variabel `X_train` diubah menggunakan metode `fit_transform()` untuk menghitung rata-rata dan standar deviasi dari data latih, dan kemudian melakukan penskalaan pada data latih. Variabel `X_test` diubah menggunakan metode `transform()` untuk menerapkan penskalaan yang sama pada data uji, menggunakan rata-rata dan standar deviasi yang sudah dihitung dari data latih."
      ],
      "metadata": {
        "id": "0CuhqNUQRpFi"
      }
    },
    {
      "cell_type": "markdown",
      "source": [
        "###Import Modul KNeighborsClassifier"
      ],
      "metadata": {
        "id": "B04xTQHcW4yh"
      }
    },
    {
      "cell_type": "code",
      "source": [
        "from sklearn.neighbors import KNeighborsClassifier\n",
        "classifier = KNeighborsClassifier(n_neighbors=5)\n",
        "classifier.fit(X_train, y_train)"
      ],
      "metadata": {
        "colab": {
          "base_uri": "https://localhost:8080/",
          "height": 75
        },
        "id": "lyGIVjnrMPRY",
        "outputId": "ef36f752-cef8-454a-f921-be5cdfe2aa27"
      },
      "execution_count": 119,
      "outputs": [
        {
          "output_type": "execute_result",
          "data": {
            "text/plain": [
              "KNeighborsClassifier()"
            ],
            "text/html": [
              "<style>#sk-container-id-5 {color: black;background-color: white;}#sk-container-id-5 pre{padding: 0;}#sk-container-id-5 div.sk-toggleable {background-color: white;}#sk-container-id-5 label.sk-toggleable__label {cursor: pointer;display: block;width: 100%;margin-bottom: 0;padding: 0.3em;box-sizing: border-box;text-align: center;}#sk-container-id-5 label.sk-toggleable__label-arrow:before {content: \"▸\";float: left;margin-right: 0.25em;color: #696969;}#sk-container-id-5 label.sk-toggleable__label-arrow:hover:before {color: black;}#sk-container-id-5 div.sk-estimator:hover label.sk-toggleable__label-arrow:before {color: black;}#sk-container-id-5 div.sk-toggleable__content {max-height: 0;max-width: 0;overflow: hidden;text-align: left;background-color: #f0f8ff;}#sk-container-id-5 div.sk-toggleable__content pre {margin: 0.2em;color: black;border-radius: 0.25em;background-color: #f0f8ff;}#sk-container-id-5 input.sk-toggleable__control:checked~div.sk-toggleable__content {max-height: 200px;max-width: 100%;overflow: auto;}#sk-container-id-5 input.sk-toggleable__control:checked~label.sk-toggleable__label-arrow:before {content: \"▾\";}#sk-container-id-5 div.sk-estimator input.sk-toggleable__control:checked~label.sk-toggleable__label {background-color: #d4ebff;}#sk-container-id-5 div.sk-label input.sk-toggleable__control:checked~label.sk-toggleable__label {background-color: #d4ebff;}#sk-container-id-5 input.sk-hidden--visually {border: 0;clip: rect(1px 1px 1px 1px);clip: rect(1px, 1px, 1px, 1px);height: 1px;margin: -1px;overflow: hidden;padding: 0;position: absolute;width: 1px;}#sk-container-id-5 div.sk-estimator {font-family: monospace;background-color: #f0f8ff;border: 1px dotted black;border-radius: 0.25em;box-sizing: border-box;margin-bottom: 0.5em;}#sk-container-id-5 div.sk-estimator:hover {background-color: #d4ebff;}#sk-container-id-5 div.sk-parallel-item::after {content: \"\";width: 100%;border-bottom: 1px solid gray;flex-grow: 1;}#sk-container-id-5 div.sk-label:hover label.sk-toggleable__label {background-color: #d4ebff;}#sk-container-id-5 div.sk-serial::before {content: \"\";position: absolute;border-left: 1px solid gray;box-sizing: border-box;top: 0;bottom: 0;left: 50%;z-index: 0;}#sk-container-id-5 div.sk-serial {display: flex;flex-direction: column;align-items: center;background-color: white;padding-right: 0.2em;padding-left: 0.2em;position: relative;}#sk-container-id-5 div.sk-item {position: relative;z-index: 1;}#sk-container-id-5 div.sk-parallel {display: flex;align-items: stretch;justify-content: center;background-color: white;position: relative;}#sk-container-id-5 div.sk-item::before, #sk-container-id-5 div.sk-parallel-item::before {content: \"\";position: absolute;border-left: 1px solid gray;box-sizing: border-box;top: 0;bottom: 0;left: 50%;z-index: -1;}#sk-container-id-5 div.sk-parallel-item {display: flex;flex-direction: column;z-index: 1;position: relative;background-color: white;}#sk-container-id-5 div.sk-parallel-item:first-child::after {align-self: flex-end;width: 50%;}#sk-container-id-5 div.sk-parallel-item:last-child::after {align-self: flex-start;width: 50%;}#sk-container-id-5 div.sk-parallel-item:only-child::after {width: 0;}#sk-container-id-5 div.sk-dashed-wrapped {border: 1px dashed gray;margin: 0 0.4em 0.5em 0.4em;box-sizing: border-box;padding-bottom: 0.4em;background-color: white;}#sk-container-id-5 div.sk-label label {font-family: monospace;font-weight: bold;display: inline-block;line-height: 1.2em;}#sk-container-id-5 div.sk-label-container {text-align: center;}#sk-container-id-5 div.sk-container {/* jupyter's `normalize.less` sets `[hidden] { display: none; }` but bootstrap.min.css set `[hidden] { display: none !important; }` so we also need the `!important` here to be able to override the default hidden behavior on the sphinx rendered scikit-learn.org. See: https://github.com/scikit-learn/scikit-learn/issues/21755 */display: inline-block !important;position: relative;}#sk-container-id-5 div.sk-text-repr-fallback {display: none;}</style><div id=\"sk-container-id-5\" class=\"sk-top-container\"><div class=\"sk-text-repr-fallback\"><pre>KNeighborsClassifier()</pre><b>In a Jupyter environment, please rerun this cell to show the HTML representation or trust the notebook. <br />On GitHub, the HTML representation is unable to render, please try loading this page with nbviewer.org.</b></div><div class=\"sk-container\" hidden><div class=\"sk-item\"><div class=\"sk-estimator sk-toggleable\"><input class=\"sk-toggleable__control sk-hidden--visually\" id=\"sk-estimator-id-5\" type=\"checkbox\" checked><label for=\"sk-estimator-id-5\" class=\"sk-toggleable__label sk-toggleable__label-arrow\">KNeighborsClassifier</label><div class=\"sk-toggleable__content\"><pre>KNeighborsClassifier()</pre></div></div></div></div></div>"
            ]
          },
          "metadata": {},
          "execution_count": 119
        }
      ]
    },
    {
      "cell_type": "markdown",
      "source": [
        "Kode tersebut menggunakan modul `KNeighborsClassifier` dari scikit-learn untuk membuat model klasifikasi K-Nearest Neighbors (KNN) dengan jumlah tetangga terdekat sebanyak 5. Model tersebut dilatih dengan memasukkan data latih (`X_train` dan `y_train`) menggunakan metode `fit()`."
      ],
      "metadata": {
        "id": "leT0DmnWRvj8"
      }
    },
    {
      "cell_type": "markdown",
      "source": [
        "###Melakukan Prediksi"
      ],
      "metadata": {
        "id": "Vs-UFOfRW_z7"
      }
    },
    {
      "cell_type": "code",
      "source": [
        "y_pred = classifier.predict(X_test) \n",
        "y_pred"
      ],
      "metadata": {
        "colab": {
          "base_uri": "https://localhost:8080/"
        },
        "id": "MvZDq1KXMRP2",
        "outputId": "38627aab-f6b6-4a16-9974-e93251022d84"
      },
      "execution_count": 120,
      "outputs": [
        {
          "output_type": "execute_result",
          "data": {
            "text/plain": [
              "array(['versicolor', 'setosa', 'virginica', 'versicolor', 'virginica',\n",
              "       'setosa', 'versicolor', 'virginica', 'versicolor', 'versicolor',\n",
              "       'versicolor', 'setosa', 'setosa', 'setosa', 'setosa', 'versicolor',\n",
              "       'virginica', 'versicolor', 'versicolor', 'virginica', 'setosa',\n",
              "       'versicolor', 'setosa', 'virginica', 'virginica', 'virginica',\n",
              "       'virginica', 'virginica', 'setosa', 'setosa'], dtype=object)"
            ]
          },
          "metadata": {},
          "execution_count": 120
        }
      ]
    },
    {
      "cell_type": "markdown",
      "source": [
        "Kode tersebut menggunakan model klasifikasi K-Nearest Neighbors (KNN) yang telah dilatih (`classifier`) untuk melakukan prediksi pada data uji (`X_test`). Hasil prediksi disimpan dalam variabel `y_pred`."
      ],
      "metadata": {
        "id": "i3p7R04uSaZq"
      }
    },
    {
      "cell_type": "markdown",
      "source": [
        "###Menghitung Akurasi dan menampilkan Confusion Matrix"
      ],
      "metadata": {
        "id": "F7vw-4piXIHN"
      }
    },
    {
      "cell_type": "code",
      "source": [
        "from sklearn.metrics import confusion_matrix\n",
        "cm = confusion_matrix(y_test, y_pred)\n",
        "from sklearn.metrics import accuracy_score \n",
        "print (\"Accuracy : \", accuracy_score(y_test, y_pred))\n",
        "cm"
      ],
      "metadata": {
        "colab": {
          "base_uri": "https://localhost:8080/"
        },
        "id": "BB5KBL1GMTe4",
        "outputId": "f2214740-bea7-420f-bf0e-172d3c01adf5"
      },
      "execution_count": 121,
      "outputs": [
        {
          "output_type": "stream",
          "name": "stdout",
          "text": [
            "Accuracy :  0.9\n"
          ]
        },
        {
          "output_type": "execute_result",
          "data": {
            "text/plain": [
              "array([[10,  0,  0],\n",
              "       [ 0,  8,  1],\n",
              "       [ 0,  2,  9]])"
            ]
          },
          "metadata": {},
          "execution_count": 121
        }
      ]
    },
    {
      "cell_type": "markdown",
      "source": [
        "Kode tersebut menggunakan modul `confusion_matrix` dari scikit-learn untuk menghitung matriks kebingungan antara label sebenarnya (`y_test`) dan label prediksi (`y_pred`). Hasil matriks kebingungan disimpan dalam variabel `cm`. Selanjutnya, kode menggunakan modul `accuracy_score` untuk menghitung akurasi prediksi dari model. Akurasi tersebut kemudian dicetak dengan menggunakan `print()`. Terakhir, matriks kebingungan juga dicetak (`cm`)."
      ],
      "metadata": {
        "id": "2mpzGmcVSh6_"
      }
    },
    {
      "cell_type": "markdown",
      "source": [
        "###Membuat Dataframe yang berisi menampilkan label sebenarnya dan label yang diprediksi untuk setiap data pada data uji."
      ],
      "metadata": {
        "id": "jt2go2BOXQj8"
      }
    },
    {
      "cell_type": "code",
      "source": [
        "df = pd.DataFrame({'Real Values':y_test, 'Predicted Values':y_pred})\n",
        "df"
      ],
      "metadata": {
        "colab": {
          "base_uri": "https://localhost:8080/",
          "height": 990
        },
        "id": "7Eho526SMV9N",
        "outputId": "29b64355-918a-42dd-d71e-0efe9b5d8d84"
      },
      "execution_count": 122,
      "outputs": [
        {
          "output_type": "execute_result",
          "data": {
            "text/plain": [
              "   Real Values Predicted Values\n",
              "0   versicolor       versicolor\n",
              "1       setosa           setosa\n",
              "2    virginica        virginica\n",
              "3   versicolor       versicolor\n",
              "4   versicolor        virginica\n",
              "5       setosa           setosa\n",
              "6   versicolor       versicolor\n",
              "7    virginica        virginica\n",
              "8   versicolor       versicolor\n",
              "9   versicolor       versicolor\n",
              "10   virginica       versicolor\n",
              "11      setosa           setosa\n",
              "12      setosa           setosa\n",
              "13      setosa           setosa\n",
              "14      setosa           setosa\n",
              "15  versicolor       versicolor\n",
              "16   virginica        virginica\n",
              "17  versicolor       versicolor\n",
              "18  versicolor       versicolor\n",
              "19   virginica        virginica\n",
              "20      setosa           setosa\n",
              "21   virginica       versicolor\n",
              "22      setosa           setosa\n",
              "23   virginica        virginica\n",
              "24   virginica        virginica\n",
              "25   virginica        virginica\n",
              "26   virginica        virginica\n",
              "27   virginica        virginica\n",
              "28      setosa           setosa\n",
              "29      setosa           setosa"
            ],
            "text/html": [
              "\n",
              "  <div id=\"df-f68ee7ed-602e-4285-9749-300c2cd457fc\">\n",
              "    <div class=\"colab-df-container\">\n",
              "      <div>\n",
              "<style scoped>\n",
              "    .dataframe tbody tr th:only-of-type {\n",
              "        vertical-align: middle;\n",
              "    }\n",
              "\n",
              "    .dataframe tbody tr th {\n",
              "        vertical-align: top;\n",
              "    }\n",
              "\n",
              "    .dataframe thead th {\n",
              "        text-align: right;\n",
              "    }\n",
              "</style>\n",
              "<table border=\"1\" class=\"dataframe\">\n",
              "  <thead>\n",
              "    <tr style=\"text-align: right;\">\n",
              "      <th></th>\n",
              "      <th>Real Values</th>\n",
              "      <th>Predicted Values</th>\n",
              "    </tr>\n",
              "  </thead>\n",
              "  <tbody>\n",
              "    <tr>\n",
              "      <th>0</th>\n",
              "      <td>versicolor</td>\n",
              "      <td>versicolor</td>\n",
              "    </tr>\n",
              "    <tr>\n",
              "      <th>1</th>\n",
              "      <td>setosa</td>\n",
              "      <td>setosa</td>\n",
              "    </tr>\n",
              "    <tr>\n",
              "      <th>2</th>\n",
              "      <td>virginica</td>\n",
              "      <td>virginica</td>\n",
              "    </tr>\n",
              "    <tr>\n",
              "      <th>3</th>\n",
              "      <td>versicolor</td>\n",
              "      <td>versicolor</td>\n",
              "    </tr>\n",
              "    <tr>\n",
              "      <th>4</th>\n",
              "      <td>versicolor</td>\n",
              "      <td>virginica</td>\n",
              "    </tr>\n",
              "    <tr>\n",
              "      <th>5</th>\n",
              "      <td>setosa</td>\n",
              "      <td>setosa</td>\n",
              "    </tr>\n",
              "    <tr>\n",
              "      <th>6</th>\n",
              "      <td>versicolor</td>\n",
              "      <td>versicolor</td>\n",
              "    </tr>\n",
              "    <tr>\n",
              "      <th>7</th>\n",
              "      <td>virginica</td>\n",
              "      <td>virginica</td>\n",
              "    </tr>\n",
              "    <tr>\n",
              "      <th>8</th>\n",
              "      <td>versicolor</td>\n",
              "      <td>versicolor</td>\n",
              "    </tr>\n",
              "    <tr>\n",
              "      <th>9</th>\n",
              "      <td>versicolor</td>\n",
              "      <td>versicolor</td>\n",
              "    </tr>\n",
              "    <tr>\n",
              "      <th>10</th>\n",
              "      <td>virginica</td>\n",
              "      <td>versicolor</td>\n",
              "    </tr>\n",
              "    <tr>\n",
              "      <th>11</th>\n",
              "      <td>setosa</td>\n",
              "      <td>setosa</td>\n",
              "    </tr>\n",
              "    <tr>\n",
              "      <th>12</th>\n",
              "      <td>setosa</td>\n",
              "      <td>setosa</td>\n",
              "    </tr>\n",
              "    <tr>\n",
              "      <th>13</th>\n",
              "      <td>setosa</td>\n",
              "      <td>setosa</td>\n",
              "    </tr>\n",
              "    <tr>\n",
              "      <th>14</th>\n",
              "      <td>setosa</td>\n",
              "      <td>setosa</td>\n",
              "    </tr>\n",
              "    <tr>\n",
              "      <th>15</th>\n",
              "      <td>versicolor</td>\n",
              "      <td>versicolor</td>\n",
              "    </tr>\n",
              "    <tr>\n",
              "      <th>16</th>\n",
              "      <td>virginica</td>\n",
              "      <td>virginica</td>\n",
              "    </tr>\n",
              "    <tr>\n",
              "      <th>17</th>\n",
              "      <td>versicolor</td>\n",
              "      <td>versicolor</td>\n",
              "    </tr>\n",
              "    <tr>\n",
              "      <th>18</th>\n",
              "      <td>versicolor</td>\n",
              "      <td>versicolor</td>\n",
              "    </tr>\n",
              "    <tr>\n",
              "      <th>19</th>\n",
              "      <td>virginica</td>\n",
              "      <td>virginica</td>\n",
              "    </tr>\n",
              "    <tr>\n",
              "      <th>20</th>\n",
              "      <td>setosa</td>\n",
              "      <td>setosa</td>\n",
              "    </tr>\n",
              "    <tr>\n",
              "      <th>21</th>\n",
              "      <td>virginica</td>\n",
              "      <td>versicolor</td>\n",
              "    </tr>\n",
              "    <tr>\n",
              "      <th>22</th>\n",
              "      <td>setosa</td>\n",
              "      <td>setosa</td>\n",
              "    </tr>\n",
              "    <tr>\n",
              "      <th>23</th>\n",
              "      <td>virginica</td>\n",
              "      <td>virginica</td>\n",
              "    </tr>\n",
              "    <tr>\n",
              "      <th>24</th>\n",
              "      <td>virginica</td>\n",
              "      <td>virginica</td>\n",
              "    </tr>\n",
              "    <tr>\n",
              "      <th>25</th>\n",
              "      <td>virginica</td>\n",
              "      <td>virginica</td>\n",
              "    </tr>\n",
              "    <tr>\n",
              "      <th>26</th>\n",
              "      <td>virginica</td>\n",
              "      <td>virginica</td>\n",
              "    </tr>\n",
              "    <tr>\n",
              "      <th>27</th>\n",
              "      <td>virginica</td>\n",
              "      <td>virginica</td>\n",
              "    </tr>\n",
              "    <tr>\n",
              "      <th>28</th>\n",
              "      <td>setosa</td>\n",
              "      <td>setosa</td>\n",
              "    </tr>\n",
              "    <tr>\n",
              "      <th>29</th>\n",
              "      <td>setosa</td>\n",
              "      <td>setosa</td>\n",
              "    </tr>\n",
              "  </tbody>\n",
              "</table>\n",
              "</div>\n",
              "      <button class=\"colab-df-convert\" onclick=\"convertToInteractive('df-f68ee7ed-602e-4285-9749-300c2cd457fc')\"\n",
              "              title=\"Convert this dataframe to an interactive table.\"\n",
              "              style=\"display:none;\">\n",
              "        \n",
              "  <svg xmlns=\"http://www.w3.org/2000/svg\" height=\"24px\"viewBox=\"0 0 24 24\"\n",
              "       width=\"24px\">\n",
              "    <path d=\"M0 0h24v24H0V0z\" fill=\"none\"/>\n",
              "    <path d=\"M18.56 5.44l.94 2.06.94-2.06 2.06-.94-2.06-.94-.94-2.06-.94 2.06-2.06.94zm-11 1L8.5 8.5l.94-2.06 2.06-.94-2.06-.94L8.5 2.5l-.94 2.06-2.06.94zm10 10l.94 2.06.94-2.06 2.06-.94-2.06-.94-.94-2.06-.94 2.06-2.06.94z\"/><path d=\"M17.41 7.96l-1.37-1.37c-.4-.4-.92-.59-1.43-.59-.52 0-1.04.2-1.43.59L10.3 9.45l-7.72 7.72c-.78.78-.78 2.05 0 2.83L4 21.41c.39.39.9.59 1.41.59.51 0 1.02-.2 1.41-.59l7.78-7.78 2.81-2.81c.8-.78.8-2.07 0-2.86zM5.41 20L4 18.59l7.72-7.72 1.47 1.35L5.41 20z\"/>\n",
              "  </svg>\n",
              "      </button>\n",
              "      \n",
              "  <style>\n",
              "    .colab-df-container {\n",
              "      display:flex;\n",
              "      flex-wrap:wrap;\n",
              "      gap: 12px;\n",
              "    }\n",
              "\n",
              "    .colab-df-convert {\n",
              "      background-color: #E8F0FE;\n",
              "      border: none;\n",
              "      border-radius: 50%;\n",
              "      cursor: pointer;\n",
              "      display: none;\n",
              "      fill: #1967D2;\n",
              "      height: 32px;\n",
              "      padding: 0 0 0 0;\n",
              "      width: 32px;\n",
              "    }\n",
              "\n",
              "    .colab-df-convert:hover {\n",
              "      background-color: #E2EBFA;\n",
              "      box-shadow: 0px 1px 2px rgba(60, 64, 67, 0.3), 0px 1px 3px 1px rgba(60, 64, 67, 0.15);\n",
              "      fill: #174EA6;\n",
              "    }\n",
              "\n",
              "    [theme=dark] .colab-df-convert {\n",
              "      background-color: #3B4455;\n",
              "      fill: #D2E3FC;\n",
              "    }\n",
              "\n",
              "    [theme=dark] .colab-df-convert:hover {\n",
              "      background-color: #434B5C;\n",
              "      box-shadow: 0px 1px 3px 1px rgba(0, 0, 0, 0.15);\n",
              "      filter: drop-shadow(0px 1px 2px rgba(0, 0, 0, 0.3));\n",
              "      fill: #FFFFFF;\n",
              "    }\n",
              "  </style>\n",
              "\n",
              "      <script>\n",
              "        const buttonEl =\n",
              "          document.querySelector('#df-f68ee7ed-602e-4285-9749-300c2cd457fc button.colab-df-convert');\n",
              "        buttonEl.style.display =\n",
              "          google.colab.kernel.accessAllowed ? 'block' : 'none';\n",
              "\n",
              "        async function convertToInteractive(key) {\n",
              "          const element = document.querySelector('#df-f68ee7ed-602e-4285-9749-300c2cd457fc');\n",
              "          const dataTable =\n",
              "            await google.colab.kernel.invokeFunction('convertToInteractive',\n",
              "                                                     [key], {});\n",
              "          if (!dataTable) return;\n",
              "\n",
              "          const docLinkHtml = 'Like what you see? Visit the ' +\n",
              "            '<a target=\"_blank\" href=https://colab.research.google.com/notebooks/data_table.ipynb>data table notebook</a>'\n",
              "            + ' to learn more about interactive tables.';\n",
              "          element.innerHTML = '';\n",
              "          dataTable['output_type'] = 'display_data';\n",
              "          await google.colab.output.renderOutput(dataTable, element);\n",
              "          const docLink = document.createElement('div');\n",
              "          docLink.innerHTML = docLinkHtml;\n",
              "          element.appendChild(docLink);\n",
              "        }\n",
              "      </script>\n",
              "    </div>\n",
              "  </div>\n",
              "  "
            ]
          },
          "metadata": {},
          "execution_count": 122
        }
      ]
    },
    {
      "cell_type": "markdown",
      "source": [
        "Kode tersebut membuat DataFrame `df` yang berisi kolom \"Real Values\" yang berisi nilai sebenarnya dari data uji (`y_test`) dan kolom \"Predicted Values\" yang berisi nilai prediksi dari model (`y_pred`)."
      ],
      "metadata": {
        "id": "eu6Q-wxZSpxh"
      }
    },
    {
      "cell_type": "markdown",
      "source": [
        "###**Metode ANN**"
      ],
      "metadata": {
        "id": "HwtHuFFrVJpB"
      }
    },
    {
      "cell_type": "code",
      "source": [
        "dt=data\n",
        "dt"
      ],
      "metadata": {
        "colab": {
          "base_uri": "https://localhost:8080/",
          "height": 424
        },
        "id": "gPX8f5oqOR1-",
        "outputId": "b9d2a0b2-1355-43e4-c5a9-2a17fac9f8ad"
      },
      "execution_count": 123,
      "outputs": [
        {
          "output_type": "execute_result",
          "data": {
            "text/plain": [
              "            X         Y    species\n",
              "0   -2.264542  0.505704     setosa\n",
              "1   -2.086426 -0.655405     setosa\n",
              "2   -2.367950 -0.318477     setosa\n",
              "3   -2.304197 -0.575368     setosa\n",
              "4   -2.388777  0.674767     setosa\n",
              "..        ...       ...        ...\n",
              "145  1.870522  0.382822  virginica\n",
              "146  1.558492 -0.905314  virginica\n",
              "147  1.520845  0.266795  virginica\n",
              "148  1.376391  1.016362  virginica\n",
              "149  0.959299 -0.022284  virginica\n",
              "\n",
              "[150 rows x 3 columns]"
            ],
            "text/html": [
              "\n",
              "  <div id=\"df-6b39aaac-1e2c-4200-b565-74520eb16336\">\n",
              "    <div class=\"colab-df-container\">\n",
              "      <div>\n",
              "<style scoped>\n",
              "    .dataframe tbody tr th:only-of-type {\n",
              "        vertical-align: middle;\n",
              "    }\n",
              "\n",
              "    .dataframe tbody tr th {\n",
              "        vertical-align: top;\n",
              "    }\n",
              "\n",
              "    .dataframe thead th {\n",
              "        text-align: right;\n",
              "    }\n",
              "</style>\n",
              "<table border=\"1\" class=\"dataframe\">\n",
              "  <thead>\n",
              "    <tr style=\"text-align: right;\">\n",
              "      <th></th>\n",
              "      <th>X</th>\n",
              "      <th>Y</th>\n",
              "      <th>species</th>\n",
              "    </tr>\n",
              "  </thead>\n",
              "  <tbody>\n",
              "    <tr>\n",
              "      <th>0</th>\n",
              "      <td>-2.264542</td>\n",
              "      <td>0.505704</td>\n",
              "      <td>setosa</td>\n",
              "    </tr>\n",
              "    <tr>\n",
              "      <th>1</th>\n",
              "      <td>-2.086426</td>\n",
              "      <td>-0.655405</td>\n",
              "      <td>setosa</td>\n",
              "    </tr>\n",
              "    <tr>\n",
              "      <th>2</th>\n",
              "      <td>-2.367950</td>\n",
              "      <td>-0.318477</td>\n",
              "      <td>setosa</td>\n",
              "    </tr>\n",
              "    <tr>\n",
              "      <th>3</th>\n",
              "      <td>-2.304197</td>\n",
              "      <td>-0.575368</td>\n",
              "      <td>setosa</td>\n",
              "    </tr>\n",
              "    <tr>\n",
              "      <th>4</th>\n",
              "      <td>-2.388777</td>\n",
              "      <td>0.674767</td>\n",
              "      <td>setosa</td>\n",
              "    </tr>\n",
              "    <tr>\n",
              "      <th>...</th>\n",
              "      <td>...</td>\n",
              "      <td>...</td>\n",
              "      <td>...</td>\n",
              "    </tr>\n",
              "    <tr>\n",
              "      <th>145</th>\n",
              "      <td>1.870522</td>\n",
              "      <td>0.382822</td>\n",
              "      <td>virginica</td>\n",
              "    </tr>\n",
              "    <tr>\n",
              "      <th>146</th>\n",
              "      <td>1.558492</td>\n",
              "      <td>-0.905314</td>\n",
              "      <td>virginica</td>\n",
              "    </tr>\n",
              "    <tr>\n",
              "      <th>147</th>\n",
              "      <td>1.520845</td>\n",
              "      <td>0.266795</td>\n",
              "      <td>virginica</td>\n",
              "    </tr>\n",
              "    <tr>\n",
              "      <th>148</th>\n",
              "      <td>1.376391</td>\n",
              "      <td>1.016362</td>\n",
              "      <td>virginica</td>\n",
              "    </tr>\n",
              "    <tr>\n",
              "      <th>149</th>\n",
              "      <td>0.959299</td>\n",
              "      <td>-0.022284</td>\n",
              "      <td>virginica</td>\n",
              "    </tr>\n",
              "  </tbody>\n",
              "</table>\n",
              "<p>150 rows × 3 columns</p>\n",
              "</div>\n",
              "      <button class=\"colab-df-convert\" onclick=\"convertToInteractive('df-6b39aaac-1e2c-4200-b565-74520eb16336')\"\n",
              "              title=\"Convert this dataframe to an interactive table.\"\n",
              "              style=\"display:none;\">\n",
              "        \n",
              "  <svg xmlns=\"http://www.w3.org/2000/svg\" height=\"24px\"viewBox=\"0 0 24 24\"\n",
              "       width=\"24px\">\n",
              "    <path d=\"M0 0h24v24H0V0z\" fill=\"none\"/>\n",
              "    <path d=\"M18.56 5.44l.94 2.06.94-2.06 2.06-.94-2.06-.94-.94-2.06-.94 2.06-2.06.94zm-11 1L8.5 8.5l.94-2.06 2.06-.94-2.06-.94L8.5 2.5l-.94 2.06-2.06.94zm10 10l.94 2.06.94-2.06 2.06-.94-2.06-.94-.94-2.06-.94 2.06-2.06.94z\"/><path d=\"M17.41 7.96l-1.37-1.37c-.4-.4-.92-.59-1.43-.59-.52 0-1.04.2-1.43.59L10.3 9.45l-7.72 7.72c-.78.78-.78 2.05 0 2.83L4 21.41c.39.39.9.59 1.41.59.51 0 1.02-.2 1.41-.59l7.78-7.78 2.81-2.81c.8-.78.8-2.07 0-2.86zM5.41 20L4 18.59l7.72-7.72 1.47 1.35L5.41 20z\"/>\n",
              "  </svg>\n",
              "      </button>\n",
              "      \n",
              "  <style>\n",
              "    .colab-df-container {\n",
              "      display:flex;\n",
              "      flex-wrap:wrap;\n",
              "      gap: 12px;\n",
              "    }\n",
              "\n",
              "    .colab-df-convert {\n",
              "      background-color: #E8F0FE;\n",
              "      border: none;\n",
              "      border-radius: 50%;\n",
              "      cursor: pointer;\n",
              "      display: none;\n",
              "      fill: #1967D2;\n",
              "      height: 32px;\n",
              "      padding: 0 0 0 0;\n",
              "      width: 32px;\n",
              "    }\n",
              "\n",
              "    .colab-df-convert:hover {\n",
              "      background-color: #E2EBFA;\n",
              "      box-shadow: 0px 1px 2px rgba(60, 64, 67, 0.3), 0px 1px 3px 1px rgba(60, 64, 67, 0.15);\n",
              "      fill: #174EA6;\n",
              "    }\n",
              "\n",
              "    [theme=dark] .colab-df-convert {\n",
              "      background-color: #3B4455;\n",
              "      fill: #D2E3FC;\n",
              "    }\n",
              "\n",
              "    [theme=dark] .colab-df-convert:hover {\n",
              "      background-color: #434B5C;\n",
              "      box-shadow: 0px 1px 3px 1px rgba(0, 0, 0, 0.15);\n",
              "      filter: drop-shadow(0px 1px 2px rgba(0, 0, 0, 0.3));\n",
              "      fill: #FFFFFF;\n",
              "    }\n",
              "  </style>\n",
              "\n",
              "      <script>\n",
              "        const buttonEl =\n",
              "          document.querySelector('#df-6b39aaac-1e2c-4200-b565-74520eb16336 button.colab-df-convert');\n",
              "        buttonEl.style.display =\n",
              "          google.colab.kernel.accessAllowed ? 'block' : 'none';\n",
              "\n",
              "        async function convertToInteractive(key) {\n",
              "          const element = document.querySelector('#df-6b39aaac-1e2c-4200-b565-74520eb16336');\n",
              "          const dataTable =\n",
              "            await google.colab.kernel.invokeFunction('convertToInteractive',\n",
              "                                                     [key], {});\n",
              "          if (!dataTable) return;\n",
              "\n",
              "          const docLinkHtml = 'Like what you see? Visit the ' +\n",
              "            '<a target=\"_blank\" href=https://colab.research.google.com/notebooks/data_table.ipynb>data table notebook</a>'\n",
              "            + ' to learn more about interactive tables.';\n",
              "          element.innerHTML = '';\n",
              "          dataTable['output_type'] = 'display_data';\n",
              "          await google.colab.output.renderOutput(dataTable, element);\n",
              "          const docLink = document.createElement('div');\n",
              "          docLink.innerHTML = docLinkHtml;\n",
              "          element.appendChild(docLink);\n",
              "        }\n",
              "      </script>\n",
              "    </div>\n",
              "  </div>\n",
              "  "
            ]
          },
          "metadata": {},
          "execution_count": 123
        }
      ]
    },
    {
      "cell_type": "markdown",
      "source": [
        "Kode tersebut mengatur DataFrame `dt` dengan menggunakan DataFrame `data`. DataFrame `dt` akan memiliki struktur yang sama dengan DataFrame `data`."
      ],
      "metadata": {
        "id": "PcwvBWmDTXEZ"
      }
    },
    {
      "cell_type": "markdown",
      "source": [
        "###Import Modul MLPClassifier"
      ],
      "metadata": {
        "id": "cs4k38lQZo1f"
      }
    },
    {
      "cell_type": "code",
      "source": [
        "from sklearn.neural_network import MLPClassifier\n",
        "from sklearn.model_selection import train_test_split\n",
        "from sklearn.metrics import accuracy_score\n",
        "from sklearn.metrics import confusion_matrix"
      ],
      "metadata": {
        "id": "WmyMbz_LOakV"
      },
      "execution_count": 124,
      "outputs": []
    },
    {
      "cell_type": "markdown",
      "source": [
        "Kode tersebut mengimpor beberapa modul dari scikit-learn, yaitu `MLPClassifier` untuk membuat model jaringan saraf tiruan, `train_test_split` untuk membagi data menjadi data latih dan data uji, `accuracy_score` untuk menghitung akurasi prediksi, dan `confusion_matrix` untuk menghitung matriks kebingungan."
      ],
      "metadata": {
        "id": "By_blXmfTYJk"
      }
    },
    {
      "cell_type": "code",
      "source": [
        "y = dt['species']\n",
        "x = dt.drop(['species'], axis=1)"
      ],
      "metadata": {
        "id": "gYfRw26SObuz"
      },
      "execution_count": 125,
      "outputs": []
    },
    {
      "cell_type": "markdown",
      "source": [
        "Kode tersebut mengatur variabel `y` dengan kolom 'species' dari DataFrame `dt`, sementara variabel `x` mengatur DataFrame `dt` dengan menghapus kolom 'species' menggunakan metode `drop()`. Variabel `x` akan berisi fitur-fitur lainnya selain kolom 'species'."
      ],
      "metadata": {
        "id": "7bKt_tv8TbgD"
      }
    },
    {
      "cell_type": "markdown",
      "source": [
        "###Splitting Data"
      ],
      "metadata": {
        "id": "DmpDpfnpZuJF"
      }
    },
    {
      "cell_type": "code",
      "source": [
        "x_train, x_test, y_train, y_test = train_test_split(x,y, test_size= 0.2, random_state=27)"
      ],
      "metadata": {
        "id": "086FDc2vOeuN"
      },
      "execution_count": 126,
      "outputs": []
    },
    {
      "cell_type": "markdown",
      "source": [
        "Kode tersebut menggunakan modul `train_test_split` dari scikit-learn untuk membagi data menjadi data latih dan data uji. Variabel `x_train` dan `y_train` berisi data latih, sedangkan variabel `x_test` dan `y_test` berisi data uji. Data uji sebesar 20% dari dataset awal dengan seed (random state) 27."
      ],
      "metadata": {
        "id": "b8jua639Tfow"
      }
    },
    {
      "cell_type": "markdown",
      "source": [
        "###Konfigurasi Pada Modul MLPClassifier"
      ],
      "metadata": {
        "id": "TNSUGZXCZv1A"
      }
    },
    {
      "cell_type": "code",
      "source": [
        "clf = MLPClassifier(hidden_layer_sizes=(100,100,100), max_iter=1000, alpha=0.0001,\n",
        "                     solver='sgd', verbose=10,  random_state=21,tol=0.001)"
      ],
      "metadata": {
        "id": "uddFSmuGOhA0"
      },
      "execution_count": 127,
      "outputs": []
    },
    {
      "cell_type": "markdown",
      "source": [
        "Kode tersebut membuat objek `clf` yang merupakan model klasifikasi jaringan saraf tiruan (MLPClassifier) dengan spesifikasi berikut:\n",
        "- `hidden_layer_sizes=(100, 100, 100)`: Model memiliki 3 lapisan tersembunyi, masing-masing dengan 100 neuron.\n",
        "- `max_iter=1000`: Jumlah iterasi maksimum saat melatih model.\n",
        "- `alpha=0.0001`: Parameter yang mengontrol kekuatan regularisasi.\n",
        "- `solver='sgd'`: Algoritma yang digunakan untuk memperbarui bobot.\n",
        "- `verbose=10`: Menampilkan informasi detail selama proses pelatihan dengan interval setiap 10 iterasi.\n",
        "- `random_state=21`: Seed (random state) untuk menghasilkan hasil yang konsisten.\n",
        "- `tol=0.001`: Toleransi untuk kriteria penghentian pelatihan."
      ],
      "metadata": {
        "id": "8FIO1PmxUMTI"
      }
    },
    {
      "cell_type": "markdown",
      "source": [
        "###Melatih Model MLPClassifier"
      ],
      "metadata": {
        "id": "uWNibva1Z1E0"
      }
    },
    {
      "cell_type": "code",
      "source": [
        "clf.fit(x_train, y_train)\n",
        "y_pred=clf.predict(x_test)"
      ],
      "metadata": {
        "colab": {
          "base_uri": "https://localhost:8080/"
        },
        "id": "jx85YuC0Oo83",
        "outputId": "4aadd5bb-b852-4a2b-9a6d-b4368fb86f05"
      },
      "execution_count": 128,
      "outputs": [
        {
          "output_type": "stream",
          "name": "stdout",
          "text": [
            "Iteration 1, loss = 1.12425212\n",
            "Iteration 2, loss = 1.12259787\n",
            "Iteration 3, loss = 1.12024753\n",
            "Iteration 4, loss = 1.11728118\n",
            "Iteration 5, loss = 1.11376419\n",
            "Iteration 6, loss = 1.10976449\n",
            "Iteration 7, loss = 1.10533755\n",
            "Iteration 8, loss = 1.10053478\n",
            "Iteration 9, loss = 1.09540901\n",
            "Iteration 10, loss = 1.08999489\n",
            "Iteration 11, loss = 1.08433644\n",
            "Iteration 12, loss = 1.07847704\n",
            "Iteration 13, loss = 1.07244954\n",
            "Iteration 14, loss = 1.06628675\n",
            "Iteration 15, loss = 1.06001100\n",
            "Iteration 16, loss = 1.05365452\n",
            "Iteration 17, loss = 1.04723564\n",
            "Iteration 18, loss = 1.04077332\n",
            "Iteration 19, loss = 1.03429769\n",
            "Iteration 20, loss = 1.02781424\n",
            "Iteration 21, loss = 1.02132868\n",
            "Iteration 22, loss = 1.01485323\n",
            "Iteration 23, loss = 1.00839348\n",
            "Iteration 24, loss = 1.00196105\n",
            "Iteration 25, loss = 0.99554671\n",
            "Iteration 26, loss = 0.98917157\n",
            "Iteration 27, loss = 0.98284874\n",
            "Iteration 28, loss = 0.97657544\n",
            "Iteration 29, loss = 0.97034436\n",
            "Iteration 30, loss = 0.96414583\n",
            "Iteration 31, loss = 0.95798757\n",
            "Iteration 32, loss = 0.95186862\n",
            "Iteration 33, loss = 0.94579771\n",
            "Iteration 34, loss = 0.93976226\n",
            "Iteration 35, loss = 0.93377206\n",
            "Iteration 36, loss = 0.92784292\n",
            "Iteration 37, loss = 0.92196844\n",
            "Iteration 38, loss = 0.91614622\n",
            "Iteration 39, loss = 0.91037145\n",
            "Iteration 40, loss = 0.90464036\n",
            "Iteration 41, loss = 0.89895314\n",
            "Iteration 42, loss = 0.89331159\n",
            "Iteration 43, loss = 0.88771364\n",
            "Iteration 44, loss = 0.88214992\n",
            "Iteration 45, loss = 0.87662760\n",
            "Iteration 46, loss = 0.87118266\n",
            "Iteration 47, loss = 0.86578926\n",
            "Iteration 48, loss = 0.86044345\n",
            "Iteration 49, loss = 0.85513557\n",
            "Iteration 50, loss = 0.84984470\n",
            "Iteration 51, loss = 0.84457278\n",
            "Iteration 52, loss = 0.83931996\n",
            "Iteration 53, loss = 0.83409008\n",
            "Iteration 54, loss = 0.82887573\n",
            "Iteration 55, loss = 0.82367751\n",
            "Iteration 56, loss = 0.81849635\n",
            "Iteration 57, loss = 0.81333252\n",
            "Iteration 58, loss = 0.80818241\n",
            "Iteration 59, loss = 0.80304907\n",
            "Iteration 60, loss = 0.79793456\n",
            "Iteration 61, loss = 0.79283581\n",
            "Iteration 62, loss = 0.78775603\n",
            "Iteration 63, loss = 0.78269357\n",
            "Iteration 64, loss = 0.77765479\n",
            "Iteration 65, loss = 0.77263742\n",
            "Iteration 66, loss = 0.76764456\n",
            "Iteration 67, loss = 0.76267241\n",
            "Iteration 68, loss = 0.75772643\n",
            "Iteration 69, loss = 0.75279907\n",
            "Iteration 70, loss = 0.74789756\n",
            "Iteration 71, loss = 0.74301887\n",
            "Iteration 72, loss = 0.73816464\n",
            "Iteration 73, loss = 0.73333737\n",
            "Iteration 74, loss = 0.72853337\n",
            "Iteration 75, loss = 0.72374845\n",
            "Iteration 76, loss = 0.71898570\n",
            "Iteration 77, loss = 0.71425485\n",
            "Iteration 78, loss = 0.70955414\n",
            "Iteration 79, loss = 0.70488102\n",
            "Iteration 80, loss = 0.70023274\n",
            "Iteration 81, loss = 0.69560812\n",
            "Iteration 82, loss = 0.69100793\n",
            "Iteration 83, loss = 0.68643515\n",
            "Iteration 84, loss = 0.68188778\n",
            "Iteration 85, loss = 0.67736129\n",
            "Iteration 86, loss = 0.67285541\n",
            "Iteration 87, loss = 0.66837453\n",
            "Iteration 88, loss = 0.66392407\n",
            "Iteration 89, loss = 0.65950654\n",
            "Iteration 90, loss = 0.65512389\n",
            "Iteration 91, loss = 0.65077667\n",
            "Iteration 92, loss = 0.64646701\n",
            "Iteration 93, loss = 0.64219338\n",
            "Iteration 94, loss = 0.63795711\n",
            "Iteration 95, loss = 0.63376232\n",
            "Iteration 96, loss = 0.62960239\n",
            "Iteration 97, loss = 0.62547918\n",
            "Iteration 98, loss = 0.62139273\n",
            "Iteration 99, loss = 0.61734375\n",
            "Iteration 100, loss = 0.61333827\n",
            "Iteration 101, loss = 0.60937675\n",
            "Iteration 102, loss = 0.60545419\n",
            "Iteration 103, loss = 0.60157240\n",
            "Iteration 104, loss = 0.59773223\n",
            "Iteration 105, loss = 0.59392923\n",
            "Iteration 106, loss = 0.59016410\n",
            "Iteration 107, loss = 0.58644078\n",
            "Iteration 108, loss = 0.58275802\n",
            "Iteration 109, loss = 0.57911636\n",
            "Iteration 110, loss = 0.57551494\n",
            "Iteration 111, loss = 0.57195433\n",
            "Iteration 112, loss = 0.56843858\n",
            "Iteration 113, loss = 0.56496733\n",
            "Iteration 114, loss = 0.56153927\n",
            "Iteration 115, loss = 0.55815190\n",
            "Iteration 116, loss = 0.55480771\n",
            "Iteration 117, loss = 0.55150064\n",
            "Iteration 118, loss = 0.54823367\n",
            "Iteration 119, loss = 0.54500690\n",
            "Iteration 120, loss = 0.54181914\n",
            "Iteration 121, loss = 0.53867006\n",
            "Iteration 122, loss = 0.53555729\n",
            "Iteration 123, loss = 0.53248312\n",
            "Iteration 124, loss = 0.52944746\n",
            "Iteration 125, loss = 0.52645099\n",
            "Iteration 126, loss = 0.52348544\n",
            "Iteration 127, loss = 0.52055379\n",
            "Iteration 128, loss = 0.51765589\n",
            "Iteration 129, loss = 0.51479290\n",
            "Iteration 130, loss = 0.51196310\n",
            "Iteration 131, loss = 0.50916627\n",
            "Iteration 132, loss = 0.50640226\n",
            "Iteration 133, loss = 0.50367140\n",
            "Iteration 134, loss = 0.50097664\n",
            "Iteration 135, loss = 0.49831798\n",
            "Iteration 136, loss = 0.49569290\n",
            "Iteration 137, loss = 0.49309737\n",
            "Iteration 138, loss = 0.49053193\n",
            "Iteration 139, loss = 0.48799531\n",
            "Iteration 140, loss = 0.48548596\n",
            "Iteration 141, loss = 0.48300536\n",
            "Iteration 142, loss = 0.48055477\n",
            "Iteration 143, loss = 0.47813065\n",
            "Iteration 144, loss = 0.47573329\n",
            "Iteration 145, loss = 0.47336260\n",
            "Iteration 146, loss = 0.47101975\n",
            "Iteration 147, loss = 0.46870535\n",
            "Iteration 148, loss = 0.46641503\n",
            "Iteration 149, loss = 0.46415085\n",
            "Iteration 150, loss = 0.46191218\n",
            "Iteration 151, loss = 0.45969753\n",
            "Iteration 152, loss = 0.45750832\n",
            "Iteration 153, loss = 0.45534244\n",
            "Iteration 154, loss = 0.45320249\n",
            "Iteration 155, loss = 0.45108711\n",
            "Iteration 156, loss = 0.44899501\n",
            "Iteration 157, loss = 0.44692717\n",
            "Iteration 158, loss = 0.44488657\n",
            "Iteration 159, loss = 0.44287075\n",
            "Iteration 160, loss = 0.44087653\n",
            "Iteration 161, loss = 0.43890607\n",
            "Iteration 162, loss = 0.43695570\n",
            "Iteration 163, loss = 0.43502487\n",
            "Iteration 164, loss = 0.43311790\n",
            "Iteration 165, loss = 0.43123678\n",
            "Iteration 166, loss = 0.42937838\n",
            "Iteration 167, loss = 0.42754307\n",
            "Iteration 168, loss = 0.42573041\n",
            "Iteration 169, loss = 0.42393774\n",
            "Iteration 170, loss = 0.42216455\n",
            "Iteration 171, loss = 0.42041229\n",
            "Iteration 172, loss = 0.41868098\n",
            "Iteration 173, loss = 0.41696743\n",
            "Iteration 174, loss = 0.41527170\n",
            "Iteration 175, loss = 0.41359521\n",
            "Iteration 176, loss = 0.41193509\n",
            "Iteration 177, loss = 0.41029035\n",
            "Iteration 178, loss = 0.40866309\n",
            "Iteration 179, loss = 0.40705292\n",
            "Iteration 180, loss = 0.40545885\n",
            "Iteration 181, loss = 0.40388015\n",
            "Iteration 182, loss = 0.40231807\n",
            "Iteration 183, loss = 0.40077246\n",
            "Iteration 184, loss = 0.39924351\n",
            "Iteration 185, loss = 0.39773220\n",
            "Iteration 186, loss = 0.39623690\n",
            "Iteration 187, loss = 0.39475682\n",
            "Iteration 188, loss = 0.39329136\n",
            "Iteration 189, loss = 0.39183922\n",
            "Iteration 190, loss = 0.39040000\n",
            "Iteration 191, loss = 0.38897567\n",
            "Iteration 192, loss = 0.38756583\n",
            "Iteration 193, loss = 0.38616852\n",
            "Iteration 194, loss = 0.38478464\n",
            "Iteration 195, loss = 0.38341475\n",
            "Iteration 196, loss = 0.38205619\n",
            "Iteration 197, loss = 0.38071140\n",
            "Iteration 198, loss = 0.37937926\n",
            "Iteration 199, loss = 0.37806143\n",
            "Iteration 200, loss = 0.37675618\n",
            "Iteration 201, loss = 0.37546313\n",
            "Iteration 202, loss = 0.37418380\n",
            "Iteration 203, loss = 0.37291804\n",
            "Iteration 204, loss = 0.37166525\n",
            "Iteration 205, loss = 0.37042421\n",
            "Iteration 206, loss = 0.36919617\n",
            "Iteration 207, loss = 0.36798019\n",
            "Iteration 208, loss = 0.36677692\n",
            "Iteration 209, loss = 0.36558537\n",
            "Iteration 210, loss = 0.36440585\n",
            "Iteration 211, loss = 0.36323888\n",
            "Iteration 212, loss = 0.36208324\n",
            "Iteration 213, loss = 0.36093719\n",
            "Iteration 214, loss = 0.35980115\n",
            "Iteration 215, loss = 0.35867642\n",
            "Iteration 216, loss = 0.35756256\n",
            "Iteration 217, loss = 0.35645885\n",
            "Iteration 218, loss = 0.35536570\n",
            "Iteration 219, loss = 0.35428169\n",
            "Iteration 220, loss = 0.35320818\n",
            "Iteration 221, loss = 0.35214519\n",
            "Iteration 222, loss = 0.35109272\n",
            "Iteration 223, loss = 0.35005014\n",
            "Iteration 224, loss = 0.34901703\n",
            "Iteration 225, loss = 0.34799414\n",
            "Iteration 226, loss = 0.34698082\n",
            "Iteration 227, loss = 0.34597628\n",
            "Iteration 228, loss = 0.34498101\n",
            "Iteration 229, loss = 0.34399341\n",
            "Iteration 230, loss = 0.34301436\n",
            "Iteration 231, loss = 0.34204355\n",
            "Iteration 232, loss = 0.34108112\n",
            "Iteration 233, loss = 0.34012749\n",
            "Iteration 234, loss = 0.33918176\n",
            "Iteration 235, loss = 0.33824400\n",
            "Iteration 236, loss = 0.33731422\n",
            "Iteration 237, loss = 0.33639191\n",
            "Iteration 238, loss = 0.33547716\n",
            "Training loss did not improve more than tol=0.001000 for 10 consecutive epochs. Stopping.\n"
          ]
        }
      ]
    },
    {
      "cell_type": "markdown",
      "source": [
        "Kode tersebut melatih model klasifikasi jaringan saraf tiruan (`clf`) menggunakan data latih (`x_train` dan `y_train`) dengan menggunakan metode `fit()`. Selanjutnya, model tersebut digunakan untuk melakukan prediksi pada data uji (`x_test`) dengan menggunakan metode `predict()`, dan hasil prediksi disimpan dalam variabel `y_pred`."
      ],
      "metadata": {
        "id": "DtYgITelUQqB"
      }
    },
    {
      "cell_type": "markdown",
      "source": [
        "###Menghitung Akurasi Model"
      ],
      "metadata": {
        "id": "yGGiEdGRZ7yB"
      }
    },
    {
      "cell_type": "code",
      "source": [
        "accuracy_score(y_test, y_pred)"
      ],
      "metadata": {
        "colab": {
          "base_uri": "https://localhost:8080/"
        },
        "id": "y0skaUGkOq5V",
        "outputId": "d358e9ef-9ff6-4dfd-ccb9-c68226021eb2"
      },
      "execution_count": 129,
      "outputs": [
        {
          "output_type": "execute_result",
          "data": {
            "text/plain": [
              "0.8666666666666667"
            ]
          },
          "metadata": {},
          "execution_count": 129
        }
      ]
    },
    {
      "cell_type": "markdown",
      "source": [
        "Kode tersebut menggunakan modul `accuracy_score` dari scikit-learn untuk menghitung akurasi prediksi model. Fungsi `accuracy_score()` membandingkan label sebenarnya (`y_test`) dengan label prediksi (`y_pred`) dan menghasilkan nilai akurasi sebagai hasilnya."
      ],
      "metadata": {
        "id": "gXJQ843uUVIM"
      }
    },
    {
      "cell_type": "markdown",
      "source": [
        "###Membuat Dataframe yang berisi menampilkan label sebenarnya dan label yang diprediksi untuk setiap data pada data uji."
      ],
      "metadata": {
        "id": "kYek42LCaBfF"
      }
    },
    {
      "cell_type": "code",
      "source": [
        "df = pd.DataFrame({'Real Values':y_test, 'Predicted Values':y_pred})\n",
        "df"
      ],
      "metadata": {
        "colab": {
          "base_uri": "https://localhost:8080/",
          "height": 990
        },
        "id": "sJwRePEVOx3R",
        "outputId": "154658e0-392e-4a5c-bf95-f99b11e8b8d7"
      },
      "execution_count": 130,
      "outputs": [
        {
          "output_type": "execute_result",
          "data": {
            "text/plain": [
              "    Real Values Predicted Values\n",
              "116   virginica        virginica\n",
              "36       setosa           setosa\n",
              "128   virginica        virginica\n",
              "117   virginica        virginica\n",
              "88   versicolor       versicolor\n",
              "74   versicolor       versicolor\n",
              "91   versicolor       versicolor\n",
              "115   virginica        virginica\n",
              "77   versicolor        virginica\n",
              "21       setosa           setosa\n",
              "94   versicolor       versicolor\n",
              "133   virginica        virginica\n",
              "47       setosa           setosa\n",
              "90   versicolor       versicolor\n",
              "58   versicolor        virginica\n",
              "69   versicolor       versicolor\n",
              "9        setosa           setosa\n",
              "120   virginica        virginica\n",
              "148   virginica        virginica\n",
              "105   virginica        virginica\n",
              "65   versicolor        virginica\n",
              "12       setosa           setosa\n",
              "55   versicolor       versicolor\n",
              "20       setosa           setosa\n",
              "145   virginica        virginica\n",
              "106   virginica       versicolor\n",
              "92   versicolor       versicolor\n",
              "49       setosa           setosa\n",
              "129   virginica        virginica\n",
              "122   virginica        virginica"
            ],
            "text/html": [
              "\n",
              "  <div id=\"df-57129fd6-457b-4adb-81bf-f16b0b40cb11\">\n",
              "    <div class=\"colab-df-container\">\n",
              "      <div>\n",
              "<style scoped>\n",
              "    .dataframe tbody tr th:only-of-type {\n",
              "        vertical-align: middle;\n",
              "    }\n",
              "\n",
              "    .dataframe tbody tr th {\n",
              "        vertical-align: top;\n",
              "    }\n",
              "\n",
              "    .dataframe thead th {\n",
              "        text-align: right;\n",
              "    }\n",
              "</style>\n",
              "<table border=\"1\" class=\"dataframe\">\n",
              "  <thead>\n",
              "    <tr style=\"text-align: right;\">\n",
              "      <th></th>\n",
              "      <th>Real Values</th>\n",
              "      <th>Predicted Values</th>\n",
              "    </tr>\n",
              "  </thead>\n",
              "  <tbody>\n",
              "    <tr>\n",
              "      <th>116</th>\n",
              "      <td>virginica</td>\n",
              "      <td>virginica</td>\n",
              "    </tr>\n",
              "    <tr>\n",
              "      <th>36</th>\n",
              "      <td>setosa</td>\n",
              "      <td>setosa</td>\n",
              "    </tr>\n",
              "    <tr>\n",
              "      <th>128</th>\n",
              "      <td>virginica</td>\n",
              "      <td>virginica</td>\n",
              "    </tr>\n",
              "    <tr>\n",
              "      <th>117</th>\n",
              "      <td>virginica</td>\n",
              "      <td>virginica</td>\n",
              "    </tr>\n",
              "    <tr>\n",
              "      <th>88</th>\n",
              "      <td>versicolor</td>\n",
              "      <td>versicolor</td>\n",
              "    </tr>\n",
              "    <tr>\n",
              "      <th>74</th>\n",
              "      <td>versicolor</td>\n",
              "      <td>versicolor</td>\n",
              "    </tr>\n",
              "    <tr>\n",
              "      <th>91</th>\n",
              "      <td>versicolor</td>\n",
              "      <td>versicolor</td>\n",
              "    </tr>\n",
              "    <tr>\n",
              "      <th>115</th>\n",
              "      <td>virginica</td>\n",
              "      <td>virginica</td>\n",
              "    </tr>\n",
              "    <tr>\n",
              "      <th>77</th>\n",
              "      <td>versicolor</td>\n",
              "      <td>virginica</td>\n",
              "    </tr>\n",
              "    <tr>\n",
              "      <th>21</th>\n",
              "      <td>setosa</td>\n",
              "      <td>setosa</td>\n",
              "    </tr>\n",
              "    <tr>\n",
              "      <th>94</th>\n",
              "      <td>versicolor</td>\n",
              "      <td>versicolor</td>\n",
              "    </tr>\n",
              "    <tr>\n",
              "      <th>133</th>\n",
              "      <td>virginica</td>\n",
              "      <td>virginica</td>\n",
              "    </tr>\n",
              "    <tr>\n",
              "      <th>47</th>\n",
              "      <td>setosa</td>\n",
              "      <td>setosa</td>\n",
              "    </tr>\n",
              "    <tr>\n",
              "      <th>90</th>\n",
              "      <td>versicolor</td>\n",
              "      <td>versicolor</td>\n",
              "    </tr>\n",
              "    <tr>\n",
              "      <th>58</th>\n",
              "      <td>versicolor</td>\n",
              "      <td>virginica</td>\n",
              "    </tr>\n",
              "    <tr>\n",
              "      <th>69</th>\n",
              "      <td>versicolor</td>\n",
              "      <td>versicolor</td>\n",
              "    </tr>\n",
              "    <tr>\n",
              "      <th>9</th>\n",
              "      <td>setosa</td>\n",
              "      <td>setosa</td>\n",
              "    </tr>\n",
              "    <tr>\n",
              "      <th>120</th>\n",
              "      <td>virginica</td>\n",
              "      <td>virginica</td>\n",
              "    </tr>\n",
              "    <tr>\n",
              "      <th>148</th>\n",
              "      <td>virginica</td>\n",
              "      <td>virginica</td>\n",
              "    </tr>\n",
              "    <tr>\n",
              "      <th>105</th>\n",
              "      <td>virginica</td>\n",
              "      <td>virginica</td>\n",
              "    </tr>\n",
              "    <tr>\n",
              "      <th>65</th>\n",
              "      <td>versicolor</td>\n",
              "      <td>virginica</td>\n",
              "    </tr>\n",
              "    <tr>\n",
              "      <th>12</th>\n",
              "      <td>setosa</td>\n",
              "      <td>setosa</td>\n",
              "    </tr>\n",
              "    <tr>\n",
              "      <th>55</th>\n",
              "      <td>versicolor</td>\n",
              "      <td>versicolor</td>\n",
              "    </tr>\n",
              "    <tr>\n",
              "      <th>20</th>\n",
              "      <td>setosa</td>\n",
              "      <td>setosa</td>\n",
              "    </tr>\n",
              "    <tr>\n",
              "      <th>145</th>\n",
              "      <td>virginica</td>\n",
              "      <td>virginica</td>\n",
              "    </tr>\n",
              "    <tr>\n",
              "      <th>106</th>\n",
              "      <td>virginica</td>\n",
              "      <td>versicolor</td>\n",
              "    </tr>\n",
              "    <tr>\n",
              "      <th>92</th>\n",
              "      <td>versicolor</td>\n",
              "      <td>versicolor</td>\n",
              "    </tr>\n",
              "    <tr>\n",
              "      <th>49</th>\n",
              "      <td>setosa</td>\n",
              "      <td>setosa</td>\n",
              "    </tr>\n",
              "    <tr>\n",
              "      <th>129</th>\n",
              "      <td>virginica</td>\n",
              "      <td>virginica</td>\n",
              "    </tr>\n",
              "    <tr>\n",
              "      <th>122</th>\n",
              "      <td>virginica</td>\n",
              "      <td>virginica</td>\n",
              "    </tr>\n",
              "  </tbody>\n",
              "</table>\n",
              "</div>\n",
              "      <button class=\"colab-df-convert\" onclick=\"convertToInteractive('df-57129fd6-457b-4adb-81bf-f16b0b40cb11')\"\n",
              "              title=\"Convert this dataframe to an interactive table.\"\n",
              "              style=\"display:none;\">\n",
              "        \n",
              "  <svg xmlns=\"http://www.w3.org/2000/svg\" height=\"24px\"viewBox=\"0 0 24 24\"\n",
              "       width=\"24px\">\n",
              "    <path d=\"M0 0h24v24H0V0z\" fill=\"none\"/>\n",
              "    <path d=\"M18.56 5.44l.94 2.06.94-2.06 2.06-.94-2.06-.94-.94-2.06-.94 2.06-2.06.94zm-11 1L8.5 8.5l.94-2.06 2.06-.94-2.06-.94L8.5 2.5l-.94 2.06-2.06.94zm10 10l.94 2.06.94-2.06 2.06-.94-2.06-.94-.94-2.06-.94 2.06-2.06.94z\"/><path d=\"M17.41 7.96l-1.37-1.37c-.4-.4-.92-.59-1.43-.59-.52 0-1.04.2-1.43.59L10.3 9.45l-7.72 7.72c-.78.78-.78 2.05 0 2.83L4 21.41c.39.39.9.59 1.41.59.51 0 1.02-.2 1.41-.59l7.78-7.78 2.81-2.81c.8-.78.8-2.07 0-2.86zM5.41 20L4 18.59l7.72-7.72 1.47 1.35L5.41 20z\"/>\n",
              "  </svg>\n",
              "      </button>\n",
              "      \n",
              "  <style>\n",
              "    .colab-df-container {\n",
              "      display:flex;\n",
              "      flex-wrap:wrap;\n",
              "      gap: 12px;\n",
              "    }\n",
              "\n",
              "    .colab-df-convert {\n",
              "      background-color: #E8F0FE;\n",
              "      border: none;\n",
              "      border-radius: 50%;\n",
              "      cursor: pointer;\n",
              "      display: none;\n",
              "      fill: #1967D2;\n",
              "      height: 32px;\n",
              "      padding: 0 0 0 0;\n",
              "      width: 32px;\n",
              "    }\n",
              "\n",
              "    .colab-df-convert:hover {\n",
              "      background-color: #E2EBFA;\n",
              "      box-shadow: 0px 1px 2px rgba(60, 64, 67, 0.3), 0px 1px 3px 1px rgba(60, 64, 67, 0.15);\n",
              "      fill: #174EA6;\n",
              "    }\n",
              "\n",
              "    [theme=dark] .colab-df-convert {\n",
              "      background-color: #3B4455;\n",
              "      fill: #D2E3FC;\n",
              "    }\n",
              "\n",
              "    [theme=dark] .colab-df-convert:hover {\n",
              "      background-color: #434B5C;\n",
              "      box-shadow: 0px 1px 3px 1px rgba(0, 0, 0, 0.15);\n",
              "      filter: drop-shadow(0px 1px 2px rgba(0, 0, 0, 0.3));\n",
              "      fill: #FFFFFF;\n",
              "    }\n",
              "  </style>\n",
              "\n",
              "      <script>\n",
              "        const buttonEl =\n",
              "          document.querySelector('#df-57129fd6-457b-4adb-81bf-f16b0b40cb11 button.colab-df-convert');\n",
              "        buttonEl.style.display =\n",
              "          google.colab.kernel.accessAllowed ? 'block' : 'none';\n",
              "\n",
              "        async function convertToInteractive(key) {\n",
              "          const element = document.querySelector('#df-57129fd6-457b-4adb-81bf-f16b0b40cb11');\n",
              "          const dataTable =\n",
              "            await google.colab.kernel.invokeFunction('convertToInteractive',\n",
              "                                                     [key], {});\n",
              "          if (!dataTable) return;\n",
              "\n",
              "          const docLinkHtml = 'Like what you see? Visit the ' +\n",
              "            '<a target=\"_blank\" href=https://colab.research.google.com/notebooks/data_table.ipynb>data table notebook</a>'\n",
              "            + ' to learn more about interactive tables.';\n",
              "          element.innerHTML = '';\n",
              "          dataTable['output_type'] = 'display_data';\n",
              "          await google.colab.output.renderOutput(dataTable, element);\n",
              "          const docLink = document.createElement('div');\n",
              "          docLink.innerHTML = docLinkHtml;\n",
              "          element.appendChild(docLink);\n",
              "        }\n",
              "      </script>\n",
              "    </div>\n",
              "  </div>\n",
              "  "
            ]
          },
          "metadata": {},
          "execution_count": 130
        }
      ]
    },
    {
      "cell_type": "markdown",
      "source": [
        "Kode tersebut membuat DataFrame `df` yang berisi dua kolom, yaitu \"Real Values\" yang berisi nilai sebenarnya (`y_test`) dan \"Predicted Values\" yang berisi nilai prediksi (`y_pred`). DataFrame ini digunakan untuk membandingkan nilai sebenarnya dan nilai prediksi dari model."
      ],
      "metadata": {
        "id": "7pVC_T9vUZ_7"
      }
    },
    {
      "cell_type": "markdown",
      "source": [
        "###**Metode DecisionTree**"
      ],
      "metadata": {
        "id": "P1RYa6QvVUcT"
      }
    },
    {
      "cell_type": "code",
      "source": [
        "df = data\n",
        "df"
      ],
      "metadata": {
        "colab": {
          "base_uri": "https://localhost:8080/",
          "height": 424
        },
        "id": "dSlMkg4TREC7",
        "outputId": "d23f216f-cdf5-4602-aae5-05910b7521f1"
      },
      "execution_count": 131,
      "outputs": [
        {
          "output_type": "execute_result",
          "data": {
            "text/plain": [
              "            X         Y    species\n",
              "0   -2.264542  0.505704     setosa\n",
              "1   -2.086426 -0.655405     setosa\n",
              "2   -2.367950 -0.318477     setosa\n",
              "3   -2.304197 -0.575368     setosa\n",
              "4   -2.388777  0.674767     setosa\n",
              "..        ...       ...        ...\n",
              "145  1.870522  0.382822  virginica\n",
              "146  1.558492 -0.905314  virginica\n",
              "147  1.520845  0.266795  virginica\n",
              "148  1.376391  1.016362  virginica\n",
              "149  0.959299 -0.022284  virginica\n",
              "\n",
              "[150 rows x 3 columns]"
            ],
            "text/html": [
              "\n",
              "  <div id=\"df-0bec2bd9-f95d-4aa2-82f0-2e8527130b93\">\n",
              "    <div class=\"colab-df-container\">\n",
              "      <div>\n",
              "<style scoped>\n",
              "    .dataframe tbody tr th:only-of-type {\n",
              "        vertical-align: middle;\n",
              "    }\n",
              "\n",
              "    .dataframe tbody tr th {\n",
              "        vertical-align: top;\n",
              "    }\n",
              "\n",
              "    .dataframe thead th {\n",
              "        text-align: right;\n",
              "    }\n",
              "</style>\n",
              "<table border=\"1\" class=\"dataframe\">\n",
              "  <thead>\n",
              "    <tr style=\"text-align: right;\">\n",
              "      <th></th>\n",
              "      <th>X</th>\n",
              "      <th>Y</th>\n",
              "      <th>species</th>\n",
              "    </tr>\n",
              "  </thead>\n",
              "  <tbody>\n",
              "    <tr>\n",
              "      <th>0</th>\n",
              "      <td>-2.264542</td>\n",
              "      <td>0.505704</td>\n",
              "      <td>setosa</td>\n",
              "    </tr>\n",
              "    <tr>\n",
              "      <th>1</th>\n",
              "      <td>-2.086426</td>\n",
              "      <td>-0.655405</td>\n",
              "      <td>setosa</td>\n",
              "    </tr>\n",
              "    <tr>\n",
              "      <th>2</th>\n",
              "      <td>-2.367950</td>\n",
              "      <td>-0.318477</td>\n",
              "      <td>setosa</td>\n",
              "    </tr>\n",
              "    <tr>\n",
              "      <th>3</th>\n",
              "      <td>-2.304197</td>\n",
              "      <td>-0.575368</td>\n",
              "      <td>setosa</td>\n",
              "    </tr>\n",
              "    <tr>\n",
              "      <th>4</th>\n",
              "      <td>-2.388777</td>\n",
              "      <td>0.674767</td>\n",
              "      <td>setosa</td>\n",
              "    </tr>\n",
              "    <tr>\n",
              "      <th>...</th>\n",
              "      <td>...</td>\n",
              "      <td>...</td>\n",
              "      <td>...</td>\n",
              "    </tr>\n",
              "    <tr>\n",
              "      <th>145</th>\n",
              "      <td>1.870522</td>\n",
              "      <td>0.382822</td>\n",
              "      <td>virginica</td>\n",
              "    </tr>\n",
              "    <tr>\n",
              "      <th>146</th>\n",
              "      <td>1.558492</td>\n",
              "      <td>-0.905314</td>\n",
              "      <td>virginica</td>\n",
              "    </tr>\n",
              "    <tr>\n",
              "      <th>147</th>\n",
              "      <td>1.520845</td>\n",
              "      <td>0.266795</td>\n",
              "      <td>virginica</td>\n",
              "    </tr>\n",
              "    <tr>\n",
              "      <th>148</th>\n",
              "      <td>1.376391</td>\n",
              "      <td>1.016362</td>\n",
              "      <td>virginica</td>\n",
              "    </tr>\n",
              "    <tr>\n",
              "      <th>149</th>\n",
              "      <td>0.959299</td>\n",
              "      <td>-0.022284</td>\n",
              "      <td>virginica</td>\n",
              "    </tr>\n",
              "  </tbody>\n",
              "</table>\n",
              "<p>150 rows × 3 columns</p>\n",
              "</div>\n",
              "      <button class=\"colab-df-convert\" onclick=\"convertToInteractive('df-0bec2bd9-f95d-4aa2-82f0-2e8527130b93')\"\n",
              "              title=\"Convert this dataframe to an interactive table.\"\n",
              "              style=\"display:none;\">\n",
              "        \n",
              "  <svg xmlns=\"http://www.w3.org/2000/svg\" height=\"24px\"viewBox=\"0 0 24 24\"\n",
              "       width=\"24px\">\n",
              "    <path d=\"M0 0h24v24H0V0z\" fill=\"none\"/>\n",
              "    <path d=\"M18.56 5.44l.94 2.06.94-2.06 2.06-.94-2.06-.94-.94-2.06-.94 2.06-2.06.94zm-11 1L8.5 8.5l.94-2.06 2.06-.94-2.06-.94L8.5 2.5l-.94 2.06-2.06.94zm10 10l.94 2.06.94-2.06 2.06-.94-2.06-.94-.94-2.06-.94 2.06-2.06.94z\"/><path d=\"M17.41 7.96l-1.37-1.37c-.4-.4-.92-.59-1.43-.59-.52 0-1.04.2-1.43.59L10.3 9.45l-7.72 7.72c-.78.78-.78 2.05 0 2.83L4 21.41c.39.39.9.59 1.41.59.51 0 1.02-.2 1.41-.59l7.78-7.78 2.81-2.81c.8-.78.8-2.07 0-2.86zM5.41 20L4 18.59l7.72-7.72 1.47 1.35L5.41 20z\"/>\n",
              "  </svg>\n",
              "      </button>\n",
              "      \n",
              "  <style>\n",
              "    .colab-df-container {\n",
              "      display:flex;\n",
              "      flex-wrap:wrap;\n",
              "      gap: 12px;\n",
              "    }\n",
              "\n",
              "    .colab-df-convert {\n",
              "      background-color: #E8F0FE;\n",
              "      border: none;\n",
              "      border-radius: 50%;\n",
              "      cursor: pointer;\n",
              "      display: none;\n",
              "      fill: #1967D2;\n",
              "      height: 32px;\n",
              "      padding: 0 0 0 0;\n",
              "      width: 32px;\n",
              "    }\n",
              "\n",
              "    .colab-df-convert:hover {\n",
              "      background-color: #E2EBFA;\n",
              "      box-shadow: 0px 1px 2px rgba(60, 64, 67, 0.3), 0px 1px 3px 1px rgba(60, 64, 67, 0.15);\n",
              "      fill: #174EA6;\n",
              "    }\n",
              "\n",
              "    [theme=dark] .colab-df-convert {\n",
              "      background-color: #3B4455;\n",
              "      fill: #D2E3FC;\n",
              "    }\n",
              "\n",
              "    [theme=dark] .colab-df-convert:hover {\n",
              "      background-color: #434B5C;\n",
              "      box-shadow: 0px 1px 3px 1px rgba(0, 0, 0, 0.15);\n",
              "      filter: drop-shadow(0px 1px 2px rgba(0, 0, 0, 0.3));\n",
              "      fill: #FFFFFF;\n",
              "    }\n",
              "  </style>\n",
              "\n",
              "      <script>\n",
              "        const buttonEl =\n",
              "          document.querySelector('#df-0bec2bd9-f95d-4aa2-82f0-2e8527130b93 button.colab-df-convert');\n",
              "        buttonEl.style.display =\n",
              "          google.colab.kernel.accessAllowed ? 'block' : 'none';\n",
              "\n",
              "        async function convertToInteractive(key) {\n",
              "          const element = document.querySelector('#df-0bec2bd9-f95d-4aa2-82f0-2e8527130b93');\n",
              "          const dataTable =\n",
              "            await google.colab.kernel.invokeFunction('convertToInteractive',\n",
              "                                                     [key], {});\n",
              "          if (!dataTable) return;\n",
              "\n",
              "          const docLinkHtml = 'Like what you see? Visit the ' +\n",
              "            '<a target=\"_blank\" href=https://colab.research.google.com/notebooks/data_table.ipynb>data table notebook</a>'\n",
              "            + ' to learn more about interactive tables.';\n",
              "          element.innerHTML = '';\n",
              "          dataTable['output_type'] = 'display_data';\n",
              "          await google.colab.output.renderOutput(dataTable, element);\n",
              "          const docLink = document.createElement('div');\n",
              "          docLink.innerHTML = docLinkHtml;\n",
              "          element.appendChild(docLink);\n",
              "        }\n",
              "      </script>\n",
              "    </div>\n",
              "  </div>\n",
              "  "
            ]
          },
          "metadata": {},
          "execution_count": 131
        }
      ]
    },
    {
      "cell_type": "markdown",
      "source": [
        "Kode tersebut mengatur DataFrame `df` dengan menggunakan DataFrame `data`. DataFrame `df` akan memiliki struktur yang sama dengan DataFrame `data`."
      ],
      "metadata": {
        "id": "rL8EP5LzW11F"
      }
    },
    {
      "cell_type": "code",
      "source": [
        "df['species'].value_counts()"
      ],
      "metadata": {
        "colab": {
          "base_uri": "https://localhost:8080/"
        },
        "id": "QXwbI__DRI9B",
        "outputId": "e272df08-4d7d-438c-96b3-4eedba4e4e0a"
      },
      "execution_count": 132,
      "outputs": [
        {
          "output_type": "execute_result",
          "data": {
            "text/plain": [
              "setosa        50\n",
              "versicolor    50\n",
              "virginica     50\n",
              "Name: species, dtype: int64"
            ]
          },
          "metadata": {},
          "execution_count": 132
        }
      ]
    },
    {
      "cell_type": "markdown",
      "source": [
        "Kode tersebut menghitung jumlah kemunculan setiap nilai unik dalam kolom 'species' dari DataFrame `df`. Fungsi `value_counts()` digunakan untuk menghitung frekuensi kemunculan setiap nilai unik dan mengembalikan hasil dalam bentuk Series."
      ],
      "metadata": {
        "id": "5HMzxxKQXLWk"
      }
    },
    {
      "cell_type": "code",
      "source": [
        "df.isnull().sum()"
      ],
      "metadata": {
        "colab": {
          "base_uri": "https://localhost:8080/"
        },
        "id": "Q1oe5KIcRLbW",
        "outputId": "2ee32dc3-df5f-4233-d929-ee77af4ee376"
      },
      "execution_count": 133,
      "outputs": [
        {
          "output_type": "execute_result",
          "data": {
            "text/plain": [
              "X          0\n",
              "Y          0\n",
              "species    0\n",
              "dtype: int64"
            ]
          },
          "metadata": {},
          "execution_count": 133
        }
      ]
    },
    {
      "cell_type": "markdown",
      "source": [
        "Kode tersebut menghitung jumlah nilai yang hilang (missing values) dalam setiap kolom DataFrame `df`. Fungsi `isnull()` digunakan untuk mengidentifikasi nilai yang hilang, kemudian fungsi `sum()` digunakan untuk menjumlahkan jumlah nilai yang hilang dalam setiap kolom. Hasilnya adalah jumlah nilai yang hilang dalam setiap kolom DataFrame `df`."
      ],
      "metadata": {
        "id": "WmqE-ltwXb0e"
      }
    },
    {
      "cell_type": "code",
      "source": [
        "X = df.drop(['species'], axis=1)\n",
        "y = df['species']"
      ],
      "metadata": {
        "id": "FmFrieO9ROcT"
      },
      "execution_count": 134,
      "outputs": []
    },
    {
      "cell_type": "markdown",
      "source": [
        "Kode tersebut memisahkan fitur-fitur dari DataFrame `df` ke dalam variabel `X`, dengan menghilangkan kolom 'species'. Kemudian, kolom 'species' dari DataFrame `df` disimpan dalam variabel `y`. Dengan demikian, `X` akan berisi fitur-fitur data dan `y` akan berisi label kelas atau target."
      ],
      "metadata": {
        "id": "JJrsKI6W1TWC"
      }
    },
    {
      "cell_type": "markdown",
      "source": [
        "###Spliting Data"
      ],
      "metadata": {
        "id": "UIrdZwzjVd-3"
      }
    },
    {
      "cell_type": "code",
      "source": [
        "from sklearn.model_selection import train_test_split\n",
        "X_train, X_test, y_train, y_test = train_test_split(X, y, test_size = 0.33, random_state = 21)"
      ],
      "metadata": {
        "id": "8Oxj0Fl9RRlG"
      },
      "execution_count": 135,
      "outputs": []
    },
    {
      "cell_type": "markdown",
      "source": [
        "Kode tersebut menggunakan modul `train_test_split` dari scikit-learn untuk membagi dataset menjadi data latih dan data uji. Variabel `X_train` dan `y_train` akan berisi data latih, sedangkan variabel `X_test` dan `y_test` akan berisi data uji. Dataset dipisahkan dengan proporsi data uji sebesar 33% (dalam hal ini, test_size=0.33), dan pengacakan data dilakukan dengan menggunakan nilai random_state=21 untuk memastikan hasil yang dapat direproduksi."
      ],
      "metadata": {
        "id": "8Ef-An2q1mZQ"
      }
    },
    {
      "cell_type": "code",
      "source": [
        "X_train.shape, X_test.shape"
      ],
      "metadata": {
        "colab": {
          "base_uri": "https://localhost:8080/"
        },
        "id": "ma3o6nksRTY9",
        "outputId": "b7bb3197-2954-405c-d6d7-014bf1399fe8"
      },
      "execution_count": 136,
      "outputs": [
        {
          "output_type": "execute_result",
          "data": {
            "text/plain": [
              "((100, 2), (50, 2))"
            ]
          },
          "metadata": {},
          "execution_count": 136
        }
      ]
    },
    {
      "cell_type": "markdown",
      "source": [
        "Kode tersebut digunakan untuk mengakses bentuk (shape) dari data latih (`X_train`) dan data uji (`X_test`). `X_train.shape` akan mengembalikan tuple yang menunjukkan jumlah baris dan kolom dalam data latih, sedangkan `X_test.shape` akan mengembalikan tuple yang menunjukkan jumlah baris dan kolom dalam data uji."
      ],
      "metadata": {
        "id": "ArRyoIGl1xqI"
      }
    },
    {
      "cell_type": "code",
      "source": [
        "X_train.dtypes"
      ],
      "metadata": {
        "colab": {
          "base_uri": "https://localhost:8080/"
        },
        "id": "bariX6zJRV3j",
        "outputId": "e86cf096-0d7b-4ec9-a264-97dbf081a9bf"
      },
      "execution_count": 137,
      "outputs": [
        {
          "output_type": "execute_result",
          "data": {
            "text/plain": [
              "X    float64\n",
              "Y    float64\n",
              "dtype: object"
            ]
          },
          "metadata": {},
          "execution_count": 137
        }
      ]
    },
    {
      "cell_type": "markdown",
      "source": [
        "Kode tersebut digunakan untuk mendapatkan tipe data dari setiap kolom dalam DataFrame `X_train`. Fungsi `dtypes` digunakan untuk mengakses tipe data dari setiap kolom, yang akan mengembalikan hasil dalam bentuk objek Series yang berisi tipe data dari setiap kolom dalam DataFrame `X_train`."
      ],
      "metadata": {
        "id": "SWA7zIu72BAB"
      }
    },
    {
      "cell_type": "code",
      "source": [
        "!pip install category_encoders\n",
        "import category_encoders as ce"
      ],
      "metadata": {
        "colab": {
          "base_uri": "https://localhost:8080/"
        },
        "id": "Lg4mn64XRX_v",
        "outputId": "0cdb68bb-8ab8-4252-9c54-27a3e84c429f"
      },
      "execution_count": 138,
      "outputs": [
        {
          "output_type": "stream",
          "name": "stdout",
          "text": [
            "Looking in indexes: https://pypi.org/simple, https://us-python.pkg.dev/colab-wheels/public/simple/\n",
            "Requirement already satisfied: category_encoders in /usr/local/lib/python3.10/dist-packages (2.6.1)\n",
            "Requirement already satisfied: numpy>=1.14.0 in /usr/local/lib/python3.10/dist-packages (from category_encoders) (1.22.4)\n",
            "Requirement already satisfied: scikit-learn>=0.20.0 in /usr/local/lib/python3.10/dist-packages (from category_encoders) (1.2.2)\n",
            "Requirement already satisfied: scipy>=1.0.0 in /usr/local/lib/python3.10/dist-packages (from category_encoders) (1.10.1)\n",
            "Requirement already satisfied: statsmodels>=0.9.0 in /usr/local/lib/python3.10/dist-packages (from category_encoders) (0.13.5)\n",
            "Requirement already satisfied: pandas>=1.0.5 in /usr/local/lib/python3.10/dist-packages (from category_encoders) (1.5.3)\n",
            "Requirement already satisfied: patsy>=0.5.1 in /usr/local/lib/python3.10/dist-packages (from category_encoders) (0.5.3)\n",
            "Requirement already satisfied: python-dateutil>=2.8.1 in /usr/local/lib/python3.10/dist-packages (from pandas>=1.0.5->category_encoders) (2.8.2)\n",
            "Requirement already satisfied: pytz>=2020.1 in /usr/local/lib/python3.10/dist-packages (from pandas>=1.0.5->category_encoders) (2022.7.1)\n",
            "Requirement already satisfied: six in /usr/local/lib/python3.10/dist-packages (from patsy>=0.5.1->category_encoders) (1.16.0)\n",
            "Requirement already satisfied: joblib>=1.1.1 in /usr/local/lib/python3.10/dist-packages (from scikit-learn>=0.20.0->category_encoders) (1.2.0)\n",
            "Requirement already satisfied: threadpoolctl>=2.0.0 in /usr/local/lib/python3.10/dist-packages (from scikit-learn>=0.20.0->category_encoders) (3.1.0)\n",
            "Requirement already satisfied: packaging>=21.3 in /usr/local/lib/python3.10/dist-packages (from statsmodels>=0.9.0->category_encoders) (23.1)\n"
          ]
        }
      ]
    },
    {
      "cell_type": "markdown",
      "source": [
        "Kode pertama (`!pip install category_encoders`) menginstal pustaka Python bernama \"category_encoders\" menggunakan pip, yang diperlukan untuk menjalankan kode selanjutnya. Kode kedua (`import category_encoders as ce`) mengimpor pustaka \"category_encoders\" dan menginisialisasinya dengan alias `ce`, sehingga pustaka tersebut dapat digunakan dalam kode selanjutnya."
      ],
      "metadata": {
        "id": "TU63oJDR2PCb"
      }
    },
    {
      "cell_type": "code",
      "source": [
        "encoder = ce.OrdinalEncoder(cols=[\"X\",\"Y\"])\n",
        "X_train = encoder.fit_transform(X_train)\n",
        "X_test = encoder.transform(X_test)"
      ],
      "metadata": {
        "id": "SFis9J2RRa1x"
      },
      "execution_count": 139,
      "outputs": []
    },
    {
      "cell_type": "markdown",
      "source": [
        "Kode tersebut menggunakan pustaka \"category_encoders\" untuk melakukan encoding ordinal pada kolom-kolom \"X\" dan \"Y\" dalam DataFrame `X_train` dan DataFrame `X_test`. Encoder ordinal menggantikan nilai-nilai kategorikal dengan angka berdasarkan urutan ordinalnya. Pertama, objek encoder ordinal (`encoder`) diinisialisasi dengan kolom-kolom yang ingin dienkripsi ditentukan. Kemudian, metode `fit_transform` digunakan pada DataFrame `X_train` untuk melakukan encoding ordinal pada kolom-kolom yang ditentukan, dan hasilnya disimpan kembali ke `X_train`. Selanjutnya, metode `transform` digunakan pada DataFrame `X_test` untuk mengaplikasikan encoding ordinal yang sama, dan hasilnya disimpan ke `X_test`."
      ],
      "metadata": {
        "id": "F8NGbUj_2Zwq"
      }
    },
    {
      "cell_type": "code",
      "source": [
        "X_train.head()"
      ],
      "metadata": {
        "colab": {
          "base_uri": "https://localhost:8080/",
          "height": 206
        },
        "id": "kN_nCdWtRdMS",
        "outputId": "c90b59a1-7dcf-4219-fe9f-b2759facf2a1"
      },
      "execution_count": 140,
      "outputs": [
        {
          "output_type": "execute_result",
          "data": {
            "text/plain": [
              "     X  Y\n",
              "52   1  1\n",
              "49   2  2\n",
              "65   3  3\n",
              "118  4  4\n",
              "55   5  5"
            ],
            "text/html": [
              "\n",
              "  <div id=\"df-8b5d06b0-c06d-46bc-9462-a008f9c68ffe\">\n",
              "    <div class=\"colab-df-container\">\n",
              "      <div>\n",
              "<style scoped>\n",
              "    .dataframe tbody tr th:only-of-type {\n",
              "        vertical-align: middle;\n",
              "    }\n",
              "\n",
              "    .dataframe tbody tr th {\n",
              "        vertical-align: top;\n",
              "    }\n",
              "\n",
              "    .dataframe thead th {\n",
              "        text-align: right;\n",
              "    }\n",
              "</style>\n",
              "<table border=\"1\" class=\"dataframe\">\n",
              "  <thead>\n",
              "    <tr style=\"text-align: right;\">\n",
              "      <th></th>\n",
              "      <th>X</th>\n",
              "      <th>Y</th>\n",
              "    </tr>\n",
              "  </thead>\n",
              "  <tbody>\n",
              "    <tr>\n",
              "      <th>52</th>\n",
              "      <td>1</td>\n",
              "      <td>1</td>\n",
              "    </tr>\n",
              "    <tr>\n",
              "      <th>49</th>\n",
              "      <td>2</td>\n",
              "      <td>2</td>\n",
              "    </tr>\n",
              "    <tr>\n",
              "      <th>65</th>\n",
              "      <td>3</td>\n",
              "      <td>3</td>\n",
              "    </tr>\n",
              "    <tr>\n",
              "      <th>118</th>\n",
              "      <td>4</td>\n",
              "      <td>4</td>\n",
              "    </tr>\n",
              "    <tr>\n",
              "      <th>55</th>\n",
              "      <td>5</td>\n",
              "      <td>5</td>\n",
              "    </tr>\n",
              "  </tbody>\n",
              "</table>\n",
              "</div>\n",
              "      <button class=\"colab-df-convert\" onclick=\"convertToInteractive('df-8b5d06b0-c06d-46bc-9462-a008f9c68ffe')\"\n",
              "              title=\"Convert this dataframe to an interactive table.\"\n",
              "              style=\"display:none;\">\n",
              "        \n",
              "  <svg xmlns=\"http://www.w3.org/2000/svg\" height=\"24px\"viewBox=\"0 0 24 24\"\n",
              "       width=\"24px\">\n",
              "    <path d=\"M0 0h24v24H0V0z\" fill=\"none\"/>\n",
              "    <path d=\"M18.56 5.44l.94 2.06.94-2.06 2.06-.94-2.06-.94-.94-2.06-.94 2.06-2.06.94zm-11 1L8.5 8.5l.94-2.06 2.06-.94-2.06-.94L8.5 2.5l-.94 2.06-2.06.94zm10 10l.94 2.06.94-2.06 2.06-.94-2.06-.94-.94-2.06-.94 2.06-2.06.94z\"/><path d=\"M17.41 7.96l-1.37-1.37c-.4-.4-.92-.59-1.43-.59-.52 0-1.04.2-1.43.59L10.3 9.45l-7.72 7.72c-.78.78-.78 2.05 0 2.83L4 21.41c.39.39.9.59 1.41.59.51 0 1.02-.2 1.41-.59l7.78-7.78 2.81-2.81c.8-.78.8-2.07 0-2.86zM5.41 20L4 18.59l7.72-7.72 1.47 1.35L5.41 20z\"/>\n",
              "  </svg>\n",
              "      </button>\n",
              "      \n",
              "  <style>\n",
              "    .colab-df-container {\n",
              "      display:flex;\n",
              "      flex-wrap:wrap;\n",
              "      gap: 12px;\n",
              "    }\n",
              "\n",
              "    .colab-df-convert {\n",
              "      background-color: #E8F0FE;\n",
              "      border: none;\n",
              "      border-radius: 50%;\n",
              "      cursor: pointer;\n",
              "      display: none;\n",
              "      fill: #1967D2;\n",
              "      height: 32px;\n",
              "      padding: 0 0 0 0;\n",
              "      width: 32px;\n",
              "    }\n",
              "\n",
              "    .colab-df-convert:hover {\n",
              "      background-color: #E2EBFA;\n",
              "      box-shadow: 0px 1px 2px rgba(60, 64, 67, 0.3), 0px 1px 3px 1px rgba(60, 64, 67, 0.15);\n",
              "      fill: #174EA6;\n",
              "    }\n",
              "\n",
              "    [theme=dark] .colab-df-convert {\n",
              "      background-color: #3B4455;\n",
              "      fill: #D2E3FC;\n",
              "    }\n",
              "\n",
              "    [theme=dark] .colab-df-convert:hover {\n",
              "      background-color: #434B5C;\n",
              "      box-shadow: 0px 1px 3px 1px rgba(0, 0, 0, 0.15);\n",
              "      filter: drop-shadow(0px 1px 2px rgba(0, 0, 0, 0.3));\n",
              "      fill: #FFFFFF;\n",
              "    }\n",
              "  </style>\n",
              "\n",
              "      <script>\n",
              "        const buttonEl =\n",
              "          document.querySelector('#df-8b5d06b0-c06d-46bc-9462-a008f9c68ffe button.colab-df-convert');\n",
              "        buttonEl.style.display =\n",
              "          google.colab.kernel.accessAllowed ? 'block' : 'none';\n",
              "\n",
              "        async function convertToInteractive(key) {\n",
              "          const element = document.querySelector('#df-8b5d06b0-c06d-46bc-9462-a008f9c68ffe');\n",
              "          const dataTable =\n",
              "            await google.colab.kernel.invokeFunction('convertToInteractive',\n",
              "                                                     [key], {});\n",
              "          if (!dataTable) return;\n",
              "\n",
              "          const docLinkHtml = 'Like what you see? Visit the ' +\n",
              "            '<a target=\"_blank\" href=https://colab.research.google.com/notebooks/data_table.ipynb>data table notebook</a>'\n",
              "            + ' to learn more about interactive tables.';\n",
              "          element.innerHTML = '';\n",
              "          dataTable['output_type'] = 'display_data';\n",
              "          await google.colab.output.renderOutput(dataTable, element);\n",
              "          const docLink = document.createElement('div');\n",
              "          docLink.innerHTML = docLinkHtml;\n",
              "          element.appendChild(docLink);\n",
              "        }\n",
              "      </script>\n",
              "    </div>\n",
              "  </div>\n",
              "  "
            ]
          },
          "metadata": {},
          "execution_count": 140
        }
      ]
    },
    {
      "cell_type": "markdown",
      "source": [
        "Kode tersebut menampilkan beberapa baris pertama dari DataFrame `X_train` dengan menggunakan metode `head()`. Metode ini digunakan untuk melihat sebagian data dari DataFrame `X_train` sebagai representasi singkat dari isi dataframe tersebut."
      ],
      "metadata": {
        "id": "y_q93MsR2k4_"
      }
    },
    {
      "cell_type": "code",
      "source": [
        "X_test.head()"
      ],
      "metadata": {
        "colab": {
          "base_uri": "https://localhost:8080/",
          "height": 206
        },
        "id": "ce4i-O9QRfrp",
        "outputId": "54cc1ce7-71fc-4191-9870-65a3d64f26b5"
      },
      "execution_count": 141,
      "outputs": [
        {
          "output_type": "execute_result",
          "data": {
            "text/plain": [
              "      X    Y\n",
              "92 -1.0 -1.0\n",
              "44 -1.0 -1.0\n",
              "7  -1.0 -1.0\n",
              "21 -1.0 -1.0\n",
              "95 -1.0 -1.0"
            ],
            "text/html": [
              "\n",
              "  <div id=\"df-f92ad341-0ed6-4ec7-9aaf-a707aba8bb48\">\n",
              "    <div class=\"colab-df-container\">\n",
              "      <div>\n",
              "<style scoped>\n",
              "    .dataframe tbody tr th:only-of-type {\n",
              "        vertical-align: middle;\n",
              "    }\n",
              "\n",
              "    .dataframe tbody tr th {\n",
              "        vertical-align: top;\n",
              "    }\n",
              "\n",
              "    .dataframe thead th {\n",
              "        text-align: right;\n",
              "    }\n",
              "</style>\n",
              "<table border=\"1\" class=\"dataframe\">\n",
              "  <thead>\n",
              "    <tr style=\"text-align: right;\">\n",
              "      <th></th>\n",
              "      <th>X</th>\n",
              "      <th>Y</th>\n",
              "    </tr>\n",
              "  </thead>\n",
              "  <tbody>\n",
              "    <tr>\n",
              "      <th>92</th>\n",
              "      <td>-1.0</td>\n",
              "      <td>-1.0</td>\n",
              "    </tr>\n",
              "    <tr>\n",
              "      <th>44</th>\n",
              "      <td>-1.0</td>\n",
              "      <td>-1.0</td>\n",
              "    </tr>\n",
              "    <tr>\n",
              "      <th>7</th>\n",
              "      <td>-1.0</td>\n",
              "      <td>-1.0</td>\n",
              "    </tr>\n",
              "    <tr>\n",
              "      <th>21</th>\n",
              "      <td>-1.0</td>\n",
              "      <td>-1.0</td>\n",
              "    </tr>\n",
              "    <tr>\n",
              "      <th>95</th>\n",
              "      <td>-1.0</td>\n",
              "      <td>-1.0</td>\n",
              "    </tr>\n",
              "  </tbody>\n",
              "</table>\n",
              "</div>\n",
              "      <button class=\"colab-df-convert\" onclick=\"convertToInteractive('df-f92ad341-0ed6-4ec7-9aaf-a707aba8bb48')\"\n",
              "              title=\"Convert this dataframe to an interactive table.\"\n",
              "              style=\"display:none;\">\n",
              "        \n",
              "  <svg xmlns=\"http://www.w3.org/2000/svg\" height=\"24px\"viewBox=\"0 0 24 24\"\n",
              "       width=\"24px\">\n",
              "    <path d=\"M0 0h24v24H0V0z\" fill=\"none\"/>\n",
              "    <path d=\"M18.56 5.44l.94 2.06.94-2.06 2.06-.94-2.06-.94-.94-2.06-.94 2.06-2.06.94zm-11 1L8.5 8.5l.94-2.06 2.06-.94-2.06-.94L8.5 2.5l-.94 2.06-2.06.94zm10 10l.94 2.06.94-2.06 2.06-.94-2.06-.94-.94-2.06-.94 2.06-2.06.94z\"/><path d=\"M17.41 7.96l-1.37-1.37c-.4-.4-.92-.59-1.43-.59-.52 0-1.04.2-1.43.59L10.3 9.45l-7.72 7.72c-.78.78-.78 2.05 0 2.83L4 21.41c.39.39.9.59 1.41.59.51 0 1.02-.2 1.41-.59l7.78-7.78 2.81-2.81c.8-.78.8-2.07 0-2.86zM5.41 20L4 18.59l7.72-7.72 1.47 1.35L5.41 20z\"/>\n",
              "  </svg>\n",
              "      </button>\n",
              "      \n",
              "  <style>\n",
              "    .colab-df-container {\n",
              "      display:flex;\n",
              "      flex-wrap:wrap;\n",
              "      gap: 12px;\n",
              "    }\n",
              "\n",
              "    .colab-df-convert {\n",
              "      background-color: #E8F0FE;\n",
              "      border: none;\n",
              "      border-radius: 50%;\n",
              "      cursor: pointer;\n",
              "      display: none;\n",
              "      fill: #1967D2;\n",
              "      height: 32px;\n",
              "      padding: 0 0 0 0;\n",
              "      width: 32px;\n",
              "    }\n",
              "\n",
              "    .colab-df-convert:hover {\n",
              "      background-color: #E2EBFA;\n",
              "      box-shadow: 0px 1px 2px rgba(60, 64, 67, 0.3), 0px 1px 3px 1px rgba(60, 64, 67, 0.15);\n",
              "      fill: #174EA6;\n",
              "    }\n",
              "\n",
              "    [theme=dark] .colab-df-convert {\n",
              "      background-color: #3B4455;\n",
              "      fill: #D2E3FC;\n",
              "    }\n",
              "\n",
              "    [theme=dark] .colab-df-convert:hover {\n",
              "      background-color: #434B5C;\n",
              "      box-shadow: 0px 1px 3px 1px rgba(0, 0, 0, 0.15);\n",
              "      filter: drop-shadow(0px 1px 2px rgba(0, 0, 0, 0.3));\n",
              "      fill: #FFFFFF;\n",
              "    }\n",
              "  </style>\n",
              "\n",
              "      <script>\n",
              "        const buttonEl =\n",
              "          document.querySelector('#df-f92ad341-0ed6-4ec7-9aaf-a707aba8bb48 button.colab-df-convert');\n",
              "        buttonEl.style.display =\n",
              "          google.colab.kernel.accessAllowed ? 'block' : 'none';\n",
              "\n",
              "        async function convertToInteractive(key) {\n",
              "          const element = document.querySelector('#df-f92ad341-0ed6-4ec7-9aaf-a707aba8bb48');\n",
              "          const dataTable =\n",
              "            await google.colab.kernel.invokeFunction('convertToInteractive',\n",
              "                                                     [key], {});\n",
              "          if (!dataTable) return;\n",
              "\n",
              "          const docLinkHtml = 'Like what you see? Visit the ' +\n",
              "            '<a target=\"_blank\" href=https://colab.research.google.com/notebooks/data_table.ipynb>data table notebook</a>'\n",
              "            + ' to learn more about interactive tables.';\n",
              "          element.innerHTML = '';\n",
              "          dataTable['output_type'] = 'display_data';\n",
              "          await google.colab.output.renderOutput(dataTable, element);\n",
              "          const docLink = document.createElement('div');\n",
              "          docLink.innerHTML = docLinkHtml;\n",
              "          element.appendChild(docLink);\n",
              "        }\n",
              "      </script>\n",
              "    </div>\n",
              "  </div>\n",
              "  "
            ]
          },
          "metadata": {},
          "execution_count": 141
        }
      ]
    },
    {
      "cell_type": "markdown",
      "source": [
        "Kode tersebut menampilkan beberapa baris pertama dari DataFrame `X_test` dengan menggunakan metode `head()`. Metode ini digunakan untuk melihat sebagian data dari DataFrame `X_test` sebagai representasi singkat dari isi dataframe tersebut."
      ],
      "metadata": {
        "id": "-6n3N1Gf22xi"
      }
    },
    {
      "cell_type": "markdown",
      "source": [
        "###Import Modul DecisionTreeClassifier"
      ],
      "metadata": {
        "id": "HOrwV9AIVvga"
      }
    },
    {
      "cell_type": "code",
      "source": [
        "from sklearn.tree import DecisionTreeClassifier"
      ],
      "metadata": {
        "id": "izxj0LgFRh9O"
      },
      "execution_count": 142,
      "outputs": []
    },
    {
      "cell_type": "markdown",
      "source": [
        "Kode tersebut mengimpor kelas DecisionTreeClassifier dari pustaka scikit-learn (sklearn). DecisionTreeClassifier adalah sebuah algoritma pembelajaran mesin yang digunakan untuk membangun model pohon keputusan untuk masalah klasifikasi. Dengan mengimpor kelas ini, kita dapat membuat objek DecisionTreeClassifier yang akan digunakan untuk melatih dan menguji model pohon keputusan pada data."
      ],
      "metadata": {
        "id": "lnbGm0fJ3JPC"
      }
    },
    {
      "cell_type": "code",
      "source": [
        "clf_gini = DecisionTreeClassifier(criterion='gini', max_depth=3, random_state=21)\n",
        "clf_gini.fit(X_train, y_train)"
      ],
      "metadata": {
        "colab": {
          "base_uri": "https://localhost:8080/",
          "height": 75
        },
        "id": "luq-7zthRkIi",
        "outputId": "0c7b6bc8-b85a-44d1-fd17-744cc26d2799"
      },
      "execution_count": 143,
      "outputs": [
        {
          "output_type": "execute_result",
          "data": {
            "text/plain": [
              "DecisionTreeClassifier(max_depth=3, random_state=21)"
            ],
            "text/html": [
              "<style>#sk-container-id-6 {color: black;background-color: white;}#sk-container-id-6 pre{padding: 0;}#sk-container-id-6 div.sk-toggleable {background-color: white;}#sk-container-id-6 label.sk-toggleable__label {cursor: pointer;display: block;width: 100%;margin-bottom: 0;padding: 0.3em;box-sizing: border-box;text-align: center;}#sk-container-id-6 label.sk-toggleable__label-arrow:before {content: \"▸\";float: left;margin-right: 0.25em;color: #696969;}#sk-container-id-6 label.sk-toggleable__label-arrow:hover:before {color: black;}#sk-container-id-6 div.sk-estimator:hover label.sk-toggleable__label-arrow:before {color: black;}#sk-container-id-6 div.sk-toggleable__content {max-height: 0;max-width: 0;overflow: hidden;text-align: left;background-color: #f0f8ff;}#sk-container-id-6 div.sk-toggleable__content pre {margin: 0.2em;color: black;border-radius: 0.25em;background-color: #f0f8ff;}#sk-container-id-6 input.sk-toggleable__control:checked~div.sk-toggleable__content {max-height: 200px;max-width: 100%;overflow: auto;}#sk-container-id-6 input.sk-toggleable__control:checked~label.sk-toggleable__label-arrow:before {content: \"▾\";}#sk-container-id-6 div.sk-estimator input.sk-toggleable__control:checked~label.sk-toggleable__label {background-color: #d4ebff;}#sk-container-id-6 div.sk-label input.sk-toggleable__control:checked~label.sk-toggleable__label {background-color: #d4ebff;}#sk-container-id-6 input.sk-hidden--visually {border: 0;clip: rect(1px 1px 1px 1px);clip: rect(1px, 1px, 1px, 1px);height: 1px;margin: -1px;overflow: hidden;padding: 0;position: absolute;width: 1px;}#sk-container-id-6 div.sk-estimator {font-family: monospace;background-color: #f0f8ff;border: 1px dotted black;border-radius: 0.25em;box-sizing: border-box;margin-bottom: 0.5em;}#sk-container-id-6 div.sk-estimator:hover {background-color: #d4ebff;}#sk-container-id-6 div.sk-parallel-item::after {content: \"\";width: 100%;border-bottom: 1px solid gray;flex-grow: 1;}#sk-container-id-6 div.sk-label:hover label.sk-toggleable__label {background-color: #d4ebff;}#sk-container-id-6 div.sk-serial::before {content: \"\";position: absolute;border-left: 1px solid gray;box-sizing: border-box;top: 0;bottom: 0;left: 50%;z-index: 0;}#sk-container-id-6 div.sk-serial {display: flex;flex-direction: column;align-items: center;background-color: white;padding-right: 0.2em;padding-left: 0.2em;position: relative;}#sk-container-id-6 div.sk-item {position: relative;z-index: 1;}#sk-container-id-6 div.sk-parallel {display: flex;align-items: stretch;justify-content: center;background-color: white;position: relative;}#sk-container-id-6 div.sk-item::before, #sk-container-id-6 div.sk-parallel-item::before {content: \"\";position: absolute;border-left: 1px solid gray;box-sizing: border-box;top: 0;bottom: 0;left: 50%;z-index: -1;}#sk-container-id-6 div.sk-parallel-item {display: flex;flex-direction: column;z-index: 1;position: relative;background-color: white;}#sk-container-id-6 div.sk-parallel-item:first-child::after {align-self: flex-end;width: 50%;}#sk-container-id-6 div.sk-parallel-item:last-child::after {align-self: flex-start;width: 50%;}#sk-container-id-6 div.sk-parallel-item:only-child::after {width: 0;}#sk-container-id-6 div.sk-dashed-wrapped {border: 1px dashed gray;margin: 0 0.4em 0.5em 0.4em;box-sizing: border-box;padding-bottom: 0.4em;background-color: white;}#sk-container-id-6 div.sk-label label {font-family: monospace;font-weight: bold;display: inline-block;line-height: 1.2em;}#sk-container-id-6 div.sk-label-container {text-align: center;}#sk-container-id-6 div.sk-container {/* jupyter's `normalize.less` sets `[hidden] { display: none; }` but bootstrap.min.css set `[hidden] { display: none !important; }` so we also need the `!important` here to be able to override the default hidden behavior on the sphinx rendered scikit-learn.org. See: https://github.com/scikit-learn/scikit-learn/issues/21755 */display: inline-block !important;position: relative;}#sk-container-id-6 div.sk-text-repr-fallback {display: none;}</style><div id=\"sk-container-id-6\" class=\"sk-top-container\"><div class=\"sk-text-repr-fallback\"><pre>DecisionTreeClassifier(max_depth=3, random_state=21)</pre><b>In a Jupyter environment, please rerun this cell to show the HTML representation or trust the notebook. <br />On GitHub, the HTML representation is unable to render, please try loading this page with nbviewer.org.</b></div><div class=\"sk-container\" hidden><div class=\"sk-item\"><div class=\"sk-estimator sk-toggleable\"><input class=\"sk-toggleable__control sk-hidden--visually\" id=\"sk-estimator-id-6\" type=\"checkbox\" checked><label for=\"sk-estimator-id-6\" class=\"sk-toggleable__label sk-toggleable__label-arrow\">DecisionTreeClassifier</label><div class=\"sk-toggleable__content\"><pre>DecisionTreeClassifier(max_depth=3, random_state=21)</pre></div></div></div></div></div>"
            ]
          },
          "metadata": {},
          "execution_count": 143
        }
      ]
    },
    {
      "cell_type": "markdown",
      "source": [
        "Kode tersebut membuat objek DecisionTreeClassifier dengan menggunakan kriteria 'gini' dan batasan kedalaman maksimum sebesar 3. Objek tersebut kemudian dilatih dengan menggunakan data X_train dan y_train menggunakan metode fit(). Dalam konteks ini, model pohon keputusan akan menggunakan metode gini impurity untuk melakukan pemisahan node dan akan memiliki kedalaman maksimum sebanyak 3 level."
      ],
      "metadata": {
        "id": "_Zq-jBjw3TUD"
      }
    },
    {
      "cell_type": "markdown",
      "source": [
        "###Melakukan Prediksi Pada Data Uji"
      ],
      "metadata": {
        "id": "6jhh6Bu6V3L1"
      }
    },
    {
      "cell_type": "code",
      "source": [
        "y_pred_gini = clf_gini.predict(X_test)"
      ],
      "metadata": {
        "id": "n86UKplZXIZV"
      },
      "execution_count": 144,
      "outputs": []
    },
    {
      "cell_type": "markdown",
      "source": [
        "Kode tersebut menggunakan model DecisionTreeClassifier yang telah dilatih sebelumnya (clf_gini) untuk melakukan prediksi pada data uji (X_test). Hasil prediksi tersebut disimpan dalam variabel y_pred_gini."
      ],
      "metadata": {
        "id": "qvZ4Ws163cK4"
      }
    },
    {
      "cell_type": "markdown",
      "source": [
        "###Menghitung Akurasi model menggunakan kriteria indeks Gini pada data uji"
      ],
      "metadata": {
        "id": "dqC0VdlSWLNH"
      }
    },
    {
      "cell_type": "code",
      "source": [
        "from sklearn.metrics import accuracy_score\n",
        "print('Model accuracy score with criterion gini index: {0:0.2f}'. format(accuracy_score(y_test, y_pred_gini)))"
      ],
      "metadata": {
        "colab": {
          "base_uri": "https://localhost:8080/"
        },
        "id": "-e7_q9LVRmh6",
        "outputId": "8d21268c-a36a-48f6-c40d-fc762b81ebd7"
      },
      "execution_count": 145,
      "outputs": [
        {
          "output_type": "stream",
          "name": "stdout",
          "text": [
            "Model accuracy score with criterion gini index: 0.36\n"
          ]
        }
      ]
    },
    {
      "cell_type": "markdown",
      "source": [
        "Kode tersebut mengimport modul accuracy_score dari sklearn.metrics. Kemudian, menggunakan fungsi accuracy_score, menghitung nilai akurasi antara nilai sebenarnya (y_test) dan nilai prediksi (y_pred_gini) yang dihasilkan oleh model dengan kriteria gini index. Hasil akurasi tersebut kemudian dicetak."
      ],
      "metadata": {
        "id": "k3W0W4rF3uEl"
      }
    },
    {
      "cell_type": "markdown",
      "source": [
        "###Melakukan Prediksi pada Data Latih"
      ],
      "metadata": {
        "id": "3kYmxw3MWQ4c"
      }
    },
    {
      "cell_type": "code",
      "source": [
        "y_pred_train_gini = clf_gini.predict(X_train)\n",
        "y_pred_train_gini"
      ],
      "metadata": {
        "colab": {
          "base_uri": "https://localhost:8080/"
        },
        "id": "q__FmtzeRpp5",
        "outputId": "d3c43b1e-a93f-49aa-8a83-4eb850393514"
      },
      "execution_count": 146,
      "outputs": [
        {
          "output_type": "execute_result",
          "data": {
            "text/plain": [
              "array(['setosa', 'setosa', 'versicolor', 'versicolor', 'versicolor',\n",
              "       'versicolor', 'setosa', 'setosa', 'setosa', 'setosa', 'setosa',\n",
              "       'setosa', 'setosa', 'setosa', 'setosa', 'setosa', 'setosa',\n",
              "       'setosa', 'setosa', 'setosa', 'setosa', 'setosa', 'setosa',\n",
              "       'setosa', 'virginica', 'virginica', 'virginica', 'virginica',\n",
              "       'virginica', 'virginica', 'virginica', 'virginica', 'virginica',\n",
              "       'virginica', 'virginica', 'virginica', 'virginica', 'virginica',\n",
              "       'virginica', 'virginica', 'virginica', 'virginica', 'virginica',\n",
              "       'virginica', 'virginica', 'virginica', 'virginica', 'virginica',\n",
              "       'virginica', 'virginica', 'virginica', 'virginica', 'virginica',\n",
              "       'virginica', 'virginica', 'virginica', 'virginica', 'virginica',\n",
              "       'virginica', 'virginica', 'virginica', 'virginica', 'virginica',\n",
              "       'setosa', 'virginica', 'virginica', 'virginica', 'virginica',\n",
              "       'virginica', 'virginica', 'virginica', 'virginica', 'virginica',\n",
              "       'virginica', 'virginica', 'virginica', 'virginica', 'virginica',\n",
              "       'virginica', 'virginica', 'virginica', 'virginica', 'virginica',\n",
              "       'virginica', 'virginica', 'virginica', 'virginica', 'virginica',\n",
              "       'virginica', 'virginica', 'virginica', 'virginica', 'virginica',\n",
              "       'virginica', 'virginica', 'virginica', 'virginica', 'setosa',\n",
              "       'setosa', 'versicolor'], dtype=object)"
            ]
          },
          "metadata": {},
          "execution_count": 146
        }
      ]
    },
    {
      "cell_type": "markdown",
      "source": [
        "Kode tersebut menggunakan model DecisionTreeClassifier (clf_gini) yang telah dilatih sebelumnya untuk melakukan prediksi pada data latih (X_train). Hasil prediksi tersebut disimpan dalam variabel y_pred_train_gini."
      ],
      "metadata": {
        "id": "yp-oP8zr35De"
      }
    },
    {
      "cell_type": "code",
      "source": [
        "print('Training-set accuracy score: {0:0.2f}'. format(accuracy_score(y_train, y_pred_train_gini)))"
      ],
      "metadata": {
        "colab": {
          "base_uri": "https://localhost:8080/"
        },
        "id": "zJLri6bpRu29",
        "outputId": "c3f725ab-935b-4c7e-8cda-89d3e3b9e96e"
      },
      "execution_count": 147,
      "outputs": [
        {
          "output_type": "stream",
          "name": "stdout",
          "text": [
            "Training-set accuracy score: 0.50\n"
          ]
        }
      ]
    },
    {
      "cell_type": "markdown",
      "source": [
        "Kode tersebut mengimport modul accuracy_score dari sklearn.metrics. Kemudian, menggunakan fungsi accuracy_score, menghitung nilai akurasi antara nilai sebenarnya pada data latih (y_train) dan nilai prediksi pada data latih (y_pred_train_gini) yang dihasilkan oleh model dengan kriteria gini index. Hasil akurasi tersebut kemudian dicetak."
      ],
      "metadata": {
        "id": "Sc-e-Uyt4LX_"
      }
    },
    {
      "cell_type": "markdown",
      "source": [
        "###Menghitung skor model pada data latih dan data uji"
      ],
      "metadata": {
        "id": "hJdB6ss4Wc7A"
      }
    },
    {
      "cell_type": "code",
      "source": [
        "print('Training set score: {:.2f}'.format(clf_gini.score(X_train, y_train)))\n",
        "print('Test set score: {:.2f}'.format(clf_gini.score(X_test, y_test)))"
      ],
      "metadata": {
        "colab": {
          "base_uri": "https://localhost:8080/"
        },
        "id": "WW8iiW2XR0YE",
        "outputId": "8f0b783a-6233-4f83-89c3-3391d7f349d7"
      },
      "execution_count": 148,
      "outputs": [
        {
          "output_type": "stream",
          "name": "stdout",
          "text": [
            "Training set score: 0.50\n",
            "Test set score: 0.36\n"
          ]
        }
      ]
    },
    {
      "cell_type": "markdown",
      "source": [
        "Kode tersebut mencetak skor model pada data latih dan data uji. Skor pada data latih dihitung dengan menggunakan metode `score` dari objek `clf_gini` dengan argumen `X_train` dan `y_train`, dan skor pada data uji dihitung dengan menggunakan metode `score` dengan argumen `X_test` dan `y_test`. Hasil skor tersebut kemudian dicetak dengan format dua desimal."
      ],
      "metadata": {
        "id": "Sdmw97u_4noL"
      }
    },
    {
      "cell_type": "markdown",
      "source": [
        "###Membuat Visualisasi DecisionTree"
      ],
      "metadata": {
        "id": "jLmkGFsLWhs3"
      }
    },
    {
      "cell_type": "code",
      "source": [
        "plt.figure(figsize=(10,6))\n",
        "\n",
        "from sklearn import tree\n",
        "\n",
        "tree.plot_tree(clf_gini.fit(X_train, y_train))\n",
        "plt.show()"
      ],
      "metadata": {
        "colab": {
          "base_uri": "https://localhost:8080/",
          "height": 499
        },
        "id": "4LiUrMArR47v",
        "outputId": "959c8683-04cc-44a8-a1af-b9d07d73494d"
      },
      "execution_count": 149,
      "outputs": [
        {
          "output_type": "display_data",
          "data": {
            "text/plain": [
              "<Figure size 1000x600 with 1 Axes>"
            ],
            "image/png": "[encoded data removed]"
          },
          "metadata": {}
        }
      ]
    },
    {
      "cell_type": "markdown",
      "source": [
        "Kode tersebut menghasilkan visualisasi dari pohon keputusan yang dilatih dengan menggunakan algoritma Gini. Visualisasi tersebut dibuat menggunakan fungsi `plot_tree` dari modul `tree` dalam library `sklearn`. Hasil visualisasi pohon keputusan ditampilkan dalam sebuah plot dengan ukuran 10x6."
      ],
      "metadata": {
        "id": "gD8hj39l4wBU"
      }
    },
    {
      "cell_type": "markdown",
      "source": [
        "#**Kesimpulan**"
      ],
      "metadata": {
        "id": "GRa_ytj7aHOi"
      }
    },
    {
      "cell_type": "markdown",
      "source": [
        "Dari beberapa metode yang digunakan yaitu Decision Tree, KNN , Naive Bayes dan ANN untuk klasifikasi menggunakan dataset iris yang berjumlah 150 data dengan jumlah label sebanyak 3 kelas dimana masing-masing kelas terdapat 50 data dengan jumlah 4 fitur . Kemudian dilakukan proses PCA yang awalnya memiliki 4 fitur menjadi memiliki 2 fitur. setelah itu dilakukan pembagian data 80:20 yaitu data training sebanyak 80% dan data latih sebanyak 20%. \n",
        "\n",
        "Maka, didapatkan hasil perbandingan antara Klasifikasi menggunakan dataset iris tanpa dilakukan PCA dan klasifikasi dataset iris menggunakan PCA sebagai berikut:\n",
        "\n",
        "1. pada metode Naive Bayes didapatkan hasil akurasi 0.1 atau 100%  Sedangkan nilai akurasi yang didapatkan setelah dilakukan PCA yaitu 0.96 atau 96%.\n",
        "\n",
        "2. pada metode KNN nilai akurasi yang didapat yaitu 1.0 dengan jumlah k = 5  Sedangkan nilai akurasi yang didapatkan setelah dilakukan PCA yaitu 0.9 atau 90%.\n",
        "\n",
        "3. pada metode ANN didapatkan hasil akurasi 0.93 atau 93% Sedangkan nilai akurasi yang didapatkan setelah dilakukan PCA yaitu 0.86 atau 86%.\n",
        "\n",
        "4. Pada metode Decision Tree nilai akurasi yang didapat menggunakan kriteria indeks Gini dengan batasan kedalaman maksimum pohon (max_depth) adalah 3 didapatkan hasil akurasi 1.0 atau 100% Sedangkan nilai akurasi yang didapatkan setelah dilakukan PCA yaitu 0.36 atau 36%."
      ],
      "metadata": {
        "id": "lnMQqZzFaLnq"
      }
    }
  ]
}