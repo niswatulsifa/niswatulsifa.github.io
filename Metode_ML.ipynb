{
  "nbformat": 4,
  "nbformat_minor": 0,
  "metadata": {
    "colab": {
      "provenance": []
    },
    "kernelspec": {
      "name": "python3",
      "display_name": "Python 3"
    },
    "language_info": {
      "name": "python"
    }
  },
  "cells": [
    {
      "cell_type": "markdown",
      "source": [
        "#**Penerapan beberapa metode Machine Learning pada dataset Iris**"
      ],
      "metadata": {
        "id": "i9WN2dZihZIJ"
      }
    },
    {
      "cell_type": "markdown",
      "source": [
        "###Import Library"
      ],
      "metadata": {
        "id": "7wDz5ZB_hg_W"
      }
    },
    {
      "cell_type": "code",
      "execution_count": 4,
      "metadata": {
        "id": "Dbw5dsYmhJqw"
      },
      "outputs": [],
      "source": [
        "import pandas as pd\n",
        "import numpy as np\n",
        "import seaborn as sns\n",
        "import matplotlib.pyplot as plt"
      ]
    },
    {
      "cell_type": "markdown",
      "source": [
        "###Import dataset iris menggunakan dataframe pandas"
      ],
      "metadata": {
        "id": "W9szckz0hnga"
      }
    },
    {
      "cell_type": "code",
      "source": [
        "df=pd.read_csv('https://raw.githubusercontent.com/niswatulsifa/data_iris/master/IrisDataset.csv', sep=',')\n",
        "df.head()"
      ],
      "metadata": {
        "colab": {
          "base_uri": "https://localhost:8080/",
          "height": 206
        },
        "id": "PYAUskO-htPm",
        "outputId": "81ff0bcd-8526-4bdd-c4ea-8ca17ac94baa"
      },
      "execution_count": 5,
      "outputs": [
        {
          "output_type": "execute_result",
          "data": {
            "text/plain": [
              "   sepal_length  sepal_width  petal_length  petal_width species\n",
              "0           5.1          3.5           1.4          0.2  setosa\n",
              "1           4.9          3.0           1.4          0.2  setosa\n",
              "2           4.7          3.2           1.3          0.2  setosa\n",
              "3           4.6          3.1           1.5          0.2  setosa\n",
              "4           5.0          3.6           1.4          0.2  setosa"
            ],
            "text/html": [
              "\n",
              "  <div id=\"df-5c89c545-ddea-4023-8bda-1e741e97d663\">\n",
              "    <div class=\"colab-df-container\">\n",
              "      <div>\n",
              "<style scoped>\n",
              "    .dataframe tbody tr th:only-of-type {\n",
              "        vertical-align: middle;\n",
              "    }\n",
              "\n",
              "    .dataframe tbody tr th {\n",
              "        vertical-align: top;\n",
              "    }\n",
              "\n",
              "    .dataframe thead th {\n",
              "        text-align: right;\n",
              "    }\n",
              "</style>\n",
              "<table border=\"1\" class=\"dataframe\">\n",
              "  <thead>\n",
              "    <tr style=\"text-align: right;\">\n",
              "      <th></th>\n",
              "      <th>sepal_length</th>\n",
              "      <th>sepal_width</th>\n",
              "      <th>petal_length</th>\n",
              "      <th>petal_width</th>\n",
              "      <th>species</th>\n",
              "    </tr>\n",
              "  </thead>\n",
              "  <tbody>\n",
              "    <tr>\n",
              "      <th>0</th>\n",
              "      <td>5.1</td>\n",
              "      <td>3.5</td>\n",
              "      <td>1.4</td>\n",
              "      <td>0.2</td>\n",
              "      <td>setosa</td>\n",
              "    </tr>\n",
              "    <tr>\n",
              "      <th>1</th>\n",
              "      <td>4.9</td>\n",
              "      <td>3.0</td>\n",
              "      <td>1.4</td>\n",
              "      <td>0.2</td>\n",
              "      <td>setosa</td>\n",
              "    </tr>\n",
              "    <tr>\n",
              "      <th>2</th>\n",
              "      <td>4.7</td>\n",
              "      <td>3.2</td>\n",
              "      <td>1.3</td>\n",
              "      <td>0.2</td>\n",
              "      <td>setosa</td>\n",
              "    </tr>\n",
              "    <tr>\n",
              "      <th>3</th>\n",
              "      <td>4.6</td>\n",
              "      <td>3.1</td>\n",
              "      <td>1.5</td>\n",
              "      <td>0.2</td>\n",
              "      <td>setosa</td>\n",
              "    </tr>\n",
              "    <tr>\n",
              "      <th>4</th>\n",
              "      <td>5.0</td>\n",
              "      <td>3.6</td>\n",
              "      <td>1.4</td>\n",
              "      <td>0.2</td>\n",
              "      <td>setosa</td>\n",
              "    </tr>\n",
              "  </tbody>\n",
              "</table>\n",
              "</div>\n",
              "      <button class=\"colab-df-convert\" onclick=\"convertToInteractive('df-5c89c545-ddea-4023-8bda-1e741e97d663')\"\n",
              "              title=\"Convert this dataframe to an interactive table.\"\n",
              "              style=\"display:none;\">\n",
              "        \n",
              "  <svg xmlns=\"http://www.w3.org/2000/svg\" height=\"24px\"viewBox=\"0 0 24 24\"\n",
              "       width=\"24px\">\n",
              "    <path d=\"M0 0h24v24H0V0z\" fill=\"none\"/>\n",
              "    <path d=\"M18.56 5.44l.94 2.06.94-2.06 2.06-.94-2.06-.94-.94-2.06-.94 2.06-2.06.94zm-11 1L8.5 8.5l.94-2.06 2.06-.94-2.06-.94L8.5 2.5l-.94 2.06-2.06.94zm10 10l.94 2.06.94-2.06 2.06-.94-2.06-.94-.94-2.06-.94 2.06-2.06.94z\"/><path d=\"M17.41 7.96l-1.37-1.37c-.4-.4-.92-.59-1.43-.59-.52 0-1.04.2-1.43.59L10.3 9.45l-7.72 7.72c-.78.78-.78 2.05 0 2.83L4 21.41c.39.39.9.59 1.41.59.51 0 1.02-.2 1.41-.59l7.78-7.78 2.81-2.81c.8-.78.8-2.07 0-2.86zM5.41 20L4 18.59l7.72-7.72 1.47 1.35L5.41 20z\"/>\n",
              "  </svg>\n",
              "      </button>\n",
              "      \n",
              "  <style>\n",
              "    .colab-df-container {\n",
              "      display:flex;\n",
              "      flex-wrap:wrap;\n",
              "      gap: 12px;\n",
              "    }\n",
              "\n",
              "    .colab-df-convert {\n",
              "      background-color: #E8F0FE;\n",
              "      border: none;\n",
              "      border-radius: 50%;\n",
              "      cursor: pointer;\n",
              "      display: none;\n",
              "      fill: #1967D2;\n",
              "      height: 32px;\n",
              "      padding: 0 0 0 0;\n",
              "      width: 32px;\n",
              "    }\n",
              "\n",
              "    .colab-df-convert:hover {\n",
              "      background-color: #E2EBFA;\n",
              "      box-shadow: 0px 1px 2px rgba(60, 64, 67, 0.3), 0px 1px 3px 1px rgba(60, 64, 67, 0.15);\n",
              "      fill: #174EA6;\n",
              "    }\n",
              "\n",
              "    [theme=dark] .colab-df-convert {\n",
              "      background-color: #3B4455;\n",
              "      fill: #D2E3FC;\n",
              "    }\n",
              "\n",
              "    [theme=dark] .colab-df-convert:hover {\n",
              "      background-color: #434B5C;\n",
              "      box-shadow: 0px 1px 3px 1px rgba(0, 0, 0, 0.15);\n",
              "      filter: drop-shadow(0px 1px 2px rgba(0, 0, 0, 0.3));\n",
              "      fill: #FFFFFF;\n",
              "    }\n",
              "  </style>\n",
              "\n",
              "      <script>\n",
              "        const buttonEl =\n",
              "          document.querySelector('#df-5c89c545-ddea-4023-8bda-1e741e97d663 button.colab-df-convert');\n",
              "        buttonEl.style.display =\n",
              "          google.colab.kernel.accessAllowed ? 'block' : 'none';\n",
              "\n",
              "        async function convertToInteractive(key) {\n",
              "          const element = document.querySelector('#df-5c89c545-ddea-4023-8bda-1e741e97d663');\n",
              "          const dataTable =\n",
              "            await google.colab.kernel.invokeFunction('convertToInteractive',\n",
              "                                                     [key], {});\n",
              "          if (!dataTable) return;\n",
              "\n",
              "          const docLinkHtml = 'Like what you see? Visit the ' +\n",
              "            '<a target=\"_blank\" href=https://colab.research.google.com/notebooks/data_table.ipynb>data table notebook</a>'\n",
              "            + ' to learn more about interactive tables.';\n",
              "          element.innerHTML = '';\n",
              "          dataTable['output_type'] = 'display_data';\n",
              "          await google.colab.output.renderOutput(dataTable, element);\n",
              "          const docLink = document.createElement('div');\n",
              "          docLink.innerHTML = docLinkHtml;\n",
              "          element.appendChild(docLink);\n",
              "        }\n",
              "      </script>\n",
              "    </div>\n",
              "  </div>\n",
              "  "
            ]
          },
          "metadata": {},
          "execution_count": 5
        }
      ]
    },
    {
      "cell_type": "code",
      "source": [
        "df['species'].value_counts()"
      ],
      "metadata": {
        "colab": {
          "base_uri": "https://localhost:8080/"
        },
        "id": "zhtVTh4Vh29d",
        "outputId": "12f55e58-aa32-4fd8-ed7f-35b4634c3d8b"
      },
      "execution_count": 6,
      "outputs": [
        {
          "output_type": "execute_result",
          "data": {
            "text/plain": [
              "setosa        50\n",
              "versicolor    50\n",
              "virginica     50\n",
              "Name: species, dtype: int64"
            ]
          },
          "metadata": {},
          "execution_count": 6
        }
      ]
    },
    {
      "cell_type": "markdown",
      "source": [
        "Kode diatas digunakan untuk menghitung jumlah kemunculan setiap nilai unik dalam kolom 'species' dalam sebuah DataFrame yang disimpan dalam variabel 'df'."
      ],
      "metadata": {
        "id": "w-st1rJmh8e1"
      }
    },
    {
      "cell_type": "code",
      "source": [
        "df.columns"
      ],
      "metadata": {
        "colab": {
          "base_uri": "https://localhost:8080/"
        },
        "id": "M_lr7Gxqh-nu",
        "outputId": "f300f68f-6277-4e95-f26e-db5502c96336"
      },
      "execution_count": 7,
      "outputs": [
        {
          "output_type": "execute_result",
          "data": {
            "text/plain": [
              "Index(['sepal_length', 'sepal_width', 'petal_length', 'petal_width',\n",
              "       'species'],\n",
              "      dtype='object')"
            ]
          },
          "metadata": {},
          "execution_count": 7
        }
      ]
    },
    {
      "cell_type": "markdown",
      "source": [
        "Mengembalikan daftar kolom yang ada dalam DataFrame yang disimpan dalam variabel 'df'."
      ],
      "metadata": {
        "id": "RMjPJjQzkCyk"
      }
    },
    {
      "cell_type": "code",
      "source": [
        "X=df.iloc[:,0:4].values\n",
        "y=df.iloc[:,4].values"
      ],
      "metadata": {
        "id": "ETFQ5Cn8kHba"
      },
      "execution_count": 8,
      "outputs": []
    },
    {
      "cell_type": "markdown",
      "source": [
        "Memisahkan data dalam DataFrame 'df' menjadi dua bagian, dengan kolom 0 hingga 3 (indeks 0, 1, 2, dan 3) disimpan dalam variabel 'X' dan kolom 4 disimpan dalam variabel 'y'."
      ],
      "metadata": {
        "id": "L7wZjILGkJG-"
      }
    },
    {
      "cell_type": "markdown",
      "source": [
        "###Membuat gambar histogram dari empat fitur dalam DataFrame 'X'"
      ],
      "metadata": {
        "id": "m2WGfdQ9kMGv"
      }
    },
    {
      "cell_type": "code",
      "source": [
        "label_dict={1: 'setosa',\n",
        "           2: 'virginica',\n",
        "           3: 'versicolor'}\n",
        "feature_dict={0: 'sepal_length',1: 'sepal_width',2: 'petal_length',3: 'petal_width'}\n",
        "\n",
        "with plt.style.context('seaborn-whitegrid'):\n",
        "    plt.figure(figsize=(8,6))\n",
        "    for i in range(4):\n",
        "        plt.subplot(2,2,i+1)\n",
        "        for lab in ('setosa','virginica','versicolor'):\n",
        "            plt.hist(X[y==lab, i],\n",
        "                    label=lab,\n",
        "                    bins=10,\n",
        "                    alpha=0.3)\n",
        "        plt.xlabel(feature_dict[i])\n",
        "    plt.legend(loc='upper right', fancybox=True,fontsize=8)\n",
        "    \n",
        "    plt.tight_layout()\n",
        "    plt.show()"
      ],
      "metadata": {
        "colab": {
          "base_uri": "https://localhost:8080/",
          "height": 607
        },
        "id": "68ddtmBgkQ_I",
        "outputId": "e55b2cb5-3ab8-4266-c915-b8ec7e95874d"
      },
      "execution_count": 9,
      "outputs": [
        {
          "output_type": "display_data",
          "data": {
            "text/plain": [
              "<Figure size 800x600 with 4 Axes>"
            ],
            "image/png": "[encoded data removed]"
          },
          "metadata": {}
        }
      ]
    },
    {
      "cell_type": "markdown",
      "source": [
        "###Splitting Data "
      ],
      "metadata": {
        "id": "XFQKBzB0kXdR"
      }
    },
    {
      "cell_type": "code",
      "source": [
        "from sklearn.model_selection import train_test_split\n",
        "X_train, X_test, y_train, y_test = train_test_split(X, y, test_size=0.2, random_state=42)"
      ],
      "metadata": {
        "id": "Uypy5-2ekaaB"
      },
      "execution_count": 10,
      "outputs": []
    },
    {
      "cell_type": "markdown",
      "source": [
        "###Preprocessing Menggunakan StandardScaler"
      ],
      "metadata": {
        "id": "St7MOX_FoJ7t"
      }
    },
    {
      "cell_type": "code",
      "source": [
        "from sklearn.preprocessing import StandardScaler\n",
        "sc = StandardScaler()\n",
        "X_train = sc.fit_transform(X_train)\n",
        "X_test = sc.transform(X_test)"
      ],
      "metadata": {
        "id": "skYK5pZkoLFu"
      },
      "execution_count": 11,
      "outputs": []
    },
    {
      "cell_type": "markdown",
      "source": [
        "#**Metode Naive Bayes**"
      ],
      "metadata": {
        "id": "i6bFHqLpoSA9"
      }
    },
    {
      "cell_type": "markdown",
      "source": [
        "###Import modul GaussianNB"
      ],
      "metadata": {
        "id": "ljhrJ9IioWpj"
      }
    },
    {
      "cell_type": "markdown",
      "source": [
        "GaussianNB adalah implementasi dari algoritma Naive Bayes dengan asumsi bahwa fitur-fitur yang independen diambil dari distribusi Gaussian."
      ],
      "metadata": {
        "id": "S7QfdG7eodA1"
      }
    },
    {
      "cell_type": "code",
      "source": [
        "from sklearn.naive_bayes import GaussianNB\n",
        "classifier = GaussianNB()\n",
        "classifier.fit(X_train, y_train)"
      ],
      "metadata": {
        "colab": {
          "base_uri": "https://localhost:8080/",
          "height": 75
        },
        "id": "Q1ZlnK1Soeup",
        "outputId": "41b59788-6129-49f5-80bf-7b23840b7678"
      },
      "execution_count": 12,
      "outputs": [
        {
          "output_type": "execute_result",
          "data": {
            "text/plain": [
              "GaussianNB()"
            ],
            "text/html": [
              "<style>#sk-container-id-1 {color: black;background-color: white;}#sk-container-id-1 pre{padding: 0;}#sk-container-id-1 div.sk-toggleable {background-color: white;}#sk-container-id-1 label.sk-toggleable__label {cursor: pointer;display: block;width: 100%;margin-bottom: 0;padding: 0.3em;box-sizing: border-box;text-align: center;}#sk-container-id-1 label.sk-toggleable__label-arrow:before {content: \"▸\";float: left;margin-right: 0.25em;color: #696969;}#sk-container-id-1 label.sk-toggleable__label-arrow:hover:before {color: black;}#sk-container-id-1 div.sk-estimator:hover label.sk-toggleable__label-arrow:before {color: black;}#sk-container-id-1 div.sk-toggleable__content {max-height: 0;max-width: 0;overflow: hidden;text-align: left;background-color: #f0f8ff;}#sk-container-id-1 div.sk-toggleable__content pre {margin: 0.2em;color: black;border-radius: 0.25em;background-color: #f0f8ff;}#sk-container-id-1 input.sk-toggleable__control:checked~div.sk-toggleable__content {max-height: 200px;max-width: 100%;overflow: auto;}#sk-container-id-1 input.sk-toggleable__control:checked~label.sk-toggleable__label-arrow:before {content: \"▾\";}#sk-container-id-1 div.sk-estimator input.sk-toggleable__control:checked~label.sk-toggleable__label {background-color: #d4ebff;}#sk-container-id-1 div.sk-label input.sk-toggleable__control:checked~label.sk-toggleable__label {background-color: #d4ebff;}#sk-container-id-1 input.sk-hidden--visually {border: 0;clip: rect(1px 1px 1px 1px);clip: rect(1px, 1px, 1px, 1px);height: 1px;margin: -1px;overflow: hidden;padding: 0;position: absolute;width: 1px;}#sk-container-id-1 div.sk-estimator {font-family: monospace;background-color: #f0f8ff;border: 1px dotted black;border-radius: 0.25em;box-sizing: border-box;margin-bottom: 0.5em;}#sk-container-id-1 div.sk-estimator:hover {background-color: #d4ebff;}#sk-container-id-1 div.sk-parallel-item::after {content: \"\";width: 100%;border-bottom: 1px solid gray;flex-grow: 1;}#sk-container-id-1 div.sk-label:hover label.sk-toggleable__label {background-color: #d4ebff;}#sk-container-id-1 div.sk-serial::before {content: \"\";position: absolute;border-left: 1px solid gray;box-sizing: border-box;top: 0;bottom: 0;left: 50%;z-index: 0;}#sk-container-id-1 div.sk-serial {display: flex;flex-direction: column;align-items: center;background-color: white;padding-right: 0.2em;padding-left: 0.2em;position: relative;}#sk-container-id-1 div.sk-item {position: relative;z-index: 1;}#sk-container-id-1 div.sk-parallel {display: flex;align-items: stretch;justify-content: center;background-color: white;position: relative;}#sk-container-id-1 div.sk-item::before, #sk-container-id-1 div.sk-parallel-item::before {content: \"\";position: absolute;border-left: 1px solid gray;box-sizing: border-box;top: 0;bottom: 0;left: 50%;z-index: -1;}#sk-container-id-1 div.sk-parallel-item {display: flex;flex-direction: column;z-index: 1;position: relative;background-color: white;}#sk-container-id-1 div.sk-parallel-item:first-child::after {align-self: flex-end;width: 50%;}#sk-container-id-1 div.sk-parallel-item:last-child::after {align-self: flex-start;width: 50%;}#sk-container-id-1 div.sk-parallel-item:only-child::after {width: 0;}#sk-container-id-1 div.sk-dashed-wrapped {border: 1px dashed gray;margin: 0 0.4em 0.5em 0.4em;box-sizing: border-box;padding-bottom: 0.4em;background-color: white;}#sk-container-id-1 div.sk-label label {font-family: monospace;font-weight: bold;display: inline-block;line-height: 1.2em;}#sk-container-id-1 div.sk-label-container {text-align: center;}#sk-container-id-1 div.sk-container {/* jupyter's `normalize.less` sets `[hidden] { display: none; }` but bootstrap.min.css set `[hidden] { display: none !important; }` so we also need the `!important` here to be able to override the default hidden behavior on the sphinx rendered scikit-learn.org. See: https://github.com/scikit-learn/scikit-learn/issues/21755 */display: inline-block !important;position: relative;}#sk-container-id-1 div.sk-text-repr-fallback {display: none;}</style><div id=\"sk-container-id-1\" class=\"sk-top-container\"><div class=\"sk-text-repr-fallback\"><pre>GaussianNB()</pre><b>In a Jupyter environment, please rerun this cell to show the HTML representation or trust the notebook. <br />On GitHub, the HTML representation is unable to render, please try loading this page with nbviewer.org.</b></div><div class=\"sk-container\" hidden><div class=\"sk-item\"><div class=\"sk-estimator sk-toggleable\"><input class=\"sk-toggleable__control sk-hidden--visually\" id=\"sk-estimator-id-1\" type=\"checkbox\" checked><label for=\"sk-estimator-id-1\" class=\"sk-toggleable__label sk-toggleable__label-arrow\">GaussianNB</label><div class=\"sk-toggleable__content\"><pre>GaussianNB()</pre></div></div></div></div></div>"
            ]
          },
          "metadata": {},
          "execution_count": 12
        }
      ]
    },
    {
      "cell_type": "markdown",
      "source": [
        "Membuat objek GaussianNB yang akan digunakan sebagai model klasifikasi. Kemudian melatih model GaussianNB menggunakan data latih X_train dan label latih y_train. Model akan belajar untuk melakukan klasifikasi berdasarkan prinsip Naive Bayes."
      ],
      "metadata": {
        "id": "NjmVAo_eojJ9"
      }
    },
    {
      "cell_type": "markdown",
      "source": [
        "###Melakukan Prediksi"
      ],
      "metadata": {
        "id": "Hz45B7wDomif"
      }
    },
    {
      "cell_type": "code",
      "source": [
        "y_pred = classifier.predict(X_test) \n",
        "y_pred"
      ],
      "metadata": {
        "colab": {
          "base_uri": "https://localhost:8080/"
        },
        "id": "86kvb1muoohv",
        "outputId": "29e4dd70-55eb-4a7e-ca63-f19fc5b6d7ec"
      },
      "execution_count": 13,
      "outputs": [
        {
          "output_type": "execute_result",
          "data": {
            "text/plain": [
              "array(['versicolor', 'setosa', 'virginica', 'versicolor', 'versicolor',\n",
              "       'setosa', 'versicolor', 'virginica', 'versicolor', 'versicolor',\n",
              "       'virginica', 'setosa', 'setosa', 'setosa', 'setosa', 'versicolor',\n",
              "       'virginica', 'versicolor', 'versicolor', 'virginica', 'setosa',\n",
              "       'virginica', 'setosa', 'virginica', 'virginica', 'virginica',\n",
              "       'virginica', 'virginica', 'setosa', 'setosa'], dtype='<U10')"
            ]
          },
          "metadata": {},
          "execution_count": 13
        }
      ]
    },
    {
      "cell_type": "markdown",
      "source": [
        "Menggunakan model GaussianNB yang telah dilatih untuk melakukan prediksi pada data uji X_test. Hasil prediksi disimpan dalam variabel y_pred."
      ],
      "metadata": {
        "id": "CMyvpn2hoqnO"
      }
    },
    {
      "cell_type": "markdown",
      "source": [
        "###Menghitung Akurasi dan menampilkan Confusion Matrix"
      ],
      "metadata": {
        "id": "KAIWxbLBotqR"
      }
    },
    {
      "cell_type": "code",
      "source": [
        "from sklearn.metrics import confusion_matrix\n",
        "cm = confusion_matrix(y_test, y_pred)\n",
        "from sklearn.metrics import accuracy_score \n",
        "print (\"Accuracy : \", accuracy_score(y_test, y_pred))\n",
        "cm"
      ],
      "metadata": {
        "colab": {
          "base_uri": "https://localhost:8080/"
        },
        "id": "SpbRE6ntopQz",
        "outputId": "53514cff-40d5-456d-eb27-8831a37ab8f2"
      },
      "execution_count": 14,
      "outputs": [
        {
          "output_type": "stream",
          "name": "stdout",
          "text": [
            "Accuracy :  1.0\n"
          ]
        },
        {
          "output_type": "execute_result",
          "data": {
            "text/plain": [
              "array([[10,  0,  0],\n",
              "       [ 0,  9,  0],\n",
              "       [ 0,  0, 11]])"
            ]
          },
          "metadata": {},
          "execution_count": 14
        }
      ]
    },
    {
      "cell_type": "markdown",
      "source": [
        "1. Menggunakan fungsi confusion_matrix untuk menghitung matriks kebingungan antara label sebenarnya y_test dan label yang diprediksi y_pred. Hasilnya disimpan dalam variabel cm.\n",
        "2. Menghitung nilai akurasi model pada data uji menggunakan accuracy_score. Accuracy score adalah metrik yang digunakan untuk mengukur akurasi model klasifikasi."
      ],
      "metadata": {
        "id": "OTYN2QOBozPD"
      }
    },
    {
      "cell_type": "markdown",
      "source": [
        "###Membuat Dataframe yang berisi menampilkan label sebenarnya dan label yang diprediksi untuk setiap data pada data uji."
      ],
      "metadata": {
        "id": "2H6jW-19o4DX"
      }
    },
    {
      "cell_type": "code",
      "source": [
        "df = pd.DataFrame({'Real Values':y_test, 'Predicted Values':y_pred})\n",
        "df"
      ],
      "metadata": {
        "colab": {
          "base_uri": "https://localhost:8080/",
          "height": 990
        },
        "id": "kUFqCDXio6K1",
        "outputId": "c5b5a862-8a33-4fc9-9b1b-1eb37688ec1f"
      },
      "execution_count": 15,
      "outputs": [
        {
          "output_type": "execute_result",
          "data": {
            "text/plain": [
              "   Real Values Predicted Values\n",
              "0   versicolor       versicolor\n",
              "1       setosa           setosa\n",
              "2    virginica        virginica\n",
              "3   versicolor       versicolor\n",
              "4   versicolor       versicolor\n",
              "5       setosa           setosa\n",
              "6   versicolor       versicolor\n",
              "7    virginica        virginica\n",
              "8   versicolor       versicolor\n",
              "9   versicolor       versicolor\n",
              "10   virginica        virginica\n",
              "11      setosa           setosa\n",
              "12      setosa           setosa\n",
              "13      setosa           setosa\n",
              "14      setosa           setosa\n",
              "15  versicolor       versicolor\n",
              "16   virginica        virginica\n",
              "17  versicolor       versicolor\n",
              "18  versicolor       versicolor\n",
              "19   virginica        virginica\n",
              "20      setosa           setosa\n",
              "21   virginica        virginica\n",
              "22      setosa           setosa\n",
              "23   virginica        virginica\n",
              "24   virginica        virginica\n",
              "25   virginica        virginica\n",
              "26   virginica        virginica\n",
              "27   virginica        virginica\n",
              "28      setosa           setosa\n",
              "29      setosa           setosa"
            ],
            "text/html": [
              "\n",
              "  <div id=\"df-a4c82cb7-1963-4caa-a31f-6957232c3d50\">\n",
              "    <div class=\"colab-df-container\">\n",
              "      <div>\n",
              "<style scoped>\n",
              "    .dataframe tbody tr th:only-of-type {\n",
              "        vertical-align: middle;\n",
              "    }\n",
              "\n",
              "    .dataframe tbody tr th {\n",
              "        vertical-align: top;\n",
              "    }\n",
              "\n",
              "    .dataframe thead th {\n",
              "        text-align: right;\n",
              "    }\n",
              "</style>\n",
              "<table border=\"1\" class=\"dataframe\">\n",
              "  <thead>\n",
              "    <tr style=\"text-align: right;\">\n",
              "      <th></th>\n",
              "      <th>Real Values</th>\n",
              "      <th>Predicted Values</th>\n",
              "    </tr>\n",
              "  </thead>\n",
              "  <tbody>\n",
              "    <tr>\n",
              "      <th>0</th>\n",
              "      <td>versicolor</td>\n",
              "      <td>versicolor</td>\n",
              "    </tr>\n",
              "    <tr>\n",
              "      <th>1</th>\n",
              "      <td>setosa</td>\n",
              "      <td>setosa</td>\n",
              "    </tr>\n",
              "    <tr>\n",
              "      <th>2</th>\n",
              "      <td>virginica</td>\n",
              "      <td>virginica</td>\n",
              "    </tr>\n",
              "    <tr>\n",
              "      <th>3</th>\n",
              "      <td>versicolor</td>\n",
              "      <td>versicolor</td>\n",
              "    </tr>\n",
              "    <tr>\n",
              "      <th>4</th>\n",
              "      <td>versicolor</td>\n",
              "      <td>versicolor</td>\n",
              "    </tr>\n",
              "    <tr>\n",
              "      <th>5</th>\n",
              "      <td>setosa</td>\n",
              "      <td>setosa</td>\n",
              "    </tr>\n",
              "    <tr>\n",
              "      <th>6</th>\n",
              "      <td>versicolor</td>\n",
              "      <td>versicolor</td>\n",
              "    </tr>\n",
              "    <tr>\n",
              "      <th>7</th>\n",
              "      <td>virginica</td>\n",
              "      <td>virginica</td>\n",
              "    </tr>\n",
              "    <tr>\n",
              "      <th>8</th>\n",
              "      <td>versicolor</td>\n",
              "      <td>versicolor</td>\n",
              "    </tr>\n",
              "    <tr>\n",
              "      <th>9</th>\n",
              "      <td>versicolor</td>\n",
              "      <td>versicolor</td>\n",
              "    </tr>\n",
              "    <tr>\n",
              "      <th>10</th>\n",
              "      <td>virginica</td>\n",
              "      <td>virginica</td>\n",
              "    </tr>\n",
              "    <tr>\n",
              "      <th>11</th>\n",
              "      <td>setosa</td>\n",
              "      <td>setosa</td>\n",
              "    </tr>\n",
              "    <tr>\n",
              "      <th>12</th>\n",
              "      <td>setosa</td>\n",
              "      <td>setosa</td>\n",
              "    </tr>\n",
              "    <tr>\n",
              "      <th>13</th>\n",
              "      <td>setosa</td>\n",
              "      <td>setosa</td>\n",
              "    </tr>\n",
              "    <tr>\n",
              "      <th>14</th>\n",
              "      <td>setosa</td>\n",
              "      <td>setosa</td>\n",
              "    </tr>\n",
              "    <tr>\n",
              "      <th>15</th>\n",
              "      <td>versicolor</td>\n",
              "      <td>versicolor</td>\n",
              "    </tr>\n",
              "    <tr>\n",
              "      <th>16</th>\n",
              "      <td>virginica</td>\n",
              "      <td>virginica</td>\n",
              "    </tr>\n",
              "    <tr>\n",
              "      <th>17</th>\n",
              "      <td>versicolor</td>\n",
              "      <td>versicolor</td>\n",
              "    </tr>\n",
              "    <tr>\n",
              "      <th>18</th>\n",
              "      <td>versicolor</td>\n",
              "      <td>versicolor</td>\n",
              "    </tr>\n",
              "    <tr>\n",
              "      <th>19</th>\n",
              "      <td>virginica</td>\n",
              "      <td>virginica</td>\n",
              "    </tr>\n",
              "    <tr>\n",
              "      <th>20</th>\n",
              "      <td>setosa</td>\n",
              "      <td>setosa</td>\n",
              "    </tr>\n",
              "    <tr>\n",
              "      <th>21</th>\n",
              "      <td>virginica</td>\n",
              "      <td>virginica</td>\n",
              "    </tr>\n",
              "    <tr>\n",
              "      <th>22</th>\n",
              "      <td>setosa</td>\n",
              "      <td>setosa</td>\n",
              "    </tr>\n",
              "    <tr>\n",
              "      <th>23</th>\n",
              "      <td>virginica</td>\n",
              "      <td>virginica</td>\n",
              "    </tr>\n",
              "    <tr>\n",
              "      <th>24</th>\n",
              "      <td>virginica</td>\n",
              "      <td>virginica</td>\n",
              "    </tr>\n",
              "    <tr>\n",
              "      <th>25</th>\n",
              "      <td>virginica</td>\n",
              "      <td>virginica</td>\n",
              "    </tr>\n",
              "    <tr>\n",
              "      <th>26</th>\n",
              "      <td>virginica</td>\n",
              "      <td>virginica</td>\n",
              "    </tr>\n",
              "    <tr>\n",
              "      <th>27</th>\n",
              "      <td>virginica</td>\n",
              "      <td>virginica</td>\n",
              "    </tr>\n",
              "    <tr>\n",
              "      <th>28</th>\n",
              "      <td>setosa</td>\n",
              "      <td>setosa</td>\n",
              "    </tr>\n",
              "    <tr>\n",
              "      <th>29</th>\n",
              "      <td>setosa</td>\n",
              "      <td>setosa</td>\n",
              "    </tr>\n",
              "  </tbody>\n",
              "</table>\n",
              "</div>\n",
              "      <button class=\"colab-df-convert\" onclick=\"convertToInteractive('df-a4c82cb7-1963-4caa-a31f-6957232c3d50')\"\n",
              "              title=\"Convert this dataframe to an interactive table.\"\n",
              "              style=\"display:none;\">\n",
              "        \n",
              "  <svg xmlns=\"http://www.w3.org/2000/svg\" height=\"24px\"viewBox=\"0 0 24 24\"\n",
              "       width=\"24px\">\n",
              "    <path d=\"M0 0h24v24H0V0z\" fill=\"none\"/>\n",
              "    <path d=\"M18.56 5.44l.94 2.06.94-2.06 2.06-.94-2.06-.94-.94-2.06-.94 2.06-2.06.94zm-11 1L8.5 8.5l.94-2.06 2.06-.94-2.06-.94L8.5 2.5l-.94 2.06-2.06.94zm10 10l.94 2.06.94-2.06 2.06-.94-2.06-.94-.94-2.06-.94 2.06-2.06.94z\"/><path d=\"M17.41 7.96l-1.37-1.37c-.4-.4-.92-.59-1.43-.59-.52 0-1.04.2-1.43.59L10.3 9.45l-7.72 7.72c-.78.78-.78 2.05 0 2.83L4 21.41c.39.39.9.59 1.41.59.51 0 1.02-.2 1.41-.59l7.78-7.78 2.81-2.81c.8-.78.8-2.07 0-2.86zM5.41 20L4 18.59l7.72-7.72 1.47 1.35L5.41 20z\"/>\n",
              "  </svg>\n",
              "      </button>\n",
              "      \n",
              "  <style>\n",
              "    .colab-df-container {\n",
              "      display:flex;\n",
              "      flex-wrap:wrap;\n",
              "      gap: 12px;\n",
              "    }\n",
              "\n",
              "    .colab-df-convert {\n",
              "      background-color: #E8F0FE;\n",
              "      border: none;\n",
              "      border-radius: 50%;\n",
              "      cursor: pointer;\n",
              "      display: none;\n",
              "      fill: #1967D2;\n",
              "      height: 32px;\n",
              "      padding: 0 0 0 0;\n",
              "      width: 32px;\n",
              "    }\n",
              "\n",
              "    .colab-df-convert:hover {\n",
              "      background-color: #E2EBFA;\n",
              "      box-shadow: 0px 1px 2px rgba(60, 64, 67, 0.3), 0px 1px 3px 1px rgba(60, 64, 67, 0.15);\n",
              "      fill: #174EA6;\n",
              "    }\n",
              "\n",
              "    [theme=dark] .colab-df-convert {\n",
              "      background-color: #3B4455;\n",
              "      fill: #D2E3FC;\n",
              "    }\n",
              "\n",
              "    [theme=dark] .colab-df-convert:hover {\n",
              "      background-color: #434B5C;\n",
              "      box-shadow: 0px 1px 3px 1px rgba(0, 0, 0, 0.15);\n",
              "      filter: drop-shadow(0px 1px 2px rgba(0, 0, 0, 0.3));\n",
              "      fill: #FFFFFF;\n",
              "    }\n",
              "  </style>\n",
              "\n",
              "      <script>\n",
              "        const buttonEl =\n",
              "          document.querySelector('#df-a4c82cb7-1963-4caa-a31f-6957232c3d50 button.colab-df-convert');\n",
              "        buttonEl.style.display =\n",
              "          google.colab.kernel.accessAllowed ? 'block' : 'none';\n",
              "\n",
              "        async function convertToInteractive(key) {\n",
              "          const element = document.querySelector('#df-a4c82cb7-1963-4caa-a31f-6957232c3d50');\n",
              "          const dataTable =\n",
              "            await google.colab.kernel.invokeFunction('convertToInteractive',\n",
              "                                                     [key], {});\n",
              "          if (!dataTable) return;\n",
              "\n",
              "          const docLinkHtml = 'Like what you see? Visit the ' +\n",
              "            '<a target=\"_blank\" href=https://colab.research.google.com/notebooks/data_table.ipynb>data table notebook</a>'\n",
              "            + ' to learn more about interactive tables.';\n",
              "          element.innerHTML = '';\n",
              "          dataTable['output_type'] = 'display_data';\n",
              "          await google.colab.output.renderOutput(dataTable, element);\n",
              "          const docLink = document.createElement('div');\n",
              "          docLink.innerHTML = docLinkHtml;\n",
              "          element.appendChild(docLink);\n",
              "        }\n",
              "      </script>\n",
              "    </div>\n",
              "  </div>\n",
              "  "
            ]
          },
          "metadata": {},
          "execution_count": 15
        }
      ]
    },
    {
      "cell_type": "markdown",
      "source": [
        "#**Metode KNN**"
      ],
      "metadata": {
        "id": "MDibZeBOo9Cv"
      }
    },
    {
      "cell_type": "markdown",
      "source": [
        "###Import Modul KNeighborsClassifier"
      ],
      "metadata": {
        "id": "T-fZVbm2pB4F"
      }
    },
    {
      "cell_type": "markdown",
      "source": [
        "KNeighborsClassifier adalah algoritma pembelajaran mesin yang digunakan untuk klasifikasi berdasarkan k-nearest neighbors (k tetangga terdekat)."
      ],
      "metadata": {
        "id": "Z9DYoh7mpGEu"
      }
    },
    {
      "cell_type": "code",
      "source": [
        "from sklearn.neighbors import KNeighborsClassifier\n",
        "classifier = KNeighborsClassifier(n_neighbors=5)\n",
        "classifier.fit(X_train, y_train)"
      ],
      "metadata": {
        "colab": {
          "base_uri": "https://localhost:8080/",
          "height": 75
        },
        "id": "pfWf6N7kpHg7",
        "outputId": "0f48bb29-b6bc-433d-de8a-701f233446fc"
      },
      "execution_count": 16,
      "outputs": [
        {
          "output_type": "execute_result",
          "data": {
            "text/plain": [
              "KNeighborsClassifier()"
            ],
            "text/html": [
              "<style>#sk-container-id-2 {color: black;background-color: white;}#sk-container-id-2 pre{padding: 0;}#sk-container-id-2 div.sk-toggleable {background-color: white;}#sk-container-id-2 label.sk-toggleable__label {cursor: pointer;display: block;width: 100%;margin-bottom: 0;padding: 0.3em;box-sizing: border-box;text-align: center;}#sk-container-id-2 label.sk-toggleable__label-arrow:before {content: \"▸\";float: left;margin-right: 0.25em;color: #696969;}#sk-container-id-2 label.sk-toggleable__label-arrow:hover:before {color: black;}#sk-container-id-2 div.sk-estimator:hover label.sk-toggleable__label-arrow:before {color: black;}#sk-container-id-2 div.sk-toggleable__content {max-height: 0;max-width: 0;overflow: hidden;text-align: left;background-color: #f0f8ff;}#sk-container-id-2 div.sk-toggleable__content pre {margin: 0.2em;color: black;border-radius: 0.25em;background-color: #f0f8ff;}#sk-container-id-2 input.sk-toggleable__control:checked~div.sk-toggleable__content {max-height: 200px;max-width: 100%;overflow: auto;}#sk-container-id-2 input.sk-toggleable__control:checked~label.sk-toggleable__label-arrow:before {content: \"▾\";}#sk-container-id-2 div.sk-estimator input.sk-toggleable__control:checked~label.sk-toggleable__label {background-color: #d4ebff;}#sk-container-id-2 div.sk-label input.sk-toggleable__control:checked~label.sk-toggleable__label {background-color: #d4ebff;}#sk-container-id-2 input.sk-hidden--visually {border: 0;clip: rect(1px 1px 1px 1px);clip: rect(1px, 1px, 1px, 1px);height: 1px;margin: -1px;overflow: hidden;padding: 0;position: absolute;width: 1px;}#sk-container-id-2 div.sk-estimator {font-family: monospace;background-color: #f0f8ff;border: 1px dotted black;border-radius: 0.25em;box-sizing: border-box;margin-bottom: 0.5em;}#sk-container-id-2 div.sk-estimator:hover {background-color: #d4ebff;}#sk-container-id-2 div.sk-parallel-item::after {content: \"\";width: 100%;border-bottom: 1px solid gray;flex-grow: 1;}#sk-container-id-2 div.sk-label:hover label.sk-toggleable__label {background-color: #d4ebff;}#sk-container-id-2 div.sk-serial::before {content: \"\";position: absolute;border-left: 1px solid gray;box-sizing: border-box;top: 0;bottom: 0;left: 50%;z-index: 0;}#sk-container-id-2 div.sk-serial {display: flex;flex-direction: column;align-items: center;background-color: white;padding-right: 0.2em;padding-left: 0.2em;position: relative;}#sk-container-id-2 div.sk-item {position: relative;z-index: 1;}#sk-container-id-2 div.sk-parallel {display: flex;align-items: stretch;justify-content: center;background-color: white;position: relative;}#sk-container-id-2 div.sk-item::before, #sk-container-id-2 div.sk-parallel-item::before {content: \"\";position: absolute;border-left: 1px solid gray;box-sizing: border-box;top: 0;bottom: 0;left: 50%;z-index: -1;}#sk-container-id-2 div.sk-parallel-item {display: flex;flex-direction: column;z-index: 1;position: relative;background-color: white;}#sk-container-id-2 div.sk-parallel-item:first-child::after {align-self: flex-end;width: 50%;}#sk-container-id-2 div.sk-parallel-item:last-child::after {align-self: flex-start;width: 50%;}#sk-container-id-2 div.sk-parallel-item:only-child::after {width: 0;}#sk-container-id-2 div.sk-dashed-wrapped {border: 1px dashed gray;margin: 0 0.4em 0.5em 0.4em;box-sizing: border-box;padding-bottom: 0.4em;background-color: white;}#sk-container-id-2 div.sk-label label {font-family: monospace;font-weight: bold;display: inline-block;line-height: 1.2em;}#sk-container-id-2 div.sk-label-container {text-align: center;}#sk-container-id-2 div.sk-container {/* jupyter's `normalize.less` sets `[hidden] { display: none; }` but bootstrap.min.css set `[hidden] { display: none !important; }` so we also need the `!important` here to be able to override the default hidden behavior on the sphinx rendered scikit-learn.org. See: https://github.com/scikit-learn/scikit-learn/issues/21755 */display: inline-block !important;position: relative;}#sk-container-id-2 div.sk-text-repr-fallback {display: none;}</style><div id=\"sk-container-id-2\" class=\"sk-top-container\"><div class=\"sk-text-repr-fallback\"><pre>KNeighborsClassifier()</pre><b>In a Jupyter environment, please rerun this cell to show the HTML representation or trust the notebook. <br />On GitHub, the HTML representation is unable to render, please try loading this page with nbviewer.org.</b></div><div class=\"sk-container\" hidden><div class=\"sk-item\"><div class=\"sk-estimator sk-toggleable\"><input class=\"sk-toggleable__control sk-hidden--visually\" id=\"sk-estimator-id-2\" type=\"checkbox\" checked><label for=\"sk-estimator-id-2\" class=\"sk-toggleable__label sk-toggleable__label-arrow\">KNeighborsClassifier</label><div class=\"sk-toggleable__content\"><pre>KNeighborsClassifier()</pre></div></div></div></div></div>"
            ]
          },
          "metadata": {},
          "execution_count": 16
        }
      ]
    },
    {
      "cell_type": "markdown",
      "source": [
        "1. Membuat objek KNeighborsClassifier dengan n_neighbors yang ditetapkan sebagai 5, yang berarti model akan menggunakan 5 tetangga terdekat untuk melakukan klasifikasi.\n",
        "2. Melatih model KNN menggunakan data latih X_train dan label latih y_train. Model akan belajar untuk menentukan klasifikasi berdasarkan tetangga terdekat."
      ],
      "metadata": {
        "id": "rYx_DETgpJIJ"
      }
    },
    {
      "cell_type": "markdown",
      "source": [
        "###Melakukan Prediksi"
      ],
      "metadata": {
        "id": "YUvTG23ZpPLf"
      }
    },
    {
      "cell_type": "code",
      "source": [
        "y_pred = classifier.predict(X_test) \n",
        "y_pred"
      ],
      "metadata": {
        "colab": {
          "base_uri": "https://localhost:8080/"
        },
        "id": "0n61iUu7pRJF",
        "outputId": "7110a0a8-dd2d-446f-f0e7-64428ca823f7"
      },
      "execution_count": 17,
      "outputs": [
        {
          "output_type": "execute_result",
          "data": {
            "text/plain": [
              "array(['versicolor', 'setosa', 'virginica', 'versicolor', 'versicolor',\n",
              "       'setosa', 'versicolor', 'virginica', 'versicolor', 'versicolor',\n",
              "       'virginica', 'setosa', 'setosa', 'setosa', 'setosa', 'versicolor',\n",
              "       'virginica', 'versicolor', 'versicolor', 'virginica', 'setosa',\n",
              "       'virginica', 'setosa', 'virginica', 'virginica', 'virginica',\n",
              "       'virginica', 'virginica', 'setosa', 'setosa'], dtype=object)"
            ]
          },
          "metadata": {},
          "execution_count": 17
        }
      ]
    },
    {
      "cell_type": "markdown",
      "source": [
        "Model KNN yang sudah dilatih sebelumnya akan dilakukan prediksi dengan data uji yang kemudian hasilnya disimpan dalam variabel y_pred."
      ],
      "metadata": {
        "id": "YZBQLkmApUGT"
      }
    },
    {
      "cell_type": "markdown",
      "source": [
        "###Menghitung Akurasi dan menampilkan Confusion Matrix"
      ],
      "metadata": {
        "id": "3lZk_aNUpWkD"
      }
    },
    {
      "cell_type": "code",
      "source": [
        "from sklearn.metrics import confusion_matrix\n",
        "cm = confusion_matrix(y_test, y_pred)\n",
        "from sklearn.metrics import accuracy_score \n",
        "print (\"Accuracy : \", accuracy_score(y_test, y_pred))\n",
        "cm"
      ],
      "metadata": {
        "colab": {
          "base_uri": "https://localhost:8080/"
        },
        "id": "wFG2WLEVpZW0",
        "outputId": "3d72710b-4fed-4edb-a363-7cc42887896d"
      },
      "execution_count": 18,
      "outputs": [
        {
          "output_type": "stream",
          "name": "stdout",
          "text": [
            "Accuracy :  1.0\n"
          ]
        },
        {
          "output_type": "execute_result",
          "data": {
            "text/plain": [
              "array([[10,  0,  0],\n",
              "       [ 0,  9,  0],\n",
              "       [ 0,  0, 11]])"
            ]
          },
          "metadata": {},
          "execution_count": 18
        }
      ]
    },
    {
      "cell_type": "markdown",
      "source": [
        "1. Menggunakan fungsi confusion_matrix untuk menghitung matriks kebingungan antara label sebenarnya y_test dan label yang diprediksi y_pred. Hasilnya disimpan dalam variabel cm.\n",
        "2. Menghitung nilai akurasi model pada data uji menggunakan accuracy_score. Accuracy score adalah metrik yang digunakan untuk mengukur akurasi model klasifikasi."
      ],
      "metadata": {
        "id": "D4THJ6wVpcMJ"
      }
    },
    {
      "cell_type": "markdown",
      "source": [
        "###Membuat Dataframe yang berisi menampilkan label sebenarnya dan label yang diprediksi untuk setiap data pada data uji."
      ],
      "metadata": {
        "id": "0NQuMlJwphJ1"
      }
    },
    {
      "cell_type": "code",
      "source": [
        "df = pd.DataFrame({'Real Values':y_test, 'Predicted Values':y_pred})\n",
        "df"
      ],
      "metadata": {
        "colab": {
          "base_uri": "https://localhost:8080/",
          "height": 990
        },
        "id": "5pHuLsnIplI4",
        "outputId": "b349eac8-20ee-4673-f7c3-3a8ce8e0ce3f"
      },
      "execution_count": 19,
      "outputs": [
        {
          "output_type": "execute_result",
          "data": {
            "text/plain": [
              "   Real Values Predicted Values\n",
              "0   versicolor       versicolor\n",
              "1       setosa           setosa\n",
              "2    virginica        virginica\n",
              "3   versicolor       versicolor\n",
              "4   versicolor       versicolor\n",
              "5       setosa           setosa\n",
              "6   versicolor       versicolor\n",
              "7    virginica        virginica\n",
              "8   versicolor       versicolor\n",
              "9   versicolor       versicolor\n",
              "10   virginica        virginica\n",
              "11      setosa           setosa\n",
              "12      setosa           setosa\n",
              "13      setosa           setosa\n",
              "14      setosa           setosa\n",
              "15  versicolor       versicolor\n",
              "16   virginica        virginica\n",
              "17  versicolor       versicolor\n",
              "18  versicolor       versicolor\n",
              "19   virginica        virginica\n",
              "20      setosa           setosa\n",
              "21   virginica        virginica\n",
              "22      setosa           setosa\n",
              "23   virginica        virginica\n",
              "24   virginica        virginica\n",
              "25   virginica        virginica\n",
              "26   virginica        virginica\n",
              "27   virginica        virginica\n",
              "28      setosa           setosa\n",
              "29      setosa           setosa"
            ],
            "text/html": [
              "\n",
              "  <div id=\"df-dbf6124c-13f7-443e-a687-082181971303\">\n",
              "    <div class=\"colab-df-container\">\n",
              "      <div>\n",
              "<style scoped>\n",
              "    .dataframe tbody tr th:only-of-type {\n",
              "        vertical-align: middle;\n",
              "    }\n",
              "\n",
              "    .dataframe tbody tr th {\n",
              "        vertical-align: top;\n",
              "    }\n",
              "\n",
              "    .dataframe thead th {\n",
              "        text-align: right;\n",
              "    }\n",
              "</style>\n",
              "<table border=\"1\" class=\"dataframe\">\n",
              "  <thead>\n",
              "    <tr style=\"text-align: right;\">\n",
              "      <th></th>\n",
              "      <th>Real Values</th>\n",
              "      <th>Predicted Values</th>\n",
              "    </tr>\n",
              "  </thead>\n",
              "  <tbody>\n",
              "    <tr>\n",
              "      <th>0</th>\n",
              "      <td>versicolor</td>\n",
              "      <td>versicolor</td>\n",
              "    </tr>\n",
              "    <tr>\n",
              "      <th>1</th>\n",
              "      <td>setosa</td>\n",
              "      <td>setosa</td>\n",
              "    </tr>\n",
              "    <tr>\n",
              "      <th>2</th>\n",
              "      <td>virginica</td>\n",
              "      <td>virginica</td>\n",
              "    </tr>\n",
              "    <tr>\n",
              "      <th>3</th>\n",
              "      <td>versicolor</td>\n",
              "      <td>versicolor</td>\n",
              "    </tr>\n",
              "    <tr>\n",
              "      <th>4</th>\n",
              "      <td>versicolor</td>\n",
              "      <td>versicolor</td>\n",
              "    </tr>\n",
              "    <tr>\n",
              "      <th>5</th>\n",
              "      <td>setosa</td>\n",
              "      <td>setosa</td>\n",
              "    </tr>\n",
              "    <tr>\n",
              "      <th>6</th>\n",
              "      <td>versicolor</td>\n",
              "      <td>versicolor</td>\n",
              "    </tr>\n",
              "    <tr>\n",
              "      <th>7</th>\n",
              "      <td>virginica</td>\n",
              "      <td>virginica</td>\n",
              "    </tr>\n",
              "    <tr>\n",
              "      <th>8</th>\n",
              "      <td>versicolor</td>\n",
              "      <td>versicolor</td>\n",
              "    </tr>\n",
              "    <tr>\n",
              "      <th>9</th>\n",
              "      <td>versicolor</td>\n",
              "      <td>versicolor</td>\n",
              "    </tr>\n",
              "    <tr>\n",
              "      <th>10</th>\n",
              "      <td>virginica</td>\n",
              "      <td>virginica</td>\n",
              "    </tr>\n",
              "    <tr>\n",
              "      <th>11</th>\n",
              "      <td>setosa</td>\n",
              "      <td>setosa</td>\n",
              "    </tr>\n",
              "    <tr>\n",
              "      <th>12</th>\n",
              "      <td>setosa</td>\n",
              "      <td>setosa</td>\n",
              "    </tr>\n",
              "    <tr>\n",
              "      <th>13</th>\n",
              "      <td>setosa</td>\n",
              "      <td>setosa</td>\n",
              "    </tr>\n",
              "    <tr>\n",
              "      <th>14</th>\n",
              "      <td>setosa</td>\n",
              "      <td>setosa</td>\n",
              "    </tr>\n",
              "    <tr>\n",
              "      <th>15</th>\n",
              "      <td>versicolor</td>\n",
              "      <td>versicolor</td>\n",
              "    </tr>\n",
              "    <tr>\n",
              "      <th>16</th>\n",
              "      <td>virginica</td>\n",
              "      <td>virginica</td>\n",
              "    </tr>\n",
              "    <tr>\n",
              "      <th>17</th>\n",
              "      <td>versicolor</td>\n",
              "      <td>versicolor</td>\n",
              "    </tr>\n",
              "    <tr>\n",
              "      <th>18</th>\n",
              "      <td>versicolor</td>\n",
              "      <td>versicolor</td>\n",
              "    </tr>\n",
              "    <tr>\n",
              "      <th>19</th>\n",
              "      <td>virginica</td>\n",
              "      <td>virginica</td>\n",
              "    </tr>\n",
              "    <tr>\n",
              "      <th>20</th>\n",
              "      <td>setosa</td>\n",
              "      <td>setosa</td>\n",
              "    </tr>\n",
              "    <tr>\n",
              "      <th>21</th>\n",
              "      <td>virginica</td>\n",
              "      <td>virginica</td>\n",
              "    </tr>\n",
              "    <tr>\n",
              "      <th>22</th>\n",
              "      <td>setosa</td>\n",
              "      <td>setosa</td>\n",
              "    </tr>\n",
              "    <tr>\n",
              "      <th>23</th>\n",
              "      <td>virginica</td>\n",
              "      <td>virginica</td>\n",
              "    </tr>\n",
              "    <tr>\n",
              "      <th>24</th>\n",
              "      <td>virginica</td>\n",
              "      <td>virginica</td>\n",
              "    </tr>\n",
              "    <tr>\n",
              "      <th>25</th>\n",
              "      <td>virginica</td>\n",
              "      <td>virginica</td>\n",
              "    </tr>\n",
              "    <tr>\n",
              "      <th>26</th>\n",
              "      <td>virginica</td>\n",
              "      <td>virginica</td>\n",
              "    </tr>\n",
              "    <tr>\n",
              "      <th>27</th>\n",
              "      <td>virginica</td>\n",
              "      <td>virginica</td>\n",
              "    </tr>\n",
              "    <tr>\n",
              "      <th>28</th>\n",
              "      <td>setosa</td>\n",
              "      <td>setosa</td>\n",
              "    </tr>\n",
              "    <tr>\n",
              "      <th>29</th>\n",
              "      <td>setosa</td>\n",
              "      <td>setosa</td>\n",
              "    </tr>\n",
              "  </tbody>\n",
              "</table>\n",
              "</div>\n",
              "      <button class=\"colab-df-convert\" onclick=\"convertToInteractive('df-dbf6124c-13f7-443e-a687-082181971303')\"\n",
              "              title=\"Convert this dataframe to an interactive table.\"\n",
              "              style=\"display:none;\">\n",
              "        \n",
              "  <svg xmlns=\"http://www.w3.org/2000/svg\" height=\"24px\"viewBox=\"0 0 24 24\"\n",
              "       width=\"24px\">\n",
              "    <path d=\"M0 0h24v24H0V0z\" fill=\"none\"/>\n",
              "    <path d=\"M18.56 5.44l.94 2.06.94-2.06 2.06-.94-2.06-.94-.94-2.06-.94 2.06-2.06.94zm-11 1L8.5 8.5l.94-2.06 2.06-.94-2.06-.94L8.5 2.5l-.94 2.06-2.06.94zm10 10l.94 2.06.94-2.06 2.06-.94-2.06-.94-.94-2.06-.94 2.06-2.06.94z\"/><path d=\"M17.41 7.96l-1.37-1.37c-.4-.4-.92-.59-1.43-.59-.52 0-1.04.2-1.43.59L10.3 9.45l-7.72 7.72c-.78.78-.78 2.05 0 2.83L4 21.41c.39.39.9.59 1.41.59.51 0 1.02-.2 1.41-.59l7.78-7.78 2.81-2.81c.8-.78.8-2.07 0-2.86zM5.41 20L4 18.59l7.72-7.72 1.47 1.35L5.41 20z\"/>\n",
              "  </svg>\n",
              "      </button>\n",
              "      \n",
              "  <style>\n",
              "    .colab-df-container {\n",
              "      display:flex;\n",
              "      flex-wrap:wrap;\n",
              "      gap: 12px;\n",
              "    }\n",
              "\n",
              "    .colab-df-convert {\n",
              "      background-color: #E8F0FE;\n",
              "      border: none;\n",
              "      border-radius: 50%;\n",
              "      cursor: pointer;\n",
              "      display: none;\n",
              "      fill: #1967D2;\n",
              "      height: 32px;\n",
              "      padding: 0 0 0 0;\n",
              "      width: 32px;\n",
              "    }\n",
              "\n",
              "    .colab-df-convert:hover {\n",
              "      background-color: #E2EBFA;\n",
              "      box-shadow: 0px 1px 2px rgba(60, 64, 67, 0.3), 0px 1px 3px 1px rgba(60, 64, 67, 0.15);\n",
              "      fill: #174EA6;\n",
              "    }\n",
              "\n",
              "    [theme=dark] .colab-df-convert {\n",
              "      background-color: #3B4455;\n",
              "      fill: #D2E3FC;\n",
              "    }\n",
              "\n",
              "    [theme=dark] .colab-df-convert:hover {\n",
              "      background-color: #434B5C;\n",
              "      box-shadow: 0px 1px 3px 1px rgba(0, 0, 0, 0.15);\n",
              "      filter: drop-shadow(0px 1px 2px rgba(0, 0, 0, 0.3));\n",
              "      fill: #FFFFFF;\n",
              "    }\n",
              "  </style>\n",
              "\n",
              "      <script>\n",
              "        const buttonEl =\n",
              "          document.querySelector('#df-dbf6124c-13f7-443e-a687-082181971303 button.colab-df-convert');\n",
              "        buttonEl.style.display =\n",
              "          google.colab.kernel.accessAllowed ? 'block' : 'none';\n",
              "\n",
              "        async function convertToInteractive(key) {\n",
              "          const element = document.querySelector('#df-dbf6124c-13f7-443e-a687-082181971303');\n",
              "          const dataTable =\n",
              "            await google.colab.kernel.invokeFunction('convertToInteractive',\n",
              "                                                     [key], {});\n",
              "          if (!dataTable) return;\n",
              "\n",
              "          const docLinkHtml = 'Like what you see? Visit the ' +\n",
              "            '<a target=\"_blank\" href=https://colab.research.google.com/notebooks/data_table.ipynb>data table notebook</a>'\n",
              "            + ' to learn more about interactive tables.';\n",
              "          element.innerHTML = '';\n",
              "          dataTable['output_type'] = 'display_data';\n",
              "          await google.colab.output.renderOutput(dataTable, element);\n",
              "          const docLink = document.createElement('div');\n",
              "          docLink.innerHTML = docLinkHtml;\n",
              "          element.appendChild(docLink);\n",
              "        }\n",
              "      </script>\n",
              "    </div>\n",
              "  </div>\n",
              "  "
            ]
          },
          "metadata": {},
          "execution_count": 19
        }
      ]
    },
    {
      "cell_type": "markdown",
      "source": [
        "#**Metode ANN**"
      ],
      "metadata": {
        "id": "CBR7tR8AptPs"
      }
    },
    {
      "cell_type": "markdown",
      "source": [
        "###Import Modul MLPClassifier"
      ],
      "metadata": {
        "id": "ZjGO3mlopxSR"
      }
    },
    {
      "cell_type": "markdown",
      "source": [
        "MLPClassifier adalah sebuah model Artificial Neural Network (ANN) dengan multi-layer perceptron yang digunakan untuk klasifikasi."
      ],
      "metadata": {
        "id": "Oraj4KU_p0lm"
      }
    },
    {
      "cell_type": "code",
      "source": [
        "from sklearn.neural_network import MLPClassifier\n",
        "from sklearn.metrics import accuracy_score\n",
        "from sklearn.metrics import confusion_matrix"
      ],
      "metadata": {
        "id": "tuslGmzrp2XA"
      },
      "execution_count": 20,
      "outputs": []
    },
    {
      "cell_type": "markdown",
      "source": [
        "###Konfigurasi Pada Modul MLPClassifier"
      ],
      "metadata": {
        "id": "EQ7MShEIp5Ch"
      }
    },
    {
      "cell_type": "code",
      "source": [
        "clf = MLPClassifier(hidden_layer_sizes=(100,100,100), max_iter=1000, alpha=0.0001,\n",
        "                     solver='sgd', verbose=10,  random_state=21,tol=0.001)"
      ],
      "metadata": {
        "id": "fluuKIZ2p8PJ"
      },
      "execution_count": 21,
      "outputs": []
    },
    {
      "cell_type": "markdown",
      "source": [
        "Membuat objek MLPClassifier dengan konfigurasi tertentu.\n",
        "\n",
        "1. hidden_layer_sizes=(100,100,100) menunjukkan bahwa terdapat tiga layer tersembunyi dengan masing-masing 100 node.\n",
        "2. max_iter=1000 menentukan jumlah iterasi maksimum selama pelatihan.\n",
        "3. alpha=0.0001 adalah parameter regulasi.\n",
        "4. solver='sgd' menggunakan stochastic gradient descent sebagai solver.\n",
        "5. verbose=10 akan mencetak pesan verbose setiap 10 iterasi.\n",
        "6. random_state=21 menentukan seed untuk inisialisasi bobot secara acak.\n",
        "7. tol=0.001 adalah toleransi penghentian pelatihan."
      ],
      "metadata": {
        "id": "Q49gzTRZqU3S"
      }
    },
    {
      "cell_type": "markdown",
      "source": [
        "###Melatih Model MLPClassifier"
      ],
      "metadata": {
        "id": "7MAxRF_UqqQ4"
      }
    },
    {
      "cell_type": "markdown",
      "source": [
        "Melatih model MLPClassifier menggunakan data latih X_train dan label latih y_train. Model akan belajar untuk melakukan klasifikasi menggunakan metode backpropagation. Kemudian melakukan prediksi pada data uji dan hasilnya disimpan dalam variabel y_pred."
      ],
      "metadata": {
        "id": "B0yf-BJ4qtc3"
      }
    },
    {
      "cell_type": "code",
      "source": [
        "clf.fit(X_train, y_train)\n",
        "y_pred=clf.predict(X_test)"
      ],
      "metadata": {
        "colab": {
          "base_uri": "https://localhost:8080/"
        },
        "id": "iOdI4xO_qvyp",
        "outputId": "189f153a-13f3-4395-cb59-882e6b2e8d79"
      },
      "execution_count": 22,
      "outputs": [
        {
          "output_type": "stream",
          "name": "stdout",
          "text": [
            "Iteration 1, loss = 1.09637364\n",
            "Iteration 2, loss = 1.09483420\n",
            "Iteration 3, loss = 1.09264147\n",
            "Iteration 4, loss = 1.08986435\n",
            "Iteration 5, loss = 1.08657311\n",
            "Iteration 6, loss = 1.08282960\n",
            "Iteration 7, loss = 1.07867396\n",
            "Iteration 8, loss = 1.07415795\n",
            "Iteration 9, loss = 1.06932968\n",
            "Iteration 10, loss = 1.06422926\n",
            "Iteration 11, loss = 1.05888916\n",
            "Iteration 12, loss = 1.05334934\n",
            "Iteration 13, loss = 1.04763614\n",
            "Iteration 14, loss = 1.04178257\n",
            "Iteration 15, loss = 1.03579066\n",
            "Iteration 16, loss = 1.02968925\n",
            "Iteration 17, loss = 1.02352094\n",
            "Iteration 18, loss = 1.01729766\n",
            "Iteration 19, loss = 1.01103150\n",
            "Iteration 20, loss = 1.00473555\n",
            "Iteration 21, loss = 0.99841789\n",
            "Iteration 22, loss = 0.99212797\n",
            "Iteration 23, loss = 0.98584814\n",
            "Iteration 24, loss = 0.97956369\n",
            "Iteration 25, loss = 0.97329485\n",
            "Iteration 26, loss = 0.96704290\n",
            "Iteration 27, loss = 0.96082297\n",
            "Iteration 28, loss = 0.95463224\n",
            "Iteration 29, loss = 0.94845281\n",
            "Iteration 30, loss = 0.94230692\n",
            "Iteration 31, loss = 0.93620096\n",
            "Iteration 32, loss = 0.93012712\n",
            "Iteration 33, loss = 0.92409809\n",
            "Iteration 34, loss = 0.91812001\n",
            "Iteration 35, loss = 0.91219734\n",
            "Iteration 36, loss = 0.90632279\n",
            "Iteration 37, loss = 0.90050477\n",
            "Iteration 38, loss = 0.89470961\n",
            "Iteration 39, loss = 0.88896611\n",
            "Iteration 40, loss = 0.88327725\n",
            "Iteration 41, loss = 0.87764628\n",
            "Iteration 42, loss = 0.87207821\n",
            "Iteration 43, loss = 0.86657291\n",
            "Iteration 44, loss = 0.86111161\n",
            "Iteration 45, loss = 0.85569832\n",
            "Iteration 46, loss = 0.85032845\n",
            "Iteration 47, loss = 0.84499867\n",
            "Iteration 48, loss = 0.83972446\n",
            "Iteration 49, loss = 0.83451446\n",
            "Iteration 50, loss = 0.82936103\n",
            "Iteration 51, loss = 0.82426032\n",
            "Iteration 52, loss = 0.81921054\n",
            "Iteration 53, loss = 0.81420936\n",
            "Iteration 54, loss = 0.80925785\n",
            "Iteration 55, loss = 0.80435867\n",
            "Iteration 56, loss = 0.79949839\n",
            "Iteration 57, loss = 0.79467682\n",
            "Iteration 58, loss = 0.78990365\n",
            "Iteration 59, loss = 0.78517769\n",
            "Iteration 60, loss = 0.78049979\n",
            "Iteration 61, loss = 0.77587668\n",
            "Iteration 62, loss = 0.77131006\n",
            "Iteration 63, loss = 0.76678832\n",
            "Iteration 64, loss = 0.76231031\n",
            "Iteration 65, loss = 0.75788214\n",
            "Iteration 66, loss = 0.75349803\n",
            "Iteration 67, loss = 0.74915672\n",
            "Iteration 68, loss = 0.74486516\n",
            "Iteration 69, loss = 0.74062497\n",
            "Iteration 70, loss = 0.73643149\n",
            "Iteration 71, loss = 0.73228821\n",
            "Iteration 72, loss = 0.72819244\n",
            "Iteration 73, loss = 0.72413554\n",
            "Iteration 74, loss = 0.72011705\n",
            "Iteration 75, loss = 0.71613553\n",
            "Iteration 76, loss = 0.71219737\n",
            "Iteration 77, loss = 0.70829815\n",
            "Iteration 78, loss = 0.70443699\n",
            "Iteration 79, loss = 0.70061489\n",
            "Iteration 80, loss = 0.69683340\n",
            "Iteration 81, loss = 0.69309278\n",
            "Iteration 82, loss = 0.68938750\n",
            "Iteration 83, loss = 0.68571711\n",
            "Iteration 84, loss = 0.68208473\n",
            "Iteration 85, loss = 0.67848664\n",
            "Iteration 86, loss = 0.67492064\n",
            "Iteration 87, loss = 0.67139341\n",
            "Iteration 88, loss = 0.66790480\n",
            "Iteration 89, loss = 0.66445504\n",
            "Iteration 90, loss = 0.66104055\n",
            "Iteration 91, loss = 0.65766188\n",
            "Iteration 92, loss = 0.65431726\n",
            "Iteration 93, loss = 0.65100877\n",
            "Iteration 94, loss = 0.64773304\n",
            "Iteration 95, loss = 0.64449171\n",
            "Iteration 96, loss = 0.64128270\n",
            "Iteration 97, loss = 0.63810832\n",
            "Iteration 98, loss = 0.63496584\n",
            "Iteration 99, loss = 0.63185457\n",
            "Iteration 100, loss = 0.62877356\n",
            "Iteration 101, loss = 0.62572440\n",
            "Iteration 102, loss = 0.62270202\n",
            "Iteration 103, loss = 0.61970583\n",
            "Iteration 104, loss = 0.61673529\n",
            "Iteration 105, loss = 0.61379555\n",
            "Iteration 106, loss = 0.61088911\n",
            "Iteration 107, loss = 0.60800851\n",
            "Iteration 108, loss = 0.60515616\n",
            "Iteration 109, loss = 0.60233272\n",
            "Iteration 110, loss = 0.59953455\n",
            "Iteration 111, loss = 0.59676270\n",
            "Iteration 112, loss = 0.59401480\n",
            "Iteration 113, loss = 0.59129037\n",
            "Iteration 114, loss = 0.58859034\n",
            "Iteration 115, loss = 0.58591202\n",
            "Iteration 116, loss = 0.58325729\n",
            "Iteration 117, loss = 0.58062732\n",
            "Iteration 118, loss = 0.57802024\n",
            "Iteration 119, loss = 0.57543517\n",
            "Iteration 120, loss = 0.57287100\n",
            "Iteration 121, loss = 0.57032691\n",
            "Iteration 122, loss = 0.56780417\n",
            "Iteration 123, loss = 0.56530424\n",
            "Iteration 124, loss = 0.56282513\n",
            "Iteration 125, loss = 0.56036657\n",
            "Iteration 126, loss = 0.55792761\n",
            "Iteration 127, loss = 0.55551042\n",
            "Iteration 128, loss = 0.55311628\n",
            "Iteration 129, loss = 0.55074125\n",
            "Iteration 130, loss = 0.54838783\n",
            "Iteration 131, loss = 0.54605298\n",
            "Iteration 132, loss = 0.54373345\n",
            "Iteration 133, loss = 0.54143021\n",
            "Iteration 134, loss = 0.53914548\n",
            "Iteration 135, loss = 0.53688097\n",
            "Iteration 136, loss = 0.53463672\n",
            "Iteration 137, loss = 0.53241131\n",
            "Iteration 138, loss = 0.53020213\n",
            "Iteration 139, loss = 0.52801032\n",
            "Iteration 140, loss = 0.52583449\n",
            "Iteration 141, loss = 0.52367481\n",
            "Iteration 142, loss = 0.52153065\n",
            "Iteration 143, loss = 0.51940258\n",
            "Iteration 144, loss = 0.51728763\n",
            "Iteration 145, loss = 0.51518735\n",
            "Iteration 146, loss = 0.51310207\n",
            "Iteration 147, loss = 0.51103021\n",
            "Iteration 148, loss = 0.50897390\n",
            "Iteration 149, loss = 0.50693222\n",
            "Iteration 150, loss = 0.50490469\n",
            "Iteration 151, loss = 0.50288931\n",
            "Iteration 152, loss = 0.50088826\n",
            "Iteration 153, loss = 0.49890240\n",
            "Iteration 154, loss = 0.49693284\n",
            "Iteration 155, loss = 0.49497645\n",
            "Iteration 156, loss = 0.49303395\n",
            "Iteration 157, loss = 0.49110611\n",
            "Iteration 158, loss = 0.48919157\n",
            "Iteration 159, loss = 0.48729020\n",
            "Iteration 160, loss = 0.48540207\n",
            "Iteration 161, loss = 0.48352649\n",
            "Iteration 162, loss = 0.48166407\n",
            "Iteration 163, loss = 0.47981429\n",
            "Iteration 164, loss = 0.47797646\n",
            "Iteration 165, loss = 0.47615100\n",
            "Iteration 166, loss = 0.47433616\n",
            "Iteration 167, loss = 0.47253343\n",
            "Iteration 168, loss = 0.47074240\n",
            "Iteration 169, loss = 0.46896399\n",
            "Iteration 170, loss = 0.46719732\n",
            "Iteration 171, loss = 0.46544395\n",
            "Iteration 172, loss = 0.46370262\n",
            "Iteration 173, loss = 0.46197274\n",
            "Iteration 174, loss = 0.46025397\n",
            "Iteration 175, loss = 0.45854667\n",
            "Iteration 176, loss = 0.45684885\n",
            "Iteration 177, loss = 0.45516216\n",
            "Iteration 178, loss = 0.45348577\n",
            "Iteration 179, loss = 0.45182050\n",
            "Iteration 180, loss = 0.45016393\n",
            "Iteration 181, loss = 0.44851572\n",
            "Iteration 182, loss = 0.44687807\n",
            "Iteration 183, loss = 0.44525075\n",
            "Iteration 184, loss = 0.44363149\n",
            "Iteration 185, loss = 0.44202114\n",
            "Iteration 186, loss = 0.44041950\n",
            "Iteration 187, loss = 0.43882512\n",
            "Iteration 188, loss = 0.43724080\n",
            "Iteration 189, loss = 0.43566628\n",
            "Iteration 190, loss = 0.43410066\n",
            "Iteration 191, loss = 0.43254378\n",
            "Iteration 192, loss = 0.43099593\n",
            "Iteration 193, loss = 0.42945792\n",
            "Iteration 194, loss = 0.42792894\n",
            "Iteration 195, loss = 0.42640870\n",
            "Iteration 196, loss = 0.42489857\n",
            "Iteration 197, loss = 0.42339784\n",
            "Iteration 198, loss = 0.42190477\n",
            "Iteration 199, loss = 0.42041934\n",
            "Iteration 200, loss = 0.41894260\n",
            "Iteration 201, loss = 0.41747430\n",
            "Iteration 202, loss = 0.41601417\n",
            "Iteration 203, loss = 0.41456187\n",
            "Iteration 204, loss = 0.41311753\n",
            "Iteration 205, loss = 0.41168225\n",
            "Iteration 206, loss = 0.41025719\n",
            "Iteration 207, loss = 0.40884043\n",
            "Iteration 208, loss = 0.40743137\n",
            "Iteration 209, loss = 0.40602992\n",
            "Iteration 210, loss = 0.40463782\n",
            "Iteration 211, loss = 0.40325384\n",
            "Iteration 212, loss = 0.40187965\n",
            "Iteration 213, loss = 0.40051648\n",
            "Iteration 214, loss = 0.39916123\n",
            "Iteration 215, loss = 0.39781453\n",
            "Iteration 216, loss = 0.39647549\n",
            "Iteration 217, loss = 0.39514454\n",
            "Iteration 218, loss = 0.39381964\n",
            "Iteration 219, loss = 0.39250201\n",
            "Iteration 220, loss = 0.39119265\n",
            "Iteration 221, loss = 0.38989186\n",
            "Iteration 222, loss = 0.38859988\n",
            "Iteration 223, loss = 0.38731637\n",
            "Iteration 224, loss = 0.38603999\n",
            "Iteration 225, loss = 0.38477148\n",
            "Iteration 226, loss = 0.38351064\n",
            "Iteration 227, loss = 0.38225895\n",
            "Iteration 228, loss = 0.38101324\n",
            "Iteration 229, loss = 0.37977634\n",
            "Iteration 230, loss = 0.37854512\n",
            "Iteration 231, loss = 0.37732159\n",
            "Iteration 232, loss = 0.37610745\n",
            "Iteration 233, loss = 0.37490022\n",
            "Iteration 234, loss = 0.37369921\n",
            "Iteration 235, loss = 0.37250511\n",
            "Iteration 236, loss = 0.37131762\n",
            "Iteration 237, loss = 0.37013647\n",
            "Iteration 238, loss = 0.36896267\n",
            "Iteration 239, loss = 0.36779497\n",
            "Iteration 240, loss = 0.36663366\n",
            "Iteration 241, loss = 0.36547913\n",
            "Iteration 242, loss = 0.36433027\n",
            "Iteration 243, loss = 0.36318602\n",
            "Iteration 244, loss = 0.36204736\n",
            "Iteration 245, loss = 0.36091486\n",
            "Iteration 246, loss = 0.35978898\n",
            "Iteration 247, loss = 0.35866998\n",
            "Iteration 248, loss = 0.35755695\n",
            "Iteration 249, loss = 0.35645068\n",
            "Iteration 250, loss = 0.35534916\n",
            "Iteration 251, loss = 0.35425365\n",
            "Iteration 252, loss = 0.35316381\n",
            "Iteration 253, loss = 0.35208025\n",
            "Iteration 254, loss = 0.35100230\n",
            "Iteration 255, loss = 0.34992977\n",
            "Iteration 256, loss = 0.34886168\n",
            "Iteration 257, loss = 0.34779759\n",
            "Iteration 258, loss = 0.34673962\n",
            "Iteration 259, loss = 0.34568805\n",
            "Iteration 260, loss = 0.34464067\n",
            "Iteration 261, loss = 0.34359689\n",
            "Iteration 262, loss = 0.34255732\n",
            "Iteration 263, loss = 0.34152287\n",
            "Iteration 264, loss = 0.34049321\n",
            "Iteration 265, loss = 0.33946782\n",
            "Iteration 266, loss = 0.33844599\n",
            "Iteration 267, loss = 0.33742786\n",
            "Iteration 268, loss = 0.33641371\n",
            "Iteration 269, loss = 0.33540453\n",
            "Iteration 270, loss = 0.33440113\n",
            "Iteration 271, loss = 0.33340286\n",
            "Iteration 272, loss = 0.33240986\n",
            "Iteration 273, loss = 0.33142133\n",
            "Iteration 274, loss = 0.33043651\n",
            "Iteration 275, loss = 0.32945635\n",
            "Iteration 276, loss = 0.32848169\n",
            "Iteration 277, loss = 0.32751115\n",
            "Iteration 278, loss = 0.32654541\n",
            "Iteration 279, loss = 0.32558323\n",
            "Iteration 280, loss = 0.32462260\n",
            "Iteration 281, loss = 0.32366619\n",
            "Training loss did not improve more than tol=0.001000 for 10 consecutive epochs. Stopping.\n"
          ]
        }
      ]
    },
    {
      "cell_type": "markdown",
      "source": [
        "###Menghitung Akurasi Model"
      ],
      "metadata": {
        "id": "dP1jjUTjqzz3"
      }
    },
    {
      "cell_type": "markdown",
      "source": [
        "Menghitung akurasi model dengan membandingkan label sebenarnya y_test dengan label yang diprediksi y_pred menggunakan fungsi accuracy_score. Nilai akurasi akan dihasilkan sebagai output."
      ],
      "metadata": {
        "id": "8_UsLU2Wq5ID"
      }
    },
    {
      "cell_type": "code",
      "source": [
        "accuracy_score(y_test, y_pred)"
      ],
      "metadata": {
        "colab": {
          "base_uri": "https://localhost:8080/"
        },
        "id": "q6KIgeS7q6H5",
        "outputId": "9d8e50bb-814e-4c47-fb0d-d89216fc7692"
      },
      "execution_count": 23,
      "outputs": [
        {
          "output_type": "execute_result",
          "data": {
            "text/plain": [
              "0.9333333333333333"
            ]
          },
          "metadata": {},
          "execution_count": 23
        }
      ]
    },
    {
      "cell_type": "markdown",
      "source": [
        "###Membuat Dataframe yang berisi menampilkan label sebenarnya dan label yang diprediksi untuk setiap data pada data uji."
      ],
      "metadata": {
        "id": "AZMNGuw0q-sj"
      }
    },
    {
      "cell_type": "code",
      "source": [
        "df = pd.DataFrame({'Real Values':y_test, 'Predicted Values':y_pred})\n",
        "df"
      ],
      "metadata": {
        "colab": {
          "base_uri": "https://localhost:8080/",
          "height": 990
        },
        "id": "sH25hm-9rC2m",
        "outputId": "d37525c6-db30-4686-8599-ec4f44af546d"
      },
      "execution_count": 24,
      "outputs": [
        {
          "output_type": "execute_result",
          "data": {
            "text/plain": [
              "   Real Values Predicted Values\n",
              "0   versicolor       versicolor\n",
              "1       setosa           setosa\n",
              "2    virginica        virginica\n",
              "3   versicolor       versicolor\n",
              "4   versicolor        virginica\n",
              "5       setosa           setosa\n",
              "6   versicolor       versicolor\n",
              "7    virginica        virginica\n",
              "8   versicolor       versicolor\n",
              "9   versicolor       versicolor\n",
              "10   virginica        virginica\n",
              "11      setosa           setosa\n",
              "12      setosa           setosa\n",
              "13      setosa           setosa\n",
              "14      setosa           setosa\n",
              "15  versicolor        virginica\n",
              "16   virginica        virginica\n",
              "17  versicolor       versicolor\n",
              "18  versicolor       versicolor\n",
              "19   virginica        virginica\n",
              "20      setosa           setosa\n",
              "21   virginica        virginica\n",
              "22      setosa           setosa\n",
              "23   virginica        virginica\n",
              "24   virginica        virginica\n",
              "25   virginica        virginica\n",
              "26   virginica        virginica\n",
              "27   virginica        virginica\n",
              "28      setosa           setosa\n",
              "29      setosa           setosa"
            ],
            "text/html": [
              "\n",
              "  <div id=\"df-f97be911-0830-4106-9a0f-57eebbf7cc6c\">\n",
              "    <div class=\"colab-df-container\">\n",
              "      <div>\n",
              "<style scoped>\n",
              "    .dataframe tbody tr th:only-of-type {\n",
              "        vertical-align: middle;\n",
              "    }\n",
              "\n",
              "    .dataframe tbody tr th {\n",
              "        vertical-align: top;\n",
              "    }\n",
              "\n",
              "    .dataframe thead th {\n",
              "        text-align: right;\n",
              "    }\n",
              "</style>\n",
              "<table border=\"1\" class=\"dataframe\">\n",
              "  <thead>\n",
              "    <tr style=\"text-align: right;\">\n",
              "      <th></th>\n",
              "      <th>Real Values</th>\n",
              "      <th>Predicted Values</th>\n",
              "    </tr>\n",
              "  </thead>\n",
              "  <tbody>\n",
              "    <tr>\n",
              "      <th>0</th>\n",
              "      <td>versicolor</td>\n",
              "      <td>versicolor</td>\n",
              "    </tr>\n",
              "    <tr>\n",
              "      <th>1</th>\n",
              "      <td>setosa</td>\n",
              "      <td>setosa</td>\n",
              "    </tr>\n",
              "    <tr>\n",
              "      <th>2</th>\n",
              "      <td>virginica</td>\n",
              "      <td>virginica</td>\n",
              "    </tr>\n",
              "    <tr>\n",
              "      <th>3</th>\n",
              "      <td>versicolor</td>\n",
              "      <td>versicolor</td>\n",
              "    </tr>\n",
              "    <tr>\n",
              "      <th>4</th>\n",
              "      <td>versicolor</td>\n",
              "      <td>virginica</td>\n",
              "    </tr>\n",
              "    <tr>\n",
              "      <th>5</th>\n",
              "      <td>setosa</td>\n",
              "      <td>setosa</td>\n",
              "    </tr>\n",
              "    <tr>\n",
              "      <th>6</th>\n",
              "      <td>versicolor</td>\n",
              "      <td>versicolor</td>\n",
              "    </tr>\n",
              "    <tr>\n",
              "      <th>7</th>\n",
              "      <td>virginica</td>\n",
              "      <td>virginica</td>\n",
              "    </tr>\n",
              "    <tr>\n",
              "      <th>8</th>\n",
              "      <td>versicolor</td>\n",
              "      <td>versicolor</td>\n",
              "    </tr>\n",
              "    <tr>\n",
              "      <th>9</th>\n",
              "      <td>versicolor</td>\n",
              "      <td>versicolor</td>\n",
              "    </tr>\n",
              "    <tr>\n",
              "      <th>10</th>\n",
              "      <td>virginica</td>\n",
              "      <td>virginica</td>\n",
              "    </tr>\n",
              "    <tr>\n",
              "      <th>11</th>\n",
              "      <td>setosa</td>\n",
              "      <td>setosa</td>\n",
              "    </tr>\n",
              "    <tr>\n",
              "      <th>12</th>\n",
              "      <td>setosa</td>\n",
              "      <td>setosa</td>\n",
              "    </tr>\n",
              "    <tr>\n",
              "      <th>13</th>\n",
              "      <td>setosa</td>\n",
              "      <td>setosa</td>\n",
              "    </tr>\n",
              "    <tr>\n",
              "      <th>14</th>\n",
              "      <td>setosa</td>\n",
              "      <td>setosa</td>\n",
              "    </tr>\n",
              "    <tr>\n",
              "      <th>15</th>\n",
              "      <td>versicolor</td>\n",
              "      <td>virginica</td>\n",
              "    </tr>\n",
              "    <tr>\n",
              "      <th>16</th>\n",
              "      <td>virginica</td>\n",
              "      <td>virginica</td>\n",
              "    </tr>\n",
              "    <tr>\n",
              "      <th>17</th>\n",
              "      <td>versicolor</td>\n",
              "      <td>versicolor</td>\n",
              "    </tr>\n",
              "    <tr>\n",
              "      <th>18</th>\n",
              "      <td>versicolor</td>\n",
              "      <td>versicolor</td>\n",
              "    </tr>\n",
              "    <tr>\n",
              "      <th>19</th>\n",
              "      <td>virginica</td>\n",
              "      <td>virginica</td>\n",
              "    </tr>\n",
              "    <tr>\n",
              "      <th>20</th>\n",
              "      <td>setosa</td>\n",
              "      <td>setosa</td>\n",
              "    </tr>\n",
              "    <tr>\n",
              "      <th>21</th>\n",
              "      <td>virginica</td>\n",
              "      <td>virginica</td>\n",
              "    </tr>\n",
              "    <tr>\n",
              "      <th>22</th>\n",
              "      <td>setosa</td>\n",
              "      <td>setosa</td>\n",
              "    </tr>\n",
              "    <tr>\n",
              "      <th>23</th>\n",
              "      <td>virginica</td>\n",
              "      <td>virginica</td>\n",
              "    </tr>\n",
              "    <tr>\n",
              "      <th>24</th>\n",
              "      <td>virginica</td>\n",
              "      <td>virginica</td>\n",
              "    </tr>\n",
              "    <tr>\n",
              "      <th>25</th>\n",
              "      <td>virginica</td>\n",
              "      <td>virginica</td>\n",
              "    </tr>\n",
              "    <tr>\n",
              "      <th>26</th>\n",
              "      <td>virginica</td>\n",
              "      <td>virginica</td>\n",
              "    </tr>\n",
              "    <tr>\n",
              "      <th>27</th>\n",
              "      <td>virginica</td>\n",
              "      <td>virginica</td>\n",
              "    </tr>\n",
              "    <tr>\n",
              "      <th>28</th>\n",
              "      <td>setosa</td>\n",
              "      <td>setosa</td>\n",
              "    </tr>\n",
              "    <tr>\n",
              "      <th>29</th>\n",
              "      <td>setosa</td>\n",
              "      <td>setosa</td>\n",
              "    </tr>\n",
              "  </tbody>\n",
              "</table>\n",
              "</div>\n",
              "      <button class=\"colab-df-convert\" onclick=\"convertToInteractive('df-f97be911-0830-4106-9a0f-57eebbf7cc6c')\"\n",
              "              title=\"Convert this dataframe to an interactive table.\"\n",
              "              style=\"display:none;\">\n",
              "        \n",
              "  <svg xmlns=\"http://www.w3.org/2000/svg\" height=\"24px\"viewBox=\"0 0 24 24\"\n",
              "       width=\"24px\">\n",
              "    <path d=\"M0 0h24v24H0V0z\" fill=\"none\"/>\n",
              "    <path d=\"M18.56 5.44l.94 2.06.94-2.06 2.06-.94-2.06-.94-.94-2.06-.94 2.06-2.06.94zm-11 1L8.5 8.5l.94-2.06 2.06-.94-2.06-.94L8.5 2.5l-.94 2.06-2.06.94zm10 10l.94 2.06.94-2.06 2.06-.94-2.06-.94-.94-2.06-.94 2.06-2.06.94z\"/><path d=\"M17.41 7.96l-1.37-1.37c-.4-.4-.92-.59-1.43-.59-.52 0-1.04.2-1.43.59L10.3 9.45l-7.72 7.72c-.78.78-.78 2.05 0 2.83L4 21.41c.39.39.9.59 1.41.59.51 0 1.02-.2 1.41-.59l7.78-7.78 2.81-2.81c.8-.78.8-2.07 0-2.86zM5.41 20L4 18.59l7.72-7.72 1.47 1.35L5.41 20z\"/>\n",
              "  </svg>\n",
              "      </button>\n",
              "      \n",
              "  <style>\n",
              "    .colab-df-container {\n",
              "      display:flex;\n",
              "      flex-wrap:wrap;\n",
              "      gap: 12px;\n",
              "    }\n",
              "\n",
              "    .colab-df-convert {\n",
              "      background-color: #E8F0FE;\n",
              "      border: none;\n",
              "      border-radius: 50%;\n",
              "      cursor: pointer;\n",
              "      display: none;\n",
              "      fill: #1967D2;\n",
              "      height: 32px;\n",
              "      padding: 0 0 0 0;\n",
              "      width: 32px;\n",
              "    }\n",
              "\n",
              "    .colab-df-convert:hover {\n",
              "      background-color: #E2EBFA;\n",
              "      box-shadow: 0px 1px 2px rgba(60, 64, 67, 0.3), 0px 1px 3px 1px rgba(60, 64, 67, 0.15);\n",
              "      fill: #174EA6;\n",
              "    }\n",
              "\n",
              "    [theme=dark] .colab-df-convert {\n",
              "      background-color: #3B4455;\n",
              "      fill: #D2E3FC;\n",
              "    }\n",
              "\n",
              "    [theme=dark] .colab-df-convert:hover {\n",
              "      background-color: #434B5C;\n",
              "      box-shadow: 0px 1px 3px 1px rgba(0, 0, 0, 0.15);\n",
              "      filter: drop-shadow(0px 1px 2px rgba(0, 0, 0, 0.3));\n",
              "      fill: #FFFFFF;\n",
              "    }\n",
              "  </style>\n",
              "\n",
              "      <script>\n",
              "        const buttonEl =\n",
              "          document.querySelector('#df-f97be911-0830-4106-9a0f-57eebbf7cc6c button.colab-df-convert');\n",
              "        buttonEl.style.display =\n",
              "          google.colab.kernel.accessAllowed ? 'block' : 'none';\n",
              "\n",
              "        async function convertToInteractive(key) {\n",
              "          const element = document.querySelector('#df-f97be911-0830-4106-9a0f-57eebbf7cc6c');\n",
              "          const dataTable =\n",
              "            await google.colab.kernel.invokeFunction('convertToInteractive',\n",
              "                                                     [key], {});\n",
              "          if (!dataTable) return;\n",
              "\n",
              "          const docLinkHtml = 'Like what you see? Visit the ' +\n",
              "            '<a target=\"_blank\" href=https://colab.research.google.com/notebooks/data_table.ipynb>data table notebook</a>'\n",
              "            + ' to learn more about interactive tables.';\n",
              "          element.innerHTML = '';\n",
              "          dataTable['output_type'] = 'display_data';\n",
              "          await google.colab.output.renderOutput(dataTable, element);\n",
              "          const docLink = document.createElement('div');\n",
              "          docLink.innerHTML = docLinkHtml;\n",
              "          element.appendChild(docLink);\n",
              "        }\n",
              "      </script>\n",
              "    </div>\n",
              "  </div>\n",
              "  "
            ]
          },
          "metadata": {},
          "execution_count": 24
        }
      ]
    },
    {
      "cell_type": "markdown",
      "source": [
        "#**Metode DecisionTree**"
      ],
      "metadata": {
        "id": "2eKOY27NrHt_"
      }
    },
    {
      "cell_type": "markdown",
      "source": [
        "###Import Modul DecisionTreeClassifier"
      ],
      "metadata": {
        "id": "0Lmz_ljOrNta"
      }
    },
    {
      "cell_type": "code",
      "source": [
        "from sklearn.tree import DecisionTreeClassifier"
      ],
      "metadata": {
        "id": "UlMj-k_WrYBL"
      },
      "execution_count": 25,
      "outputs": []
    },
    {
      "cell_type": "markdown",
      "source": [
        "Decision Tree Classifier adalah algoritma pembelajaran mesin yang digunakan untuk membangun model klasifikasi berdasarkan aturan keputusan berhirarki yang dihasilkan dari fitur-fitur data."
      ],
      "metadata": {
        "id": "qeu0ZWKFraLM"
      }
    },
    {
      "cell_type": "markdown",
      "source": [
        "###Membuat objek Decision Tree Classifier menggunakan indeks Gini"
      ],
      "metadata": {
        "id": "jny9MTBwrbB1"
      }
    },
    {
      "cell_type": "code",
      "source": [
        "clf_gini = DecisionTreeClassifier(criterion='gini', max_depth=3, random_state=42)\n",
        "clf_gini.fit(X_train, y_train)"
      ],
      "metadata": {
        "colab": {
          "base_uri": "https://localhost:8080/",
          "height": 75
        },
        "id": "ZUx679sOreug",
        "outputId": "244ae4df-a406-4ae0-acac-99bb26d65390"
      },
      "execution_count": 26,
      "outputs": [
        {
          "output_type": "execute_result",
          "data": {
            "text/plain": [
              "DecisionTreeClassifier(max_depth=3, random_state=42)"
            ],
            "text/html": [
              "<style>#sk-container-id-3 {color: black;background-color: white;}#sk-container-id-3 pre{padding: 0;}#sk-container-id-3 div.sk-toggleable {background-color: white;}#sk-container-id-3 label.sk-toggleable__label {cursor: pointer;display: block;width: 100%;margin-bottom: 0;padding: 0.3em;box-sizing: border-box;text-align: center;}#sk-container-id-3 label.sk-toggleable__label-arrow:before {content: \"▸\";float: left;margin-right: 0.25em;color: #696969;}#sk-container-id-3 label.sk-toggleable__label-arrow:hover:before {color: black;}#sk-container-id-3 div.sk-estimator:hover label.sk-toggleable__label-arrow:before {color: black;}#sk-container-id-3 div.sk-toggleable__content {max-height: 0;max-width: 0;overflow: hidden;text-align: left;background-color: #f0f8ff;}#sk-container-id-3 div.sk-toggleable__content pre {margin: 0.2em;color: black;border-radius: 0.25em;background-color: #f0f8ff;}#sk-container-id-3 input.sk-toggleable__control:checked~div.sk-toggleable__content {max-height: 200px;max-width: 100%;overflow: auto;}#sk-container-id-3 input.sk-toggleable__control:checked~label.sk-toggleable__label-arrow:before {content: \"▾\";}#sk-container-id-3 div.sk-estimator input.sk-toggleable__control:checked~label.sk-toggleable__label {background-color: #d4ebff;}#sk-container-id-3 div.sk-label input.sk-toggleable__control:checked~label.sk-toggleable__label {background-color: #d4ebff;}#sk-container-id-3 input.sk-hidden--visually {border: 0;clip: rect(1px 1px 1px 1px);clip: rect(1px, 1px, 1px, 1px);height: 1px;margin: -1px;overflow: hidden;padding: 0;position: absolute;width: 1px;}#sk-container-id-3 div.sk-estimator {font-family: monospace;background-color: #f0f8ff;border: 1px dotted black;border-radius: 0.25em;box-sizing: border-box;margin-bottom: 0.5em;}#sk-container-id-3 div.sk-estimator:hover {background-color: #d4ebff;}#sk-container-id-3 div.sk-parallel-item::after {content: \"\";width: 100%;border-bottom: 1px solid gray;flex-grow: 1;}#sk-container-id-3 div.sk-label:hover label.sk-toggleable__label {background-color: #d4ebff;}#sk-container-id-3 div.sk-serial::before {content: \"\";position: absolute;border-left: 1px solid gray;box-sizing: border-box;top: 0;bottom: 0;left: 50%;z-index: 0;}#sk-container-id-3 div.sk-serial {display: flex;flex-direction: column;align-items: center;background-color: white;padding-right: 0.2em;padding-left: 0.2em;position: relative;}#sk-container-id-3 div.sk-item {position: relative;z-index: 1;}#sk-container-id-3 div.sk-parallel {display: flex;align-items: stretch;justify-content: center;background-color: white;position: relative;}#sk-container-id-3 div.sk-item::before, #sk-container-id-3 div.sk-parallel-item::before {content: \"\";position: absolute;border-left: 1px solid gray;box-sizing: border-box;top: 0;bottom: 0;left: 50%;z-index: -1;}#sk-container-id-3 div.sk-parallel-item {display: flex;flex-direction: column;z-index: 1;position: relative;background-color: white;}#sk-container-id-3 div.sk-parallel-item:first-child::after {align-self: flex-end;width: 50%;}#sk-container-id-3 div.sk-parallel-item:last-child::after {align-self: flex-start;width: 50%;}#sk-container-id-3 div.sk-parallel-item:only-child::after {width: 0;}#sk-container-id-3 div.sk-dashed-wrapped {border: 1px dashed gray;margin: 0 0.4em 0.5em 0.4em;box-sizing: border-box;padding-bottom: 0.4em;background-color: white;}#sk-container-id-3 div.sk-label label {font-family: monospace;font-weight: bold;display: inline-block;line-height: 1.2em;}#sk-container-id-3 div.sk-label-container {text-align: center;}#sk-container-id-3 div.sk-container {/* jupyter's `normalize.less` sets `[hidden] { display: none; }` but bootstrap.min.css set `[hidden] { display: none !important; }` so we also need the `!important` here to be able to override the default hidden behavior on the sphinx rendered scikit-learn.org. See: https://github.com/scikit-learn/scikit-learn/issues/21755 */display: inline-block !important;position: relative;}#sk-container-id-3 div.sk-text-repr-fallback {display: none;}</style><div id=\"sk-container-id-3\" class=\"sk-top-container\"><div class=\"sk-text-repr-fallback\"><pre>DecisionTreeClassifier(max_depth=3, random_state=42)</pre><b>In a Jupyter environment, please rerun this cell to show the HTML representation or trust the notebook. <br />On GitHub, the HTML representation is unable to render, please try loading this page with nbviewer.org.</b></div><div class=\"sk-container\" hidden><div class=\"sk-item\"><div class=\"sk-estimator sk-toggleable\"><input class=\"sk-toggleable__control sk-hidden--visually\" id=\"sk-estimator-id-3\" type=\"checkbox\" checked><label for=\"sk-estimator-id-3\" class=\"sk-toggleable__label sk-toggleable__label-arrow\">DecisionTreeClassifier</label><div class=\"sk-toggleable__content\"><pre>DecisionTreeClassifier(max_depth=3, random_state=42)</pre></div></div></div></div></div>"
            ]
          },
          "metadata": {},
          "execution_count": 26
        }
      ]
    },
    {
      "cell_type": "markdown",
      "source": [
        "Membuat objek Decision Tree Classifier dengan menggunakan indeks Gini sebagai kriteria pemilihan fitur, batasan kedalaman maksimum pohon adalah 3, dan seed random state adalah 42. Objek ini akan digunakan untuk melatih model Decision Tree. kemudian melatih model Decision Tree Classifier menggunakan data latih X_train dan label latih y_train. Model akan belajar untuk mempelajari pola dalam data untuk melakukan klasifikasi."
      ],
      "metadata": {
        "id": "ypMPVfs8roU3"
      }
    },
    {
      "cell_type": "markdown",
      "source": [
        "###Melakukan Prediksi Pada data uji"
      ],
      "metadata": {
        "id": "Kvy71AxyrsgJ"
      }
    },
    {
      "cell_type": "code",
      "source": [
        "y_pred_gini = clf_gini.predict(X_test)"
      ],
      "metadata": {
        "id": "VnkVuF7Hrt3Z"
      },
      "execution_count": 27,
      "outputs": []
    },
    {
      "cell_type": "markdown",
      "source": [
        "Menggunakan model Decision Tree yang telah dilatih untuk melakukan prediksi pada data uji X_test kemudian disimpan dalam variabel y_pred_gini."
      ],
      "metadata": {
        "id": "dX0fXUt1sV0c"
      }
    },
    {
      "cell_type": "markdown",
      "source": [
        "###Menghitung Akurasi model menggunakan kriteria indeks Gini pada data uji"
      ],
      "metadata": {
        "id": "_vpgbb3-sXKK"
      }
    },
    {
      "cell_type": "code",
      "source": [
        "from sklearn.metrics import accuracy_score\n",
        "print('Model accuracy score with criterion gini index: {0:0.2f}'. format(accuracy_score(y_test, y_pred_gini)))"
      ],
      "metadata": {
        "colab": {
          "base_uri": "https://localhost:8080/"
        },
        "id": "0ZY4FSn7sekk",
        "outputId": "b6bca9d5-1e69-4cfd-8de8-928445f3c4f4"
      },
      "execution_count": 28,
      "outputs": [
        {
          "output_type": "stream",
          "name": "stdout",
          "text": [
            "Model accuracy score with criterion gini index: 1.00\n"
          ]
        }
      ]
    },
    {
      "cell_type": "markdown",
      "source": [
        "###Melakukan Prediksi pada data latih"
      ],
      "metadata": {
        "id": "ByhFocHKshBq"
      }
    },
    {
      "cell_type": "code",
      "source": [
        "y_pred_train_gini = clf_gini.predict(X_train)\n",
        "y_pred_train_gini"
      ],
      "metadata": {
        "colab": {
          "base_uri": "https://localhost:8080/"
        },
        "id": "3TA4s1Fusi1x",
        "outputId": "6f686cd9-e63e-4de4-c20c-6bfb2560246d"
      },
      "execution_count": 29,
      "outputs": [
        {
          "output_type": "execute_result",
          "data": {
            "text/plain": [
              "array(['setosa', 'setosa', 'versicolor', 'setosa', 'setosa', 'virginica',\n",
              "       'versicolor', 'setosa', 'setosa', 'setosa', 'virginica',\n",
              "       'versicolor', 'versicolor', 'setosa', 'setosa', 'versicolor',\n",
              "       'versicolor', 'virginica', 'versicolor', 'virginica', 'versicolor',\n",
              "       'virginica', 'versicolor', 'setosa', 'virginica', 'versicolor',\n",
              "       'setosa', 'setosa', 'setosa', 'versicolor', 'virginica', 'setosa',\n",
              "       'setosa', 'setosa', 'versicolor', 'setosa', 'versicolor',\n",
              "       'virginica', 'setosa', 'versicolor', 'virginica', 'setosa',\n",
              "       'virginica', 'virginica', 'versicolor', 'versicolor', 'virginica',\n",
              "       'versicolor', 'setosa', 'versicolor', 'virginica', 'setosa',\n",
              "       'setosa', 'versicolor', 'versicolor', 'setosa', 'virginica',\n",
              "       'setosa', 'setosa', 'virginica', 'versicolor', 'virginica',\n",
              "       'versicolor', 'versicolor', 'virginica', 'versicolor', 'setosa',\n",
              "       'setosa', 'versicolor', 'virginica', 'setosa', 'setosa', 'setosa',\n",
              "       'versicolor', 'virginica', 'setosa', 'virginica', 'virginica',\n",
              "       'setosa', 'versicolor', 'versicolor', 'virginica', 'versicolor',\n",
              "       'virginica', 'setosa', 'virginica', 'versicolor', 'virginica',\n",
              "       'versicolor', 'versicolor', 'versicolor', 'setosa', 'versicolor',\n",
              "       'versicolor', 'setosa', 'versicolor', 'virginica', 'virginica',\n",
              "       'setosa', 'versicolor', 'virginica', 'versicolor', 'setosa',\n",
              "       'virginica', 'setosa', 'versicolor', 'virginica', 'virginica',\n",
              "       'versicolor', 'virginica', 'versicolor', 'versicolor', 'virginica',\n",
              "       'virginica', 'setosa', 'versicolor', 'virginica', 'setosa',\n",
              "       'versicolor', 'virginica'], dtype=object)"
            ]
          },
          "metadata": {},
          "execution_count": 29
        }
      ]
    },
    {
      "cell_type": "markdown",
      "source": [
        "###Menghitung skor model pada data latih dan data uji"
      ],
      "metadata": {
        "id": "RZ5wDRDVslig"
      }
    },
    {
      "cell_type": "code",
      "source": [
        "print('Training set score: {:.2f}'.format(clf_gini.score(X_train, y_train)))\n",
        "print('Test set score: {:.2f}'.format(clf_gini.score(X_test, y_test)))"
      ],
      "metadata": {
        "colab": {
          "base_uri": "https://localhost:8080/"
        },
        "id": "DVp54Jcisn0T",
        "outputId": "7d442610-6cce-4ff1-b93c-f9c5b08e1dbd"
      },
      "execution_count": 30,
      "outputs": [
        {
          "output_type": "stream",
          "name": "stdout",
          "text": [
            "Training set score: 0.96\n",
            "Test set score: 1.00\n"
          ]
        }
      ]
    },
    {
      "cell_type": "markdown",
      "source": [
        "Skor ini menunjukkan seberapa baik model dapat diterapkan pada data yang tidak terlihat sebelumnya."
      ],
      "metadata": {
        "id": "Xk8p6q5Wsp2g"
      }
    },
    {
      "cell_type": "markdown",
      "source": [
        "###Membuat Visualisasi Decision Tree"
      ],
      "metadata": {
        "id": "IPB-932bsrnP"
      }
    },
    {
      "cell_type": "code",
      "source": [
        "plt.figure(figsize=(10,6))\n",
        "\n",
        "from sklearn import tree\n",
        "\n",
        "tree.plot_tree(clf_gini.fit(X_train, y_train))\n",
        "plt.show()"
      ],
      "metadata": {
        "colab": {
          "base_uri": "https://localhost:8080/",
          "height": 499
        },
        "id": "MeBaOv6nsuJY",
        "outputId": "f3f971df-b36f-4566-c900-c3f71cc69c93"
      },
      "execution_count": 31,
      "outputs": [
        {
          "output_type": "display_data",
          "data": {
            "text/plain": [
              "<Figure size 1000x600 with 1 Axes>"
            ],
            "image/png": "[encoded data removed]"
          },
          "metadata": {}
        }
      ]
    },
    {
      "cell_type": "markdown",
      "source": [
        "#**Kesimpulan**"
      ],
      "metadata": {
        "id": "ElgoyaNos5C3"
      }
    },
    {
      "cell_type": "markdown",
      "source": [
        "Dari beberapa metode yang digunakan yaitu Decision Tree, KNN , Naive Bayes dan ANN untuk klasifikasi menggunakan dataset iris yang berjumlah 150 data dengan jumlah label sebanyak 3 kelas dimana masing-masing kelas terdapat 50 data . Kemudian dilakukan pembagian data 80:20 yaitu data training sebanyak 80% dan data latih sebanyak 20%. Maka didapatkan hasil sebagai berikut:\n",
        "1. pada metode Decision Tree nilai akurasi yang didapat menggunakan kriteria indeks Gini dengan batasan kedalaman maksimum pohon (max_depth) adalah 3 didapatkan hasil akurasi 1.0 atau 100%.\n",
        "2. pada metode KNN nilai akurasi yang didapat yaitu 1.0 dengan jumlah k = 5.\n",
        "3. pada metode Naive Bayes didapatkan hasil akurasi 0.1 atau 100%.\n",
        "4. pada metode ANN didapatkan hasil akurasi 0.93"
      ],
      "metadata": {
        "id": "luzIDxm_s7O_"
      }
    }
  ]
}