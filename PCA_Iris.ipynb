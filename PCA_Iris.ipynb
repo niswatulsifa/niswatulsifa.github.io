{
  "nbformat": 4,
  "nbformat_minor": 0,
  "metadata": {
    "colab": {
      "provenance": [],
      "authorship_tag": "ABX9TyOHxmD7lGb9bk87kbCHXHct",
      "include_colab_link": true
    },
    "kernelspec": {
      "name": "python3",
      "display_name": "Python 3"
    },
    "language_info": {
      "name": "python"
    }
  },
  "cells": [
    {
      "cell_type": "markdown",
      "metadata": {
        "id": "view-in-github",
        "colab_type": "text"
      },
      "source": [
        "<a href=\"https://colab.research.google.com/github/niswatulsifa/niswatulsifa.github.io/blob/main/PCA_Iris.ipynb\" target=\"_parent\"><img src=\"https://colab.research.google.com/assets/colab-badge.svg\" alt=\"Open In Colab\"/></a>"
      ]
    },
    {
      "cell_type": "markdown",
      "source": [
        "#**Principal Component Analysis**"
      ],
      "metadata": {
        "id": "VSt8nVRkgeRO"
      }
    },
    {
      "cell_type": "markdown",
      "source": [
        "Principal component analysis (PCA) adalah teknik yang digunakan untuk menyederhanakan suatu data, dengan cara mentransformasi data secara linier sehingga terbentuk sistem koordinat baru dengan varians maksimum. PCA dapat digunakan untuk mereduksi dimensi suatu data tanpa mengurangi karakteristik data tersebut secara signifikan. "
      ],
      "metadata": {
        "id": "2Y3GfXcEiOWY"
      }
    },
    {
      "cell_type": "markdown",
      "source": [
        "### Import Library"
      ],
      "metadata": {
        "id": "Y9IW6ifFtcmc"
      }
    },
    {
      "cell_type": "code",
      "execution_count": null,
      "metadata": {
        "id": "q14eep7MdPLs"
      },
      "outputs": [],
      "source": [
        "import pandas as pd\n",
        "import numpy as np\n",
        "import seaborn as sns\n",
        "import matplotlib.pyplot as plt"
      ]
    },
    {
      "cell_type": "markdown",
      "source": [
        "Kode tersebut mengimpor beberapa pustaka yang umum digunakan dalam analisis dan visualisasi data di Python. Pandas (`pd`) digunakan untuk manipulasi data, NumPy (`np`) digunakan untuk operasi numerik, Seaborn (`sns`) digunakan untuk visualisasi data, dan Matplotlib (`plt`) digunakan untuk membuat plot dan grafik."
      ],
      "metadata": {
        "id": "piDM5WYYki2K"
      }
    },
    {
      "cell_type": "markdown",
      "source": [
        "###Import Data"
      ],
      "metadata": {
        "id": "pWdN57RytiIc"
      }
    },
    {
      "cell_type": "code",
      "source": [
        "df=pd.read_csv('https://raw.githubusercontent.com/niswatulsifa/data_iris/master/IrisDataset.csv', sep=',')\n",
        "df.head()"
      ],
      "metadata": {
        "colab": {
          "base_uri": "https://localhost:8080/",
          "height": 206
        },
        "id": "gqiUHPI-dZJG",
        "outputId": "ca2aeb92-06f0-40d9-ad77-78dc5652bbf8"
      },
      "execution_count": null,
      "outputs": [
        {
          "output_type": "execute_result",
          "data": {
            "text/plain": [
              "   sepal_length  sepal_width  petal_length  petal_width species\n",
              "0           5.1          3.5           1.4          0.2  setosa\n",
              "1           4.9          3.0           1.4          0.2  setosa\n",
              "2           4.7          3.2           1.3          0.2  setosa\n",
              "3           4.6          3.1           1.5          0.2  setosa\n",
              "4           5.0          3.6           1.4          0.2  setosa"
            ],
            "text/html": [
              "\n",
              "  <div id=\"df-8a850871-8d3c-4763-962b-e942e07a6c5d\">\n",
              "    <div class=\"colab-df-container\">\n",
              "      <div>\n",
              "<style scoped>\n",
              "    .dataframe tbody tr th:only-of-type {\n",
              "        vertical-align: middle;\n",
              "    }\n",
              "\n",
              "    .dataframe tbody tr th {\n",
              "        vertical-align: top;\n",
              "    }\n",
              "\n",
              "    .dataframe thead th {\n",
              "        text-align: right;\n",
              "    }\n",
              "</style>\n",
              "<table border=\"1\" class=\"dataframe\">\n",
              "  <thead>\n",
              "    <tr style=\"text-align: right;\">\n",
              "      <th></th>\n",
              "      <th>sepal_length</th>\n",
              "      <th>sepal_width</th>\n",
              "      <th>petal_length</th>\n",
              "      <th>petal_width</th>\n",
              "      <th>species</th>\n",
              "    </tr>\n",
              "  </thead>\n",
              "  <tbody>\n",
              "    <tr>\n",
              "      <th>0</th>\n",
              "      <td>5.1</td>\n",
              "      <td>3.5</td>\n",
              "      <td>1.4</td>\n",
              "      <td>0.2</td>\n",
              "      <td>setosa</td>\n",
              "    </tr>\n",
              "    <tr>\n",
              "      <th>1</th>\n",
              "      <td>4.9</td>\n",
              "      <td>3.0</td>\n",
              "      <td>1.4</td>\n",
              "      <td>0.2</td>\n",
              "      <td>setosa</td>\n",
              "    </tr>\n",
              "    <tr>\n",
              "      <th>2</th>\n",
              "      <td>4.7</td>\n",
              "      <td>3.2</td>\n",
              "      <td>1.3</td>\n",
              "      <td>0.2</td>\n",
              "      <td>setosa</td>\n",
              "    </tr>\n",
              "    <tr>\n",
              "      <th>3</th>\n",
              "      <td>4.6</td>\n",
              "      <td>3.1</td>\n",
              "      <td>1.5</td>\n",
              "      <td>0.2</td>\n",
              "      <td>setosa</td>\n",
              "    </tr>\n",
              "    <tr>\n",
              "      <th>4</th>\n",
              "      <td>5.0</td>\n",
              "      <td>3.6</td>\n",
              "      <td>1.4</td>\n",
              "      <td>0.2</td>\n",
              "      <td>setosa</td>\n",
              "    </tr>\n",
              "  </tbody>\n",
              "</table>\n",
              "</div>\n",
              "      <button class=\"colab-df-convert\" onclick=\"convertToInteractive('df-8a850871-8d3c-4763-962b-e942e07a6c5d')\"\n",
              "              title=\"Convert this dataframe to an interactive table.\"\n",
              "              style=\"display:none;\">\n",
              "        \n",
              "  <svg xmlns=\"http://www.w3.org/2000/svg\" height=\"24px\"viewBox=\"0 0 24 24\"\n",
              "       width=\"24px\">\n",
              "    <path d=\"M0 0h24v24H0V0z\" fill=\"none\"/>\n",
              "    <path d=\"M18.56 5.44l.94 2.06.94-2.06 2.06-.94-2.06-.94-.94-2.06-.94 2.06-2.06.94zm-11 1L8.5 8.5l.94-2.06 2.06-.94-2.06-.94L8.5 2.5l-.94 2.06-2.06.94zm10 10l.94 2.06.94-2.06 2.06-.94-2.06-.94-.94-2.06-.94 2.06-2.06.94z\"/><path d=\"M17.41 7.96l-1.37-1.37c-.4-.4-.92-.59-1.43-.59-.52 0-1.04.2-1.43.59L10.3 9.45l-7.72 7.72c-.78.78-.78 2.05 0 2.83L4 21.41c.39.39.9.59 1.41.59.51 0 1.02-.2 1.41-.59l7.78-7.78 2.81-2.81c.8-.78.8-2.07 0-2.86zM5.41 20L4 18.59l7.72-7.72 1.47 1.35L5.41 20z\"/>\n",
              "  </svg>\n",
              "      </button>\n",
              "      \n",
              "  <style>\n",
              "    .colab-df-container {\n",
              "      display:flex;\n",
              "      flex-wrap:wrap;\n",
              "      gap: 12px;\n",
              "    }\n",
              "\n",
              "    .colab-df-convert {\n",
              "      background-color: #E8F0FE;\n",
              "      border: none;\n",
              "      border-radius: 50%;\n",
              "      cursor: pointer;\n",
              "      display: none;\n",
              "      fill: #1967D2;\n",
              "      height: 32px;\n",
              "      padding: 0 0 0 0;\n",
              "      width: 32px;\n",
              "    }\n",
              "\n",
              "    .colab-df-convert:hover {\n",
              "      background-color: #E2EBFA;\n",
              "      box-shadow: 0px 1px 2px rgba(60, 64, 67, 0.3), 0px 1px 3px 1px rgba(60, 64, 67, 0.15);\n",
              "      fill: #174EA6;\n",
              "    }\n",
              "\n",
              "    [theme=dark] .colab-df-convert {\n",
              "      background-color: #3B4455;\n",
              "      fill: #D2E3FC;\n",
              "    }\n",
              "\n",
              "    [theme=dark] .colab-df-convert:hover {\n",
              "      background-color: #434B5C;\n",
              "      box-shadow: 0px 1px 3px 1px rgba(0, 0, 0, 0.15);\n",
              "      filter: drop-shadow(0px 1px 2px rgba(0, 0, 0, 0.3));\n",
              "      fill: #FFFFFF;\n",
              "    }\n",
              "  </style>\n",
              "\n",
              "      <script>\n",
              "        const buttonEl =\n",
              "          document.querySelector('#df-8a850871-8d3c-4763-962b-e942e07a6c5d button.colab-df-convert');\n",
              "        buttonEl.style.display =\n",
              "          google.colab.kernel.accessAllowed ? 'block' : 'none';\n",
              "\n",
              "        async function convertToInteractive(key) {\n",
              "          const element = document.querySelector('#df-8a850871-8d3c-4763-962b-e942e07a6c5d');\n",
              "          const dataTable =\n",
              "            await google.colab.kernel.invokeFunction('convertToInteractive',\n",
              "                                                     [key], {});\n",
              "          if (!dataTable) return;\n",
              "\n",
              "          const docLinkHtml = 'Like what you see? Visit the ' +\n",
              "            '<a target=\"_blank\" href=https://colab.research.google.com/notebooks/data_table.ipynb>data table notebook</a>'\n",
              "            + ' to learn more about interactive tables.';\n",
              "          element.innerHTML = '';\n",
              "          dataTable['output_type'] = 'display_data';\n",
              "          await google.colab.output.renderOutput(dataTable, element);\n",
              "          const docLink = document.createElement('div');\n",
              "          docLink.innerHTML = docLinkHtml;\n",
              "          element.appendChild(docLink);\n",
              "        }\n",
              "      </script>\n",
              "    </div>\n",
              "  </div>\n",
              "  "
            ]
          },
          "metadata": {},
          "execution_count": 3
        }
      ]
    },
    {
      "cell_type": "markdown",
      "source": [
        "1. `df=pd.read_csv('https://raw.githubusercontent.com/niswatulsifa/data_iris/master/IrisDataset.csv', sep=',')`: Kode ini menggunakan fungsi `read_csv()` dari pustaka pandas (`pd`) untuk membaca file CSV dari URL yang diberikan. File CSV tersebut merupakan dataset Iris yang diambil dari repositori GitHub. Parameter `sep=','` digunakan untuk menentukan pemisah antar kolom dalam file CSV.\n",
        "\n",
        "2. `df.head()`: Kode ini digunakan untuk mencetak lima baris pertama dari DataFrame `df`. Fungsi `head()` adalah salah satu metode pandas yang berguna untuk melihat beberapa baris awal dari sebuah DataFrame."
      ],
      "metadata": {
        "id": "TloUtgCxkzLN"
      }
    },
    {
      "cell_type": "markdown",
      "source": [
        "###menghitung jumlah kemunculan setiap nilai unik dalam kolom 'species'"
      ],
      "metadata": {
        "id": "Vy24JAiptoos"
      }
    },
    {
      "cell_type": "code",
      "source": [
        "df['species'].value_counts()"
      ],
      "metadata": {
        "colab": {
          "base_uri": "https://localhost:8080/"
        },
        "id": "KGRZ5mSmdcvb",
        "outputId": "b3c61435-5d6f-4eaf-f022-ba8a281017d4"
      },
      "execution_count": null,
      "outputs": [
        {
          "output_type": "execute_result",
          "data": {
            "text/plain": [
              "setosa        50\n",
              "versicolor    50\n",
              "virginica     50\n",
              "Name: species, dtype: int64"
            ]
          },
          "metadata": {},
          "execution_count": 4
        }
      ]
    },
    {
      "cell_type": "markdown",
      "source": [
        "Kode tersebut menghitung jumlah kemunculan setiap nilai unik dalam kolom 'species' dari DataFrame `df` dan menampilkannya."
      ],
      "metadata": {
        "id": "ELhqf638lD6r"
      }
    },
    {
      "cell_type": "markdown",
      "source": [
        "###mengembalikan daftar kolom yang ada dalam DataFrame"
      ],
      "metadata": {
        "id": "NrAWHMqhtyJ5"
      }
    },
    {
      "cell_type": "code",
      "source": [
        "df.columns"
      ],
      "metadata": {
        "colab": {
          "base_uri": "https://localhost:8080/"
        },
        "id": "juWL41UJdei6",
        "outputId": "b50c0abb-94b7-4203-cfea-7ec68bc1e2d3"
      },
      "execution_count": null,
      "outputs": [
        {
          "output_type": "execute_result",
          "data": {
            "text/plain": [
              "Index(['sepal_length', 'sepal_width', 'petal_length', 'petal_width',\n",
              "       'species'],\n",
              "      dtype='object')"
            ]
          },
          "metadata": {},
          "execution_count": 5
        }
      ]
    },
    {
      "cell_type": "markdown",
      "source": [
        "Kode tersebut mengembalikan daftar kolom yang ada dalam DataFrame `df`."
      ],
      "metadata": {
        "id": "QLdPf8ullOM2"
      }
    },
    {
      "cell_type": "markdown",
      "source": [
        "###memisahkan data dalam DataFrame\n"
      ],
      "metadata": {
        "id": "h8P0wX2bt7tZ"
      }
    },
    {
      "cell_type": "code",
      "source": [
        "X=df.iloc[:,0:4].values\n",
        "y=df.iloc[:,4].values"
      ],
      "metadata": {
        "id": "v2Mw86wddgqz"
      },
      "execution_count": null,
      "outputs": []
    },
    {
      "cell_type": "markdown",
      "source": [
        "1. X=df.iloc[:,0:4].values mengambil nilai-nilai dari kolom 0 hingga 3 dari DataFrame df dan menyimpannya dalam variabel X.\n",
        "\n",
        "2. y=df.iloc[:,4].values mengambil nilai-nilai dari kolom ke-4 (kolom \"species\") dari DataFrame df dan menyimpannya dalam variabel y."
      ],
      "metadata": {
        "id": "ucOkIjDslwNx"
      }
    },
    {
      "cell_type": "markdown",
      "source": [
        "###membuat gambar histogram dari empat fitur dalam DataFrame 'X'"
      ],
      "metadata": {
        "id": "Lpx5rePDuChH"
      }
    },
    {
      "cell_type": "code",
      "source": [
        "label_dict={1: 'setosa',\n",
        "           2: 'versicolor',\n",
        "           3: 'virginica'}\n",
        "feature_dict={0: 'sepal_length',1: 'sepal_width',2: 'petal_length',3: 'petal_width'}\n",
        "\n",
        "with plt.style.context('seaborn-whitegrid'):\n",
        "    plt.figure(figsize=(8,6))\n",
        "    for i in range(4):\n",
        "        plt.subplot(2,2,i+1)\n",
        "        for lab in ('setosa','versicolor','virginica'):\n",
        "            plt.hist(X[y==lab, i],\n",
        "                    label=lab,\n",
        "                    bins=10,\n",
        "                    alpha=0.3)\n",
        "        plt.xlabel(feature_dict[i])\n",
        "    plt.legend(loc='upper right', fancybox=True,fontsize=8)\n",
        "    \n",
        "    plt.tight_layout()\n",
        "    plt.show()"
      ],
      "metadata": {
        "colab": {
          "base_uri": "https://localhost:8080/",
          "height": 607
        },
        "id": "-v8XVPmVdihm",
        "outputId": "27b356e2-5d3a-4110-cb62-edd29abc20d5"
      },
      "execution_count": null,
      "outputs": [
        {
          "output_type": "display_data",
          "data": {
            "text/plain": [
              "<Figure size 800x600 with 4 Axes>"
            ],
            "image/png": "[encoded data removed]"
          },
          "metadata": {}
        }
      ]
    },
    {
      "cell_type": "markdown",
      "source": [
        "1. label_dict adalah kamus yang memetakan nilai numerik (1, 2, 3) ke nama spesies (\"setosa\", \"versicolor\", \"virginica\").\n",
        "\n",
        "2. feature_dict adalah kamus yang memetakan indeks fitur (0, 1, 2, 3) ke nama fitur (\"sepal_length\", \"sepal_width\", \"petal_length\", \"petal_width\").\n",
        "\n",
        "3. with plt.style.context('seaborn-whitegrid'): mengatur gaya plot menjadi \"seaborn-whitegrid\".\n",
        "\n",
        "4. plt.figure(figsize=(8,6)) membuat gambar dengan ukuran 8x6.\n",
        "\n",
        "5. loop for i in range(4), kode berikutnya akan membuat subplot untuk setiap fitur.\n",
        "\n",
        "6. plt.subplot(2,2,i+1) mengatur subplot dengan ukuran 2x2.\n",
        "\n",
        "7. for lab in ('setosa','versicolor','virginica') akan mengulangi tiga spesies dan membuat histogram untuk setiap spesies dengan menggunakan data yang sesuai.\n",
        "\n",
        "8. plt.hist(X[y==lab, i], label=lab, bins=10, alpha=0.3) membuat histogram dengan menggunakan nilai fitur dari spesies yang sesuai. Parameter bins=10 mengatur jumlah bin histogram menjadi 10, dan alpha=0.3 mengatur transparansi histogram.\n",
        "\n",
        "9. plt.xlabel(feature_dict[i]) memberi label sumbu x pada subplot saat ini dengan nama fitur yang sesuai.\n",
        "\n",
        "10. plt.legend(loc='upper right', fancybox=True, fontsize=8) menampilkan legenda dengan label spesies di sudut kanan atas plot. Parameter fancybox=True mengatur tampilan kotak legenda yang bergaya.\n",
        "\n",
        "11. plt.tight_layout() menyesuaikan tata letak plot agar lebih rapi.\n",
        "plt.show() menampilkan plot histogram."
      ],
      "metadata": {
        "id": "QEqtkZxOl9k6"
      }
    },
    {
      "cell_type": "markdown",
      "source": [
        "###melakukan penskalaan standar pada data menggunakan library scikit-learn"
      ],
      "metadata": {
        "id": "Yr5WMO8xuHVL"
      }
    },
    {
      "cell_type": "code",
      "source": [
        "from sklearn.preprocessing import StandardScaler\n",
        "X_std=StandardScaler().fit_transform(X)"
      ],
      "metadata": {
        "id": "FmYWghebdlMm"
      },
      "execution_count": null,
      "outputs": []
    },
    {
      "cell_type": "markdown",
      "source": [
        "###menghitung dan mencetak matriks kovarian dari data yang telah distandardisasi."
      ],
      "metadata": {
        "id": "ZOCOxqFAuMmQ"
      }
    },
    {
      "cell_type": "code",
      "source": [
        "mean_vec=np.mean(X_std,axis=0)\n",
        "cov_mat=(X_std-mean_vec).T.dot((X_std-mean_vec))/(X_std.shape[0]-1)\n",
        "print(\"Covariance Matrix \\n%s\" %cov_mat)"
      ],
      "metadata": {
        "colab": {
          "base_uri": "https://localhost:8080/"
        },
        "id": "_QlfD1Yadn9I",
        "outputId": "5c6bb25c-bdfa-4f5e-cc41-32acf0f99e79"
      },
      "execution_count": null,
      "outputs": [
        {
          "output_type": "stream",
          "name": "stdout",
          "text": [
            "Covariance Matrix \n",
            "[[ 1.00671141 -0.11010327  0.87760486  0.82344326]\n",
            " [-0.11010327  1.00671141 -0.42333835 -0.358937  ]\n",
            " [ 0.87760486 -0.42333835  1.00671141  0.96921855]\n",
            " [ 0.82344326 -0.358937    0.96921855  1.00671141]]\n"
          ]
        }
      ]
    },
    {
      "cell_type": "markdown",
      "source": [
        "Kode tersebut melakukan normalisasi data menggunakan StandardScaler dan kemudian menghitung matriks kovarian dari data yang telah dinormalisasi. Hasilnya dicetak sebagai \"Covariance Matrix\" diikuti oleh nilai matriks kovarian."
      ],
      "metadata": {
        "id": "v7ALlLTRmzbY"
      }
    },
    {
      "cell_type": "markdown",
      "source": [
        "###mencetak matriks kovarian menggunakan np.cov pada data yang telah distandardisasi."
      ],
      "metadata": {
        "id": "9mErzReDuVnn"
      }
    },
    {
      "cell_type": "code",
      "source": [
        "print(\"Numpy Covariance matrix \\n%s\" %np.cov(X_std.T))"
      ],
      "metadata": {
        "colab": {
          "base_uri": "https://localhost:8080/"
        },
        "id": "th5S6PKMdpl4",
        "outputId": "147b89af-35b7-489e-91db-99e437f488c2"
      },
      "execution_count": null,
      "outputs": [
        {
          "output_type": "stream",
          "name": "stdout",
          "text": [
            "Numpy Covariance matrix \n",
            "[[ 1.00671141 -0.11010327  0.87760486  0.82344326]\n",
            " [-0.11010327  1.00671141 -0.42333835 -0.358937  ]\n",
            " [ 0.87760486 -0.42333835  1.00671141  0.96921855]\n",
            " [ 0.82344326 -0.358937    0.96921855  1.00671141]]\n"
          ]
        }
      ]
    },
    {
      "cell_type": "markdown",
      "source": [
        "Kode tersebut menghitung matriks kovarian dari data yang telah dinormalisasi `X_std` menggunakan fungsi `np.cov()`. Hasilnya dicetak sebagai \"Numpy Covariance matrix\" diikuti oleh nilai matriks kovarian."
      ],
      "metadata": {
        "id": "Wt9NC98dnLu7"
      }
    },
    {
      "cell_type": "markdown",
      "source": [
        "###menghitung eigenvector dan eigenvalue dari matriks kovarian, dan mencetak hasilnya."
      ],
      "metadata": {
        "id": "CK4GvHuzua7G"
      }
    },
    {
      "cell_type": "code",
      "source": [
        "cov_mat=np.cov(X_std.T)\n",
        "\n",
        "eig_vals, eig_vecs=np.linalg.eig(cov_mat)\n",
        "\n",
        "print(\"Eigenvectors \\n%s\" %eig_vecs)\n",
        "print(\"Eigenvelues \\n%s\" %eig_vals)"
      ],
      "metadata": {
        "colab": {
          "base_uri": "https://localhost:8080/"
        },
        "id": "oqzGU8-SdrpL",
        "outputId": "e4a90bf5-c293-4f53-a51d-cfcaab070324"
      },
      "execution_count": null,
      "outputs": [
        {
          "output_type": "stream",
          "name": "stdout",
          "text": [
            "Eigenvectors \n",
            "[[ 0.52237162 -0.37231836 -0.72101681  0.26199559]\n",
            " [-0.26335492 -0.92555649  0.24203288 -0.12413481]\n",
            " [ 0.58125401 -0.02109478  0.14089226 -0.80115427]\n",
            " [ 0.56561105 -0.06541577  0.6338014   0.52354627]]\n",
            "Eigenvelues \n",
            "[2.93035378 0.92740362 0.14834223 0.02074601]\n"
          ]
        }
      ]
    },
    {
      "cell_type": "markdown",
      "source": [
        "Kode tersebut menghitung eigenvektor dan eigennilai dari matriks kovarian menggunakan `np.linalg.eig()`. Hasilnya dicetak sebagai \"Eigenvectors\" diikuti oleh nilai eigenvektor, dan \"Eigenvalues\" diikuti oleh nilai eigennilai."
      ],
      "metadata": {
        "id": "rS9yLBhVnZ_c"
      }
    },
    {
      "cell_type": "markdown",
      "source": [
        "##Matriks Korelasi"
      ],
      "metadata": {
        "id": "cDOtClmgjHjp"
      }
    },
    {
      "cell_type": "markdown",
      "source": [
        "###menghitung matriks korelasi, eigenvector, dan eigenvalue, kemudian mencetak hasilnya."
      ],
      "metadata": {
        "id": "3IGKfHcMv6Rm"
      }
    },
    {
      "cell_type": "code",
      "source": [
        "corr_mat1=np.corrcoef(X_std.T)\n",
        "\n",
        "eig_vals, eig_vecs=np.linalg.eig(corr_mat1)\n",
        "\n",
        "print(\"Eigenvectors \\n%s\" %eig_vecs)\n",
        "print(\"Eigenvelues \\n%s\" %eig_vals)"
      ],
      "metadata": {
        "colab": {
          "base_uri": "https://localhost:8080/"
        },
        "id": "swCEwJF8duFh",
        "outputId": "00771dcd-9cf1-42bb-b912-aeeedeacc696"
      },
      "execution_count": null,
      "outputs": [
        {
          "output_type": "stream",
          "name": "stdout",
          "text": [
            "Eigenvectors \n",
            "[[ 0.52237162 -0.37231836 -0.72101681  0.26199559]\n",
            " [-0.26335492 -0.92555649  0.24203288 -0.12413481]\n",
            " [ 0.58125401 -0.02109478  0.14089226 -0.80115427]\n",
            " [ 0.56561105 -0.06541577  0.6338014   0.52354627]]\n",
            "Eigenvelues \n",
            "[2.91081808 0.92122093 0.14735328 0.02060771]\n"
          ]
        }
      ]
    },
    {
      "cell_type": "markdown",
      "source": [
        "Kode tersebut menghitung matriks korelasi `corr_mat1` dari data yang telah dinormalisasi `X_std` menggunakan fungsi `np.corrcoef()`. Selanjutnya, kode menghitung eigenvektor dan eigennilai dari matriks korelasi tersebut menggunakan `np.linalg.eig()`. Hasilnya dicetak sebagai \"Eigenvectors\" diikuti oleh nilai eigenvektor, dan \"Eigenvalues\" diikuti oleh nilai eigennilai."
      ],
      "metadata": {
        "id": "CY64foB9nhob"
      }
    },
    {
      "cell_type": "code",
      "source": [
        "cor_mat2=np.corrcoef(X.T)\n",
        "eig_vals, eig_vecs=np.linalg.eig(cor_mat2)\n",
        "\n",
        "print(\"Eigenvectors \\n%s\" %eig_vecs)\n",
        "print(\"Eigenvelues \\n%s\" %eig_vals)"
      ],
      "metadata": {
        "colab": {
          "base_uri": "https://localhost:8080/"
        },
        "id": "4wb5iHe00d4c",
        "outputId": "4ed93c9a-5318-4bfa-d3fa-de61657a038c"
      },
      "execution_count": null,
      "outputs": [
        {
          "output_type": "stream",
          "name": "stdout",
          "text": [
            "Eigenvectors \n",
            "[[ 0.52237162 -0.37231836 -0.72101681  0.26199559]\n",
            " [-0.26335492 -0.92555649  0.24203288 -0.12413481]\n",
            " [ 0.58125401 -0.02109478  0.14089226 -0.80115427]\n",
            " [ 0.56561105 -0.06541577  0.6338014   0.52354627]]\n",
            "Eigenvelues \n",
            "[2.91081808 0.92122093 0.14735328 0.02060771]\n"
          ]
        }
      ]
    },
    {
      "cell_type": "markdown",
      "source": [
        "###menggunakan Singular Value Decomposition (SVD) pada transpose matriks X_std dan hasilnya disimpan dalam variabel u."
      ],
      "metadata": {
        "id": "ytqn47ClwB_u"
      }
    },
    {
      "cell_type": "code",
      "source": [
        "u, s, v=np.linalg.svd(X_std.T)\n",
        "u"
      ],
      "metadata": {
        "colab": {
          "base_uri": "https://localhost:8080/"
        },
        "id": "5aBj9Nj7dxHk",
        "outputId": "26ca2aa5-8e21-4ff2-a47d-db8ff14822bf"
      },
      "execution_count": null,
      "outputs": [
        {
          "output_type": "execute_result",
          "data": {
            "text/plain": [
              "array([[-0.52237162, -0.37231836,  0.72101681,  0.26199559],\n",
              "       [ 0.26335492, -0.92555649, -0.24203288, -0.12413481],\n",
              "       [-0.58125401, -0.02109478, -0.14089226, -0.80115427],\n",
              "       [-0.56561105, -0.06541577, -0.6338014 ,  0.52354627]])"
            ]
          },
          "metadata": {},
          "execution_count": 14
        }
      ]
    },
    {
      "cell_type": "markdown",
      "source": [
        "Kode tersebut menghitung SVD (Singular Value Decomposition) dari matriks data yang telah dinormalisasi `X_std.T` menggunakan `np.linalg.svd()`. Hasilnya, nilai-nilai dari SVD disimpan dalam variabel `u`, `s`, dan `v`. Kemudian, kode mencetak nilai dari `u`, yang merupakan matriks utama dari SVD."
      ],
      "metadata": {
        "id": "ajTauDd7nqll"
      }
    },
    {
      "cell_type": "markdown",
      "source": [
        "###memverifikasi norma eigenvector dan mencetak pesan jika valid."
      ],
      "metadata": {
        "id": "4-VAizFqwDx0"
      }
    },
    {
      "cell_type": "code",
      "source": [
        "for ev in eig_vecs.T:\n",
        "    np.testing.assert_array_almost_equal(1.0, np.linalg.norm(ev))\n",
        "print(\"Everithing is ok\")"
      ],
      "metadata": {
        "colab": {
          "base_uri": "https://localhost:8080/"
        },
        "id": "G-nxaYNAdzSH",
        "outputId": "14347369-de89-40e2-c24e-70d9ea9de974"
      },
      "execution_count": null,
      "outputs": [
        {
          "output_type": "stream",
          "name": "stdout",
          "text": [
            "Everithing is ok\n"
          ]
        }
      ]
    },
    {
      "cell_type": "markdown",
      "source": [
        "Kode tersebut melakukan iterasi melalui setiap vektor eigen `ev` yang telah di-transpose (`eig_vecs.T`). Pada setiap iterasi, kode menggunakan `np.linalg.norm()` untuk menghitung norma dari vektor eigen tersebut, dan kemudian memastikan bahwa norma tersebut mendekati nilai 1 dengan menggunakan `np.testing.assert_array_almost_equal()`. Jika semua vektor eigen memiliki norma mendekati 1, maka pesan \"Everything is ok\" akan dicetak. Kode ini digunakan untuk memverifikasi bahwa vektor eigen yang dihitung benar-benar merupakan vektor unit."
      ],
      "metadata": {
        "id": "a-kkV2RGn5iF"
      }
    },
    {
      "cell_type": "markdown",
      "source": [
        "###Membuat daftar pasangan (nilai eigen, vektor eigen)"
      ],
      "metadata": {
        "id": "2cyxSMeuwLnH"
      }
    },
    {
      "cell_type": "code",
      "source": [
        "# Make a list of (eigenvalue, eigenvector) tuples\n",
        "eig_pairs = [(np.abs(eig_vals[i]), eig_vecs[:,i]) for i in range(len(eig_vals))]\n",
        "\n",
        "# Sort the (eigenvalue, eigenvector) tuples from high to low\n",
        "eig_pairs.sort(key=lambda x: x[0], reverse=True)\n",
        "\n",
        "# Visually confirm that the list is correctly sorted by decreasing eigenvalues\n",
        "print('Eigenvalues in descending order:')\n",
        "for i in eig_pairs:\n",
        "    print(i[0])"
      ],
      "metadata": {
        "colab": {
          "base_uri": "https://localhost:8080/"
        },
        "id": "g1e1rfP2d1pV",
        "outputId": "ef5a5d0e-360b-432d-e04e-6d581124c245"
      },
      "execution_count": null,
      "outputs": [
        {
          "output_type": "stream",
          "name": "stdout",
          "text": [
            "Eigenvalues in descending order:\n",
            "2.9108180837520528\n",
            "0.9212209307072249\n",
            "0.1473532783050959\n",
            "0.020607707235624884\n"
          ]
        }
      ]
    },
    {
      "cell_type": "markdown",
      "source": [
        "Kode tersebut mengurutkan eigennilai dalam urutan menurun dan mencetaknya. Eigennilai adalah angka yang menggambarkan variasi atau pentingnya setiap vektor eigen dalam matriks data."
      ],
      "metadata": {
        "id": "kQioB5ukn9v0"
      }
    },
    {
      "cell_type": "markdown",
      "source": [
        "###Menghitung persentase variasi dan kumulatif menggunakan eigenvalues terurut."
      ],
      "metadata": {
        "id": "033MHY8KwNVS"
      }
    },
    {
      "cell_type": "code",
      "source": [
        "tot = sum(eig_vals)\n",
        "var_exp = [(i / tot)*100 for i in sorted(eig_vals, reverse=True)]\n",
        "cum_var_exp = np.cumsum(var_exp)"
      ],
      "metadata": {
        "id": "ePyryw-6d3jZ"
      },
      "execution_count": null,
      "outputs": []
    },
    {
      "cell_type": "markdown",
      "source": [
        "Kode tersebut menghitung persentase variasi yang dijelaskan oleh setiap eigennilai, serta menghitung akumulasi persentase variasi dari eigennilai tersebut."
      ],
      "metadata": {
        "id": "UrmsJi8coOVg"
      }
    },
    {
      "cell_type": "markdown",
      "source": [
        "###membuat gambar persentase variasi dan variasi kumulatif yang dijelaskan."
      ],
      "metadata": {
        "id": "qAzcNrlDwQfS"
      }
    },
    {
      "cell_type": "code",
      "source": [
        "with plt.style.context('seaborn-whitegrid'):\n",
        "    plt.figure(figsize=(6, 4))\n",
        "\n",
        "    plt.bar(range(4), var_exp, alpha=0.5, align='center',\n",
        "            label='individual explained variance')\n",
        "    plt.step(range(4), cum_var_exp, where='mid',\n",
        "             label='cumulative explained variance')\n",
        "    plt.ylabel('Explained variance ratio')\n",
        "    plt.xlabel('Principal components')\n",
        "    plt.legend(loc='best')\n",
        "    plt.tight_layout()"
      ],
      "metadata": {
        "colab": {
          "base_uri": "https://localhost:8080/",
          "height": 407
        },
        "id": "soVXuwkQd55Y",
        "outputId": "aeae1241-6902-456e-e2ba-80276e6b6000"
      },
      "execution_count": null,
      "outputs": [
        {
          "output_type": "display_data",
          "data": {
            "text/plain": [
              "<Figure size 600x400 with 1 Axes>"
            ],
            "image/png": "[encoded data removed]"
          },
          "metadata": {}
        }
      ]
    },
    {
      "cell_type": "markdown",
      "source": [
        "1. with plt.style.context('seaborn-whitegrid'):: Kode ini mengatur gaya plot menggunakan seaborn-whitegrid untuk tampilan yang lebih rapi.\n",
        "\n",
        "2. plt.figure(figsize=(6, 4)): Kode ini membuat objek gambar dengan ukuran 6x4 menggunakan plt.figure().\n",
        "\n",
        "3. plt.bar(range(4), var_exp, alpha=0.5, align='center', label='individual explained variance'): Kode ini membuat grafik batang dengan tinggi yang sesuai dengan persentase variasi yang dijelaskan oleh setiap komponen utama. Garis batas pada setiap batang diatur di tengah (align='center'). Garis batas ditampilkan dengan transparansi alpha=0.5. Label untuk grafik batang ini adalah 'individual explained variance'.\n",
        "\n",
        "4. plt.step(range(4), cum_var_exp, where='mid', label='cumulative explained variance'): Kode ini membuat grafik langkah yang menunjukkan akumulasi variasi yang dijelaskan oleh komponen utama. Grafik langkah menunjukkan kenaikan nilai secara bertahap. Label untuk grafik langkah ini adalah 'cumulative explained variance'.\n",
        "\n",
        "5. plt.ylabel('Explained variance ratio'): Kode ini menetapkan label sumbu y sebagai 'Explained variance ratio', yang menggambarkan persentase variasi yang dijelaskan.\n",
        "\n",
        "6. plt.xlabel('Principal components'): Kode ini menetapkan label sumbu x sebagai 'Principal components', yang menggambarkan komponen utama.\n",
        "\n",
        "7. plt.legend(loc='best'): Kode ini menampilkan legenda dengan posisi terbaik (loc='best') yang mencakup label-label yang ditetapkan sebelumnya.\n",
        "\n",
        "8. plt.tight_layout(): Kode ini mengatur tata letak plot secara otomatis untuk memastikan elemen-elemen plot terlihat dengan baik."
      ],
      "metadata": {
        "id": "8LeDKVEKos7j"
      }
    },
    {
      "cell_type": "markdown",
      "source": [
        "###menggabungkan dua vektor eigen terpilih menjadi sebuah matriks"
      ],
      "metadata": {
        "id": "op0qkpLPwWW0"
      }
    },
    {
      "cell_type": "code",
      "source": [
        "matrix_w = np.hstack((eig_pairs[0][1].reshape(4,1),\n",
        "                      eig_pairs[1][1].reshape(4,1)))\n",
        "\n",
        "print('Matrix W:\\n', matrix_w)"
      ],
      "metadata": {
        "colab": {
          "base_uri": "https://localhost:8080/"
        },
        "id": "pmTp_ZpId7fo",
        "outputId": "f0cc71db-dcd5-46db-90ff-687e93cc8e88"
      },
      "execution_count": null,
      "outputs": [
        {
          "output_type": "stream",
          "name": "stdout",
          "text": [
            "Matrix W:\n",
            " [[ 0.52237162 -0.37231836]\n",
            " [-0.26335492 -0.92555649]\n",
            " [ 0.58125401 -0.02109478]\n",
            " [ 0.56561105 -0.06541577]]\n"
          ]
        }
      ]
    },
    {
      "cell_type": "markdown",
      "source": [
        "1. matrix_w = np.hstack((eig_pairs[0][1].reshape(4,1), eig_pairs[1][1].reshape(4,1)))`: Kode ini menggabungkan dua vektor eigen teratas dari `eig_pairs` ke dalam matriks `matrix_w`. Fungsi `np.hstack()` digunakan untuk menggabungkan vektor secara horizontal. `eig_pairs[0][1]` adalah vektor eigen teratas pertama, sedangkan `eig_pairs[1][1]` adalah vektor eigen teratas kedua. Fungsi `reshape(4,1)` digunakan untuk mengubah dimensi vektor menjadi `(4,1)` sehingga dapat digabungkan dalam matriks. Hasilnya disimpan dalam variabel `matrix_w`.\n",
        "\n",
        "2. print('Matrix W:\\n', matrix_w)`: Kode ini mencetak matriks `matrix_w` dengan pesan \"Matrix W:\"."
      ],
      "metadata": {
        "id": "IZxs7D6vpIRu"
      }
    },
    {
      "cell_type": "markdown",
      "source": [
        "###mengalikan matriks X_std dengan matriks W dan menyimpan hasilnya dalam matriks Y."
      ],
      "metadata": {
        "id": "_4ZsR9tDwXzj"
      }
    },
    {
      "cell_type": "code",
      "source": [
        "Y = X_std.dot(matrix_w)"
      ],
      "metadata": {
        "id": "AEJlIA7dd930"
      },
      "execution_count": null,
      "outputs": []
    },
    {
      "cell_type": "markdown",
      "source": [
        "Y = X_std.dot(matrix_w): Kode ini melakukan perkalian antara matriks data yang telah dinormalisasi X_std dengan matriks transformasi matrix_w menggunakan operator dot(). Hasilnya disimpan dalam variabel Y, yang merupakan matriks hasil transformasi."
      ],
      "metadata": {
        "id": "s50T2wuspaHp"
      }
    },
    {
      "cell_type": "markdown",
      "source": [
        "###membuat scatter plot dua dimensi dengan warna berbeda untuk setiap label."
      ],
      "metadata": {
        "id": "07vW99WswbYu"
      }
    },
    {
      "cell_type": "code",
      "source": [
        "with plt.style.context('seaborn-whitegrid'):\n",
        "    plt.figure(figsize=(6, 4))\n",
        "    for lab, col in zip(('setosa', 'virginica', 'versicolor'),\n",
        "                        ('blue', 'red', 'green')):\n",
        "        plt.scatter(Y[y==lab, 0],\n",
        "                    Y[y==lab, 1],\n",
        "                    label=lab,\n",
        "                    c=col)\n",
        "    plt.xlabel('Principal Component 1')\n",
        "    plt.ylabel('Principal Component 2')\n",
        "    plt.legend(loc='lower center')\n",
        "    plt.tight_layout()\n",
        "    plt.show()"
      ],
      "metadata": {
        "colab": {
          "base_uri": "https://localhost:8080/",
          "height": 407
        },
        "id": "h9_1QSmRd_vK",
        "outputId": "4eed91c6-fa15-4e10-9624-66de93f0dfdf"
      },
      "execution_count": null,
      "outputs": [
        {
          "output_type": "display_data",
          "data": {
            "text/plain": [
              "<Figure size 600x400 with 1 Axes>"
            ],
            "image/png": "[encoded data removed]"
          },
          "metadata": {}
        }
      ]
    },
    {
      "cell_type": "markdown",
      "source": [
        "Kode tersebut membuat scatter plot dari hasil transformasi `Y` dengan dua komponen utama. Setiap kelas ditampilkan dengan warna yang berbeda dalam plot tersebut."
      ],
      "metadata": {
        "id": "QwBkSitnqY1s"
      }
    },
    {
      "cell_type": "markdown",
      "source": [
        "###mengubah data 'X_std' menjadi matriks 'Y_sklearn' berdimensi dua.\n"
      ],
      "metadata": {
        "id": "YfE-es7BwgDj"
      }
    },
    {
      "cell_type": "code",
      "source": [
        "from sklearn.decomposition import PCA as sklearnPCA\n",
        "sklearn_pca = sklearnPCA(n_components=2)\n",
        "Y_sklearn = sklearn_pca.fit_transform(X_std)"
      ],
      "metadata": {
        "id": "dWYOK5UoeCrE"
      },
      "execution_count": null,
      "outputs": []
    },
    {
      "cell_type": "markdown",
      "source": [
        "###membuat scatter plot dua dimensi dengan warna berbeda untuk setiap label"
      ],
      "metadata": {
        "id": "NhDCS2AewjCV"
      }
    },
    {
      "cell_type": "code",
      "source": [
        "with plt.style.context('seaborn-whitegrid'):\n",
        "    plt.figure(figsize=(6, 4))\n",
        "    for lab, col in zip(('setosa', 'virginica', 'versicolor'),\n",
        "                        ('blue', 'red', 'green')):\n",
        "        plt.scatter(Y_sklearn[y==lab, 0],\n",
        "                    Y_sklearn[y==lab, 1],\n",
        "                    label=lab,\n",
        "                    c=col)\n",
        "    plt.xlabel('Principal Component 1')\n",
        "    plt.ylabel('Principal Component 2')\n",
        "    plt.legend(loc='upper center')\n",
        "    plt.tight_layout()\n",
        "    plt.show()"
      ],
      "metadata": {
        "colab": {
          "base_uri": "https://localhost:8080/",
          "height": 407
        },
        "id": "rZLMc6YWeEXp",
        "outputId": "590c7e5c-cdb2-4aaa-8314-daff09710ce2"
      },
      "execution_count": null,
      "outputs": [
        {
          "output_type": "display_data",
          "data": {
            "text/plain": [
              "<Figure size 600x400 with 1 Axes>"
            ],
            "image/png": "[encoded data removed]"
          },
          "metadata": {}
        }
      ]
    },
    {
      "cell_type": "markdown",
      "source": [
        "Kode tersebut menggunakan metode PCA dari scikit-learn untuk melakukan reduksi dimensi dan membuat scatter plot dari hasil transformasi. Hasil transformasi disimpan dalam variabel `Y_sklearn`, dan plot tersebut menampilkan titik-titik dengan warna yang berbeda untuk setiap kelas."
      ],
      "metadata": {
        "id": "LQfCd45Oqgr3"
      }
    },
    {
      "cell_type": "markdown",
      "source": [
        "###DataFrame 'data' yang berisi kolom 'X' dan 'Y' yang berisi nilai dari matriks Y_sklearn."
      ],
      "metadata": {
        "id": "RSSKDJzLwo8p"
      }
    },
    {
      "cell_type": "code",
      "source": [
        "data=pd.DataFrame(Y_sklearn)\n",
        "data.columns=['X','Y']\n",
        "data"
      ],
      "metadata": {
        "colab": {
          "base_uri": "https://localhost:8080/",
          "height": 424
        },
        "id": "pf-P9cKkj1pG",
        "outputId": "32cfc826-52d4-4552-f8b0-08abfa9d8feb"
      },
      "execution_count": null,
      "outputs": [
        {
          "output_type": "execute_result",
          "data": {
            "text/plain": [
              "            X         Y\n",
              "0   -2.264542  0.505704\n",
              "1   -2.086426 -0.655405\n",
              "2   -2.367950 -0.318477\n",
              "3   -2.304197 -0.575368\n",
              "4   -2.388777  0.674767\n",
              "..        ...       ...\n",
              "145  1.870522  0.382822\n",
              "146  1.558492 -0.905314\n",
              "147  1.520845  0.266795\n",
              "148  1.376391  1.016362\n",
              "149  0.959299 -0.022284\n",
              "\n",
              "[150 rows x 2 columns]"
            ],
            "text/html": [
              "\n",
              "  <div id=\"df-29a14934-ab56-4e97-a064-ff7bd52f80ad\">\n",
              "    <div class=\"colab-df-container\">\n",
              "      <div>\n",
              "<style scoped>\n",
              "    .dataframe tbody tr th:only-of-type {\n",
              "        vertical-align: middle;\n",
              "    }\n",
              "\n",
              "    .dataframe tbody tr th {\n",
              "        vertical-align: top;\n",
              "    }\n",
              "\n",
              "    .dataframe thead th {\n",
              "        text-align: right;\n",
              "    }\n",
              "</style>\n",
              "<table border=\"1\" class=\"dataframe\">\n",
              "  <thead>\n",
              "    <tr style=\"text-align: right;\">\n",
              "      <th></th>\n",
              "      <th>X</th>\n",
              "      <th>Y</th>\n",
              "    </tr>\n",
              "  </thead>\n",
              "  <tbody>\n",
              "    <tr>\n",
              "      <th>0</th>\n",
              "      <td>-2.264542</td>\n",
              "      <td>0.505704</td>\n",
              "    </tr>\n",
              "    <tr>\n",
              "      <th>1</th>\n",
              "      <td>-2.086426</td>\n",
              "      <td>-0.655405</td>\n",
              "    </tr>\n",
              "    <tr>\n",
              "      <th>2</th>\n",
              "      <td>-2.367950</td>\n",
              "      <td>-0.318477</td>\n",
              "    </tr>\n",
              "    <tr>\n",
              "      <th>3</th>\n",
              "      <td>-2.304197</td>\n",
              "      <td>-0.575368</td>\n",
              "    </tr>\n",
              "    <tr>\n",
              "      <th>4</th>\n",
              "      <td>-2.388777</td>\n",
              "      <td>0.674767</td>\n",
              "    </tr>\n",
              "    <tr>\n",
              "      <th>...</th>\n",
              "      <td>...</td>\n",
              "      <td>...</td>\n",
              "    </tr>\n",
              "    <tr>\n",
              "      <th>145</th>\n",
              "      <td>1.870522</td>\n",
              "      <td>0.382822</td>\n",
              "    </tr>\n",
              "    <tr>\n",
              "      <th>146</th>\n",
              "      <td>1.558492</td>\n",
              "      <td>-0.905314</td>\n",
              "    </tr>\n",
              "    <tr>\n",
              "      <th>147</th>\n",
              "      <td>1.520845</td>\n",
              "      <td>0.266795</td>\n",
              "    </tr>\n",
              "    <tr>\n",
              "      <th>148</th>\n",
              "      <td>1.376391</td>\n",
              "      <td>1.016362</td>\n",
              "    </tr>\n",
              "    <tr>\n",
              "      <th>149</th>\n",
              "      <td>0.959299</td>\n",
              "      <td>-0.022284</td>\n",
              "    </tr>\n",
              "  </tbody>\n",
              "</table>\n",
              "<p>150 rows × 2 columns</p>\n",
              "</div>\n",
              "      <button class=\"colab-df-convert\" onclick=\"convertToInteractive('df-29a14934-ab56-4e97-a064-ff7bd52f80ad')\"\n",
              "              title=\"Convert this dataframe to an interactive table.\"\n",
              "              style=\"display:none;\">\n",
              "        \n",
              "  <svg xmlns=\"http://www.w3.org/2000/svg\" height=\"24px\"viewBox=\"0 0 24 24\"\n",
              "       width=\"24px\">\n",
              "    <path d=\"M0 0h24v24H0V0z\" fill=\"none\"/>\n",
              "    <path d=\"M18.56 5.44l.94 2.06.94-2.06 2.06-.94-2.06-.94-.94-2.06-.94 2.06-2.06.94zm-11 1L8.5 8.5l.94-2.06 2.06-.94-2.06-.94L8.5 2.5l-.94 2.06-2.06.94zm10 10l.94 2.06.94-2.06 2.06-.94-2.06-.94-.94-2.06-.94 2.06-2.06.94z\"/><path d=\"M17.41 7.96l-1.37-1.37c-.4-.4-.92-.59-1.43-.59-.52 0-1.04.2-1.43.59L10.3 9.45l-7.72 7.72c-.78.78-.78 2.05 0 2.83L4 21.41c.39.39.9.59 1.41.59.51 0 1.02-.2 1.41-.59l7.78-7.78 2.81-2.81c.8-.78.8-2.07 0-2.86zM5.41 20L4 18.59l7.72-7.72 1.47 1.35L5.41 20z\"/>\n",
              "  </svg>\n",
              "      </button>\n",
              "      \n",
              "  <style>\n",
              "    .colab-df-container {\n",
              "      display:flex;\n",
              "      flex-wrap:wrap;\n",
              "      gap: 12px;\n",
              "    }\n",
              "\n",
              "    .colab-df-convert {\n",
              "      background-color: #E8F0FE;\n",
              "      border: none;\n",
              "      border-radius: 50%;\n",
              "      cursor: pointer;\n",
              "      display: none;\n",
              "      fill: #1967D2;\n",
              "      height: 32px;\n",
              "      padding: 0 0 0 0;\n",
              "      width: 32px;\n",
              "    }\n",
              "\n",
              "    .colab-df-convert:hover {\n",
              "      background-color: #E2EBFA;\n",
              "      box-shadow: 0px 1px 2px rgba(60, 64, 67, 0.3), 0px 1px 3px 1px rgba(60, 64, 67, 0.15);\n",
              "      fill: #174EA6;\n",
              "    }\n",
              "\n",
              "    [theme=dark] .colab-df-convert {\n",
              "      background-color: #3B4455;\n",
              "      fill: #D2E3FC;\n",
              "    }\n",
              "\n",
              "    [theme=dark] .colab-df-convert:hover {\n",
              "      background-color: #434B5C;\n",
              "      box-shadow: 0px 1px 3px 1px rgba(0, 0, 0, 0.15);\n",
              "      filter: drop-shadow(0px 1px 2px rgba(0, 0, 0, 0.3));\n",
              "      fill: #FFFFFF;\n",
              "    }\n",
              "  </style>\n",
              "\n",
              "      <script>\n",
              "        const buttonEl =\n",
              "          document.querySelector('#df-29a14934-ab56-4e97-a064-ff7bd52f80ad button.colab-df-convert');\n",
              "        buttonEl.style.display =\n",
              "          google.colab.kernel.accessAllowed ? 'block' : 'none';\n",
              "\n",
              "        async function convertToInteractive(key) {\n",
              "          const element = document.querySelector('#df-29a14934-ab56-4e97-a064-ff7bd52f80ad');\n",
              "          const dataTable =\n",
              "            await google.colab.kernel.invokeFunction('convertToInteractive',\n",
              "                                                     [key], {});\n",
              "          if (!dataTable) return;\n",
              "\n",
              "          const docLinkHtml = 'Like what you see? Visit the ' +\n",
              "            '<a target=\"_blank\" href=https://colab.research.google.com/notebooks/data_table.ipynb>data table notebook</a>'\n",
              "            + ' to learn more about interactive tables.';\n",
              "          element.innerHTML = '';\n",
              "          dataTable['output_type'] = 'display_data';\n",
              "          await google.colab.output.renderOutput(dataTable, element);\n",
              "          const docLink = document.createElement('div');\n",
              "          docLink.innerHTML = docLinkHtml;\n",
              "          element.appendChild(docLink);\n",
              "        }\n",
              "      </script>\n",
              "    </div>\n",
              "  </div>\n",
              "  "
            ]
          },
          "metadata": {},
          "execution_count": 24
        }
      ]
    },
    {
      "cell_type": "markdown",
      "source": [
        "Kode tersebut membuat sebuah DataFrame dari hasil transformasi PCA (`Y_sklearn`). DataFrame tersebut memiliki dua kolom dengan nama 'X' dan 'Y', yang mewakili komponen utama pertama dan kedua."
      ],
      "metadata": {
        "id": "PibfPm6wqk7b"
      }
    },
    {
      "cell_type": "code",
      "source": [
        "data['species']=df['species']\n",
        "data"
      ],
      "metadata": {
        "colab": {
          "base_uri": "https://localhost:8080/",
          "height": 424
        },
        "id": "nwVxZ878j33i",
        "outputId": "47d41974-d4e7-428c-cc09-490986f9b427"
      },
      "execution_count": null,
      "outputs": [
        {
          "output_type": "execute_result",
          "data": {
            "text/plain": [
              "            X         Y    species\n",
              "0   -2.264542  0.505704     setosa\n",
              "1   -2.086426 -0.655405     setosa\n",
              "2   -2.367950 -0.318477     setosa\n",
              "3   -2.304197 -0.575368     setosa\n",
              "4   -2.388777  0.674767     setosa\n",
              "..        ...       ...        ...\n",
              "145  1.870522  0.382822  virginica\n",
              "146  1.558492 -0.905314  virginica\n",
              "147  1.520845  0.266795  virginica\n",
              "148  1.376391  1.016362  virginica\n",
              "149  0.959299 -0.022284  virginica\n",
              "\n",
              "[150 rows x 3 columns]"
            ],
            "text/html": [
              "\n",
              "  <div id=\"df-c171a67b-7408-4db5-8431-31776e4a06f6\">\n",
              "    <div class=\"colab-df-container\">\n",
              "      <div>\n",
              "<style scoped>\n",
              "    .dataframe tbody tr th:only-of-type {\n",
              "        vertical-align: middle;\n",
              "    }\n",
              "\n",
              "    .dataframe tbody tr th {\n",
              "        vertical-align: top;\n",
              "    }\n",
              "\n",
              "    .dataframe thead th {\n",
              "        text-align: right;\n",
              "    }\n",
              "</style>\n",
              "<table border=\"1\" class=\"dataframe\">\n",
              "  <thead>\n",
              "    <tr style=\"text-align: right;\">\n",
              "      <th></th>\n",
              "      <th>X</th>\n",
              "      <th>Y</th>\n",
              "      <th>species</th>\n",
              "    </tr>\n",
              "  </thead>\n",
              "  <tbody>\n",
              "    <tr>\n",
              "      <th>0</th>\n",
              "      <td>-2.264542</td>\n",
              "      <td>0.505704</td>\n",
              "      <td>setosa</td>\n",
              "    </tr>\n",
              "    <tr>\n",
              "      <th>1</th>\n",
              "      <td>-2.086426</td>\n",
              "      <td>-0.655405</td>\n",
              "      <td>setosa</td>\n",
              "    </tr>\n",
              "    <tr>\n",
              "      <th>2</th>\n",
              "      <td>-2.367950</td>\n",
              "      <td>-0.318477</td>\n",
              "      <td>setosa</td>\n",
              "    </tr>\n",
              "    <tr>\n",
              "      <th>3</th>\n",
              "      <td>-2.304197</td>\n",
              "      <td>-0.575368</td>\n",
              "      <td>setosa</td>\n",
              "    </tr>\n",
              "    <tr>\n",
              "      <th>4</th>\n",
              "      <td>-2.388777</td>\n",
              "      <td>0.674767</td>\n",
              "      <td>setosa</td>\n",
              "    </tr>\n",
              "    <tr>\n",
              "      <th>...</th>\n",
              "      <td>...</td>\n",
              "      <td>...</td>\n",
              "      <td>...</td>\n",
              "    </tr>\n",
              "    <tr>\n",
              "      <th>145</th>\n",
              "      <td>1.870522</td>\n",
              "      <td>0.382822</td>\n",
              "      <td>virginica</td>\n",
              "    </tr>\n",
              "    <tr>\n",
              "      <th>146</th>\n",
              "      <td>1.558492</td>\n",
              "      <td>-0.905314</td>\n",
              "      <td>virginica</td>\n",
              "    </tr>\n",
              "    <tr>\n",
              "      <th>147</th>\n",
              "      <td>1.520845</td>\n",
              "      <td>0.266795</td>\n",
              "      <td>virginica</td>\n",
              "    </tr>\n",
              "    <tr>\n",
              "      <th>148</th>\n",
              "      <td>1.376391</td>\n",
              "      <td>1.016362</td>\n",
              "      <td>virginica</td>\n",
              "    </tr>\n",
              "    <tr>\n",
              "      <th>149</th>\n",
              "      <td>0.959299</td>\n",
              "      <td>-0.022284</td>\n",
              "      <td>virginica</td>\n",
              "    </tr>\n",
              "  </tbody>\n",
              "</table>\n",
              "<p>150 rows × 3 columns</p>\n",
              "</div>\n",
              "      <button class=\"colab-df-convert\" onclick=\"convertToInteractive('df-c171a67b-7408-4db5-8431-31776e4a06f6')\"\n",
              "              title=\"Convert this dataframe to an interactive table.\"\n",
              "              style=\"display:none;\">\n",
              "        \n",
              "  <svg xmlns=\"http://www.w3.org/2000/svg\" height=\"24px\"viewBox=\"0 0 24 24\"\n",
              "       width=\"24px\">\n",
              "    <path d=\"M0 0h24v24H0V0z\" fill=\"none\"/>\n",
              "    <path d=\"M18.56 5.44l.94 2.06.94-2.06 2.06-.94-2.06-.94-.94-2.06-.94 2.06-2.06.94zm-11 1L8.5 8.5l.94-2.06 2.06-.94-2.06-.94L8.5 2.5l-.94 2.06-2.06.94zm10 10l.94 2.06.94-2.06 2.06-.94-2.06-.94-.94-2.06-.94 2.06-2.06.94z\"/><path d=\"M17.41 7.96l-1.37-1.37c-.4-.4-.92-.59-1.43-.59-.52 0-1.04.2-1.43.59L10.3 9.45l-7.72 7.72c-.78.78-.78 2.05 0 2.83L4 21.41c.39.39.9.59 1.41.59.51 0 1.02-.2 1.41-.59l7.78-7.78 2.81-2.81c.8-.78.8-2.07 0-2.86zM5.41 20L4 18.59l7.72-7.72 1.47 1.35L5.41 20z\"/>\n",
              "  </svg>\n",
              "      </button>\n",
              "      \n",
              "  <style>\n",
              "    .colab-df-container {\n",
              "      display:flex;\n",
              "      flex-wrap:wrap;\n",
              "      gap: 12px;\n",
              "    }\n",
              "\n",
              "    .colab-df-convert {\n",
              "      background-color: #E8F0FE;\n",
              "      border: none;\n",
              "      border-radius: 50%;\n",
              "      cursor: pointer;\n",
              "      display: none;\n",
              "      fill: #1967D2;\n",
              "      height: 32px;\n",
              "      padding: 0 0 0 0;\n",
              "      width: 32px;\n",
              "    }\n",
              "\n",
              "    .colab-df-convert:hover {\n",
              "      background-color: #E2EBFA;\n",
              "      box-shadow: 0px 1px 2px rgba(60, 64, 67, 0.3), 0px 1px 3px 1px rgba(60, 64, 67, 0.15);\n",
              "      fill: #174EA6;\n",
              "    }\n",
              "\n",
              "    [theme=dark] .colab-df-convert {\n",
              "      background-color: #3B4455;\n",
              "      fill: #D2E3FC;\n",
              "    }\n",
              "\n",
              "    [theme=dark] .colab-df-convert:hover {\n",
              "      background-color: #434B5C;\n",
              "      box-shadow: 0px 1px 3px 1px rgba(0, 0, 0, 0.15);\n",
              "      filter: drop-shadow(0px 1px 2px rgba(0, 0, 0, 0.3));\n",
              "      fill: #FFFFFF;\n",
              "    }\n",
              "  </style>\n",
              "\n",
              "      <script>\n",
              "        const buttonEl =\n",
              "          document.querySelector('#df-c171a67b-7408-4db5-8431-31776e4a06f6 button.colab-df-convert');\n",
              "        buttonEl.style.display =\n",
              "          google.colab.kernel.accessAllowed ? 'block' : 'none';\n",
              "\n",
              "        async function convertToInteractive(key) {\n",
              "          const element = document.querySelector('#df-c171a67b-7408-4db5-8431-31776e4a06f6');\n",
              "          const dataTable =\n",
              "            await google.colab.kernel.invokeFunction('convertToInteractive',\n",
              "                                                     [key], {});\n",
              "          if (!dataTable) return;\n",
              "\n",
              "          const docLinkHtml = 'Like what you see? Visit the ' +\n",
              "            '<a target=\"_blank\" href=https://colab.research.google.com/notebooks/data_table.ipynb>data table notebook</a>'\n",
              "            + ' to learn more about interactive tables.';\n",
              "          element.innerHTML = '';\n",
              "          dataTable['output_type'] = 'display_data';\n",
              "          await google.colab.output.renderOutput(dataTable, element);\n",
              "          const docLink = document.createElement('div');\n",
              "          docLink.innerHTML = docLinkHtml;\n",
              "          element.appendChild(docLink);\n",
              "        }\n",
              "      </script>\n",
              "    </div>\n",
              "  </div>\n",
              "  "
            ]
          },
          "metadata": {},
          "execution_count": 25
        }
      ]
    },
    {
      "cell_type": "markdown",
      "source": [
        "Kode tersebut menambahkan kolom 'species' ke DataFrame `data` dan mengisinya dengan nilai dari kolom 'species' pada DataFrame `df`."
      ],
      "metadata": {
        "id": "-osG2R7Iqv8G"
      }
    }
  ]
}